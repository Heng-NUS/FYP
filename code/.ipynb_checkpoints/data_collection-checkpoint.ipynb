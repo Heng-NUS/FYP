{
 "cells": [
  {
   "cell_type": "code",
   "execution_count": 1,
   "metadata": {
    "ExecuteTime": {
     "end_time": "2020-03-04T03:03:32.092929Z",
     "start_time": "2020-03-04T03:03:31.734148Z"
    }
   },
   "outputs": [],
   "source": [
    "import pandas as pd\n",
    "import numpy as np\n",
    "import json\n",
    "import re"
   ]
  },
  {
   "cell_type": "code",
   "execution_count": 4,
   "metadata": {
    "ExecuteTime": {
     "end_time": "2019-12-23T01:36:51.898390Z",
     "start_time": "2019-12-23T01:36:51.876342Z"
    }
   },
   "outputs": [],
   "source": [
    "data = []\n",
    "with open(\"./search_100_tweets_sample.json\", 'r', encoding='utf-8') as f:\n",
    "    for line in f.readlines():\n",
    "        data.append(json.loads(line))"
   ]
  },
  {
   "cell_type": "code",
   "execution_count": 6,
   "metadata": {
    "ExecuteTime": {
     "end_time": "2019-12-23T01:37:06.853857Z",
     "start_time": "2019-12-23T01:37:06.850473Z"
    }
   },
   "outputs": [
    {
     "data": {
      "text/plain": [
       "100"
      ]
     },
     "execution_count": 6,
     "metadata": {},
     "output_type": "execute_result"
    }
   ],
   "source": [
    "len(data)"
   ]
  },
  {
   "cell_type": "code",
   "execution_count": 12,
   "metadata": {
    "ExecuteTime": {
     "end_time": "2019-12-23T01:38:53.949991Z",
     "start_time": "2019-12-23T01:38:53.941496Z"
    }
   },
   "outputs": [
    {
     "data": {
      "text/plain": [
       "{'_id': {'$oid': '5c230f8e28934248648f406e'},\n",
       " 'created_at': 'Wed Dec 12 09:45:01 +0000 2018',\n",
       " 'id': {'$numberLong': '1072789410448470018'},\n",
       " 'id_str': '1072789410448470018',\n",
       " 'text': 'Mae 2018 wedi bod yn blwyddyn gwych! 47 baneri glas ac yr ymgyrch Glanhau Traethau Cymru Gyfan. Gweler sut yr ydym… https://t.co/u9vJNnvKiQ',\n",
       " 'display_text_range': [0, 140],\n",
       " 'source': '<a href=\"https://about.twitter.com/products/tweetdeck\" rel=\"nofollow\">TweetDeck</a>',\n",
       " 'truncated': True,\n",
       " 'in_reply_to_status_id': None,\n",
       " 'in_reply_to_status_id_str': None,\n",
       " 'in_reply_to_user_id': None,\n",
       " 'in_reply_to_user_id_str': None,\n",
       " 'in_reply_to_screen_name': None,\n",
       " 'user': {'id': 32431251,\n",
       "  'id_str': '32431251',\n",
       "  'name': 'Keep Wales Tidy',\n",
       "  'screen_name': 'Keep_Wales_Tidy',\n",
       "  'location': 'Wales',\n",
       "  'url': 'http://www.keepwalestidy.cymru',\n",
       "  'description': \"Gofalu am ein hamgylchedd gyda'n gilydd, nawr ac ar gyfer y dyfodol. Caring for our environment together, now and for the future #CaruCymru\",\n",
       "  'translator_type': 'none',\n",
       "  'derived': {'locations': [{'country': 'United Kingdom',\n",
       "     'country_code': 'GB',\n",
       "     'region': 'Wales',\n",
       "     'full_name': 'Wales, United Kingdom',\n",
       "     'geo': {'coordinates': [-3.5, 52.5], 'type': 'point'}}]},\n",
       "  'protected': False,\n",
       "  'verified': False,\n",
       "  'followers_count': 13573,\n",
       "  'friends_count': 2469,\n",
       "  'listed_count': 227,\n",
       "  'favourites_count': 7300,\n",
       "  'statuses_count': 18617,\n",
       "  'created_at': 'Fri Apr 17 14:45:41 +0000 2009',\n",
       "  'utc_offset': None,\n",
       "  'time_zone': None,\n",
       "  'geo_enabled': True,\n",
       "  'lang': 'en',\n",
       "  'contributors_enabled': False,\n",
       "  'is_translator': False,\n",
       "  'profile_background_color': '000000',\n",
       "  'profile_background_image_url': 'http://abs.twimg.com/images/themes/theme13/bg.gif',\n",
       "  'profile_background_image_url_https': 'https://abs.twimg.com/images/themes/theme13/bg.gif',\n",
       "  'profile_background_tile': False,\n",
       "  'profile_link_color': '6FB39D',\n",
       "  'profile_sidebar_border_color': '000000',\n",
       "  'profile_sidebar_fill_color': '000000',\n",
       "  'profile_text_color': '000000',\n",
       "  'profile_use_background_image': False,\n",
       "  'profile_image_url': 'http://pbs.twimg.com/profile_images/795548685203570688/-nnd2TnC_normal.jpg',\n",
       "  'profile_image_url_https': 'https://pbs.twimg.com/profile_images/795548685203570688/-nnd2TnC_normal.jpg',\n",
       "  'profile_banner_url': 'https://pbs.twimg.com/profile_banners/32431251/1478508905',\n",
       "  'default_profile': False,\n",
       "  'default_profile_image': False,\n",
       "  'following': None,\n",
       "  'follow_request_sent': None,\n",
       "  'notifications': None},\n",
       " 'geo': None,\n",
       " 'coordinates': None,\n",
       " 'place': None,\n",
       " 'contributors': None,\n",
       " 'is_quote_status': False,\n",
       " 'extended_tweet': {'full_text': 'Mae 2018 wedi bod yn blwyddyn gwych! 47 baneri glas ac yr ymgyrch Glanhau Traethau Cymru Gyfan. Gweler sut yr ydym wedi bod yn diogelu cynaladwyedd ein hamgylchedd morol yma https://t.co/ckDuu01GkN #yfanerlas30 #glanhautraethaucymru #gwladgwlad https://t.co/GXeSqE3pry https://t.co/TG777M6aDD',\n",
       "  'display_text_range': [0, 268],\n",
       "  'entities': {'hashtags': [{'text': 'yfanerlas30', 'indices': [198, 210]},\n",
       "    {'text': 'glanhautraethaucymru', 'indices': [211, 232]},\n",
       "    {'text': 'gwladgwlad', 'indices': [233, 244]}],\n",
       "   'urls': [{'url': 'https://t.co/ckDuu01GkN',\n",
       "     'expanded_url': 'https://www.keepwalestidy.cymru/heffaith',\n",
       "     'display_url': 'keepwalestidy.cymru/heffaith',\n",
       "     'unwound': {'url': 'https://www.keepwalestidy.cymru/heffaith',\n",
       "      'status': 200,\n",
       "      'title': 'Ein heffaith',\n",
       "      'description': 'Ein Heffaith yn 2018 Ni ellir amcangyfrif yn rhy isel werth amgylchedd o ansawdd da. Mae nid yn unig yn effeithio ar olwg a theimlad lle, ond mae’n cael effaith sylweddol a phellgyrhaeddol ar ein hiechyd a’n lles a’r economi leol hefyd. Yn Cadwch Gymru’n Daclus, rydym yn angerddol am gefnogi ac ysbrydoli pobl ifanc i weithredu i ddiogelu a gofalu am eu hamgylchedd lleol, gan greu Cymru fwy diogel, lanach, iachach a mwy cynaliadwy. Mae ein hadroddiad effaith ar gyfer 2018 yn rhoi cipolwg ar ein gwaith a’n cyflawniadau.\\xa0 Rydym hefyd yn edrych yn ôl ar ddeng mlynedd o’n rhaglen gymunedol flaenllaw, Trefi Taclus. Rhwng 2008 a 2018, fe wnaethom gefnogi dros 3,000 o grwpiau cymunedol a gweithio gyda 30,000 o wirfoddolwyr ysbrydoledig ar gyfartaledd bob blwyddyn. Gyda’n gilydd, cynhaliwyd 83,000 o ymgyrchoedd glanhau. Wrth gwrs, ni fyddem wedi gallu gwneud gwahaniaeth cadarnhaol i Gymru heb gymorth pobl eraill. Felly, hoffem achub ar y cyfle hwn i ddweud diolch wrth ein holl bartneriaid, gwirfoddolwyr a chodwyr arian. Lawrlwytho ein hadroddiad English link'},\n",
       "     'indices': [174, 197]},\n",
       "    {'url': 'https://t.co/GXeSqE3pry',\n",
       "     'expanded_url': 'https://www.youtube.com/watch?v=wtf5d_Xhf5M&t=3s',\n",
       "     'display_url': 'youtube.com/watch?v=wtf5d_…',\n",
       "     'unwound': {'url': 'https://www.youtube.com/watch?v=wtf5d_Xhf5M&t=3s',\n",
       "      'status': 200,\n",
       "      'title': \"Celebrating Blue Flag in Wales - Dathlu'r Faner Las yng Nghymru\",\n",
       "      'description': \"What the Blue Flag means to Wales Beth mae'r Faner Las yn meddwl i Gymru May 2018\"},\n",
       "     'indices': [245, 268]}],\n",
       "   'user_mentions': [],\n",
       "   'symbols': [],\n",
       "   'media': [{'id': {'$numberLong': '1072189305307742208'},\n",
       "     'id_str': '1072189305307742208',\n",
       "     'indices': [269, 292],\n",
       "     'media_url': 'http://pbs.twimg.com/media/DuEufhLXQAA3ln2.jpg',\n",
       "     'media_url_https': 'https://pbs.twimg.com/media/DuEufhLXQAA3ln2.jpg',\n",
       "     'url': 'https://t.co/TG777M6aDD',\n",
       "     'display_url': 'pic.twitter.com/TG777M6aDD',\n",
       "     'expanded_url': 'https://twitter.com/Keep_Wales_Tidy/status/1072789410448470018/photo/1',\n",
       "     'type': 'photo',\n",
       "     'sizes': {'thumb': {'w': 150, 'h': 150, 'resize': 'crop'},\n",
       "      'small': {'w': 680, 'h': 454, 'resize': 'fit'},\n",
       "      'medium': {'w': 901, 'h': 601, 'resize': 'fit'},\n",
       "      'large': {'w': 901, 'h': 601, 'resize': 'fit'}}}]},\n",
       "  'extended_entities': {'media': [{'id': {'$numberLong': '1072189305307742208'},\n",
       "     'id_str': '1072189305307742208',\n",
       "     'indices': [269, 292],\n",
       "     'media_url': 'http://pbs.twimg.com/media/DuEufhLXQAA3ln2.jpg',\n",
       "     'media_url_https': 'https://pbs.twimg.com/media/DuEufhLXQAA3ln2.jpg',\n",
       "     'url': 'https://t.co/TG777M6aDD',\n",
       "     'display_url': 'pic.twitter.com/TG777M6aDD',\n",
       "     'expanded_url': 'https://twitter.com/Keep_Wales_Tidy/status/1072789410448470018/photo/1',\n",
       "     'type': 'photo',\n",
       "     'sizes': {'thumb': {'w': 150, 'h': 150, 'resize': 'crop'},\n",
       "      'small': {'w': 680, 'h': 454, 'resize': 'fit'},\n",
       "      'medium': {'w': 901, 'h': 601, 'resize': 'fit'},\n",
       "      'large': {'w': 901, 'h': 601, 'resize': 'fit'}}}]}},\n",
       " 'quote_count': 0,\n",
       " 'reply_count': 0,\n",
       " 'retweet_count': 2,\n",
       " 'favorite_count': 4,\n",
       " 'entities': {'hashtags': [],\n",
       "  'urls': [{'url': 'https://t.co/u9vJNnvKiQ',\n",
       "    'expanded_url': 'https://twitter.com/i/web/status/1072789410448470018',\n",
       "    'display_url': 'twitter.com/i/web/status/1…',\n",
       "    'indices': [116, 139]}],\n",
       "  'user_mentions': [],\n",
       "  'symbols': []},\n",
       " 'favorited': False,\n",
       " 'retweeted': False,\n",
       " 'possibly_sensitive': False,\n",
       " 'filter_level': 'low',\n",
       " 'lang': 'cy',\n",
       " 'matching_rules': [{'tag': None}]}"
      ]
     },
     "execution_count": 12,
     "metadata": {},
     "output_type": "execute_result"
    }
   ],
   "source": [
    "data[2]"
   ]
  },
  {
   "cell_type": "code",
   "execution_count": 15,
   "metadata": {
    "ExecuteTime": {
     "end_time": "2019-10-23T13:04:24.758057Z",
     "start_time": "2019-10-23T13:04:24.754318Z"
    }
   },
   "outputs": [],
   "source": [
    "with open('./Data/usa_adjacency.json', 'w') as json_file:\n",
    "    json_str = json.dumps(a, indent=4, sort_keys=True)\n",
    "    json_file.write(json_str)"
   ]
  },
  {
   "cell_type": "code",
   "execution_count": 16,
   "metadata": {
    "ExecuteTime": {
     "end_time": "2019-10-23T13:04:38.673081Z",
     "start_time": "2019-10-23T13:04:38.668602Z"
    }
   },
   "outputs": [
    {
     "data": {
      "text/plain": [
       "50"
      ]
     },
     "execution_count": 16,
     "metadata": {},
     "output_type": "execute_result"
    }
   ],
   "source": [
    "len(a.keys())"
   ]
  },
  {
   "cell_type": "code",
   "execution_count": 20,
   "metadata": {
    "ExecuteTime": {
     "end_time": "2019-10-23T13:10:40.001400Z",
     "start_time": "2019-10-23T13:10:39.998177Z"
    }
   },
   "outputs": [],
   "source": [
    "f = open(\"./Data/usa_adjacency.json\", encoding='utf-8')\n",
    "b = json.load(f)"
   ]
  },
  {
   "cell_type": "code",
   "execution_count": 64,
   "metadata": {
    "ExecuteTime": {
     "end_time": "2019-10-23T13:52:01.017898Z",
     "start_time": "2019-10-23T13:52:01.014663Z"
    }
   },
   "outputs": [],
   "source": [
    "c = {key: value for (key,value) in zip(b.keys(), np.random.randint(1,high=20, size=len(b.keys())).astype(float))}"
   ]
  },
  {
   "cell_type": "code",
   "execution_count": 66,
   "metadata": {
    "ExecuteTime": {
     "end_time": "2019-10-23T13:52:17.875535Z",
     "start_time": "2019-10-23T13:52:17.870689Z"
    }
   },
   "outputs": [],
   "source": [
    "with open('./Data/test_users.json', 'w') as json_file:\n",
    "    json_str = json.dumps(c, indent=4, sort_keys=True)\n",
    "    json_file.write(json_str)"
   ]
  },
  {
   "cell_type": "code",
   "execution_count": 37,
   "metadata": {
    "ExecuteTime": {
     "end_time": "2019-10-23T13:40:08.153642Z",
     "start_time": "2019-10-23T13:40:08.150846Z"
    }
   },
   "outputs": [],
   "source": [
    "a = np.random.randint(3,size=(2,3))"
   ]
  },
  {
   "cell_type": "code",
   "execution_count": 54,
   "metadata": {
    "ExecuteTime": {
     "end_time": "2019-10-27T02:37:17.257628Z",
     "start_time": "2019-10-27T02:37:17.253485Z"
    }
   },
   "outputs": [
    {
     "data": {
      "text/plain": [
       "'2018/10/01/00/29.json'"
      ]
     },
     "execution_count": 54,
     "metadata": {},
     "output_type": "execute_result"
    }
   ],
   "source": [
    "path = './Data/2018/10/01/00/29.json'\n",
    "path.replace('./Data/','')"
   ]
  },
  {
   "cell_type": "code",
   "execution_count": 9,
   "metadata": {
    "ExecuteTime": {
     "end_time": "2019-11-10T07:17:11.598518Z",
     "start_time": "2019-11-10T07:17:11.586194Z"
    }
   },
   "outputs": [
    {
     "ename": "JSONDecodeError",
     "evalue": "Expecting value: line 2 column 1 (char 2)",
     "output_type": "error",
     "traceback": [
      "\u001b[0;31m---------------------------------------------------------------------------\u001b[0m",
      "\u001b[0;31mJSONDecodeError\u001b[0m                           Traceback (most recent call last)",
      "\u001b[0;32m<ipython-input-9-6608319be0d5>\u001b[0m in \u001b[0;36m<module>\u001b[0;34m()\u001b[0m\n\u001b[1;32m      1\u001b[0m \u001b[0;32mwith\u001b[0m \u001b[0mopen\u001b[0m\u001b[0;34m(\u001b[0m\u001b[0mtwt_path\u001b[0m\u001b[0;34m,\u001b[0m \u001b[0;34m'r'\u001b[0m\u001b[0;34m,\u001b[0m \u001b[0mencoding\u001b[0m\u001b[0;34m=\u001b[0m \u001b[0;34m'utf-8'\u001b[0m\u001b[0;34m)\u001b[0m \u001b[0;32mas\u001b[0m \u001b[0mfile\u001b[0m\u001b[0;34m:\u001b[0m\u001b[0;34m\u001b[0m\u001b[0m\n\u001b[1;32m      2\u001b[0m     \u001b[0;32mfor\u001b[0m \u001b[0mf\u001b[0m \u001b[0;32min\u001b[0m \u001b[0mfile\u001b[0m\u001b[0;34m:\u001b[0m\u001b[0;34m\u001b[0m\u001b[0m\n\u001b[0;32m----> 3\u001b[0;31m         \u001b[0mdata\u001b[0m \u001b[0;34m=\u001b[0m \u001b[0mjson\u001b[0m\u001b[0;34m.\u001b[0m\u001b[0mloads\u001b[0m\u001b[0;34m(\u001b[0m\u001b[0mf\u001b[0m\u001b[0;34m,\u001b[0m\u001b[0mencoding\u001b[0m\u001b[0;34m=\u001b[0m\u001b[0;34m'utf-8'\u001b[0m\u001b[0;34m)\u001b[0m\u001b[0;34m\u001b[0m\u001b[0m\n\u001b[0m\u001b[1;32m      4\u001b[0m \u001b[0;34m\u001b[0m\u001b[0m\n",
      "\u001b[0;32m/Library/Frameworks/Python.framework/Versions/3.6/lib/python3.6/json/__init__.py\u001b[0m in \u001b[0;36mloads\u001b[0;34m(s, encoding, cls, object_hook, parse_float, parse_int, parse_constant, object_pairs_hook, **kw)\u001b[0m\n\u001b[1;32m    352\u001b[0m             \u001b[0mparse_int\u001b[0m \u001b[0;32mis\u001b[0m \u001b[0;32mNone\u001b[0m \u001b[0;32mand\u001b[0m \u001b[0mparse_float\u001b[0m \u001b[0;32mis\u001b[0m \u001b[0;32mNone\u001b[0m \u001b[0;32mand\u001b[0m\u001b[0;34m\u001b[0m\u001b[0m\n\u001b[1;32m    353\u001b[0m             parse_constant is None and object_pairs_hook is None and not kw):\n\u001b[0;32m--> 354\u001b[0;31m         \u001b[0;32mreturn\u001b[0m \u001b[0m_default_decoder\u001b[0m\u001b[0;34m.\u001b[0m\u001b[0mdecode\u001b[0m\u001b[0;34m(\u001b[0m\u001b[0ms\u001b[0m\u001b[0;34m)\u001b[0m\u001b[0;34m\u001b[0m\u001b[0m\n\u001b[0m\u001b[1;32m    355\u001b[0m     \u001b[0;32mif\u001b[0m \u001b[0mcls\u001b[0m \u001b[0;32mis\u001b[0m \u001b[0;32mNone\u001b[0m\u001b[0;34m:\u001b[0m\u001b[0;34m\u001b[0m\u001b[0m\n\u001b[1;32m    356\u001b[0m         \u001b[0mcls\u001b[0m \u001b[0;34m=\u001b[0m \u001b[0mJSONDecoder\u001b[0m\u001b[0;34m\u001b[0m\u001b[0m\n",
      "\u001b[0;32m/Library/Frameworks/Python.framework/Versions/3.6/lib/python3.6/json/decoder.py\u001b[0m in \u001b[0;36mdecode\u001b[0;34m(self, s, _w)\u001b[0m\n\u001b[1;32m    337\u001b[0m \u001b[0;34m\u001b[0m\u001b[0m\n\u001b[1;32m    338\u001b[0m         \"\"\"\n\u001b[0;32m--> 339\u001b[0;31m         \u001b[0mobj\u001b[0m\u001b[0;34m,\u001b[0m \u001b[0mend\u001b[0m \u001b[0;34m=\u001b[0m \u001b[0mself\u001b[0m\u001b[0;34m.\u001b[0m\u001b[0mraw_decode\u001b[0m\u001b[0;34m(\u001b[0m\u001b[0ms\u001b[0m\u001b[0;34m,\u001b[0m \u001b[0midx\u001b[0m\u001b[0;34m=\u001b[0m\u001b[0m_w\u001b[0m\u001b[0;34m(\u001b[0m\u001b[0ms\u001b[0m\u001b[0;34m,\u001b[0m \u001b[0;36m0\u001b[0m\u001b[0;34m)\u001b[0m\u001b[0;34m.\u001b[0m\u001b[0mend\u001b[0m\u001b[0;34m(\u001b[0m\u001b[0;34m)\u001b[0m\u001b[0;34m)\u001b[0m\u001b[0;34m\u001b[0m\u001b[0m\n\u001b[0m\u001b[1;32m    340\u001b[0m         \u001b[0mend\u001b[0m \u001b[0;34m=\u001b[0m \u001b[0m_w\u001b[0m\u001b[0;34m(\u001b[0m\u001b[0ms\u001b[0m\u001b[0;34m,\u001b[0m \u001b[0mend\u001b[0m\u001b[0;34m)\u001b[0m\u001b[0;34m.\u001b[0m\u001b[0mend\u001b[0m\u001b[0;34m(\u001b[0m\u001b[0;34m)\u001b[0m\u001b[0;34m\u001b[0m\u001b[0m\n\u001b[1;32m    341\u001b[0m         \u001b[0;32mif\u001b[0m \u001b[0mend\u001b[0m \u001b[0;34m!=\u001b[0m \u001b[0mlen\u001b[0m\u001b[0;34m(\u001b[0m\u001b[0ms\u001b[0m\u001b[0;34m)\u001b[0m\u001b[0;34m:\u001b[0m\u001b[0;34m\u001b[0m\u001b[0m\n",
      "\u001b[0;32m/Library/Frameworks/Python.framework/Versions/3.6/lib/python3.6/json/decoder.py\u001b[0m in \u001b[0;36mraw_decode\u001b[0;34m(self, s, idx)\u001b[0m\n\u001b[1;32m    355\u001b[0m             \u001b[0mobj\u001b[0m\u001b[0;34m,\u001b[0m \u001b[0mend\u001b[0m \u001b[0;34m=\u001b[0m \u001b[0mself\u001b[0m\u001b[0;34m.\u001b[0m\u001b[0mscan_once\u001b[0m\u001b[0;34m(\u001b[0m\u001b[0ms\u001b[0m\u001b[0;34m,\u001b[0m \u001b[0midx\u001b[0m\u001b[0;34m)\u001b[0m\u001b[0;34m\u001b[0m\u001b[0m\n\u001b[1;32m    356\u001b[0m         \u001b[0;32mexcept\u001b[0m \u001b[0mStopIteration\u001b[0m \u001b[0;32mas\u001b[0m \u001b[0merr\u001b[0m\u001b[0;34m:\u001b[0m\u001b[0;34m\u001b[0m\u001b[0m\n\u001b[0;32m--> 357\u001b[0;31m             \u001b[0;32mraise\u001b[0m \u001b[0mJSONDecodeError\u001b[0m\u001b[0;34m(\u001b[0m\u001b[0;34m\"Expecting value\"\u001b[0m\u001b[0;34m,\u001b[0m \u001b[0ms\u001b[0m\u001b[0;34m,\u001b[0m \u001b[0merr\u001b[0m\u001b[0;34m.\u001b[0m\u001b[0mvalue\u001b[0m\u001b[0;34m)\u001b[0m \u001b[0;32mfrom\u001b[0m \u001b[0;32mNone\u001b[0m\u001b[0;34m\u001b[0m\u001b[0m\n\u001b[0m\u001b[1;32m    358\u001b[0m         \u001b[0;32mreturn\u001b[0m \u001b[0mobj\u001b[0m\u001b[0;34m,\u001b[0m \u001b[0mend\u001b[0m\u001b[0;34m\u001b[0m\u001b[0m\n",
      "\u001b[0;31mJSONDecodeError\u001b[0m: Expecting value: line 2 column 1 (char 2)"
     ]
    }
   ],
   "source": [
    "with open(twt_path, 'r', encoding= 'utf-8') as file:\n",
    "    for f in file:\n",
    "        data = json.loads(f,encoding='utf-8')\n",
    "    "
   ]
  },
  {
   "cell_type": "code",
   "execution_count": 29,
   "metadata": {
    "ExecuteTime": {
     "end_time": "2019-10-25T03:54:59.432889Z",
     "start_time": "2019-10-25T03:54:59.428692Z"
    }
   },
   "outputs": [
    {
     "data": {
      "text/plain": [
       "dict_keys(['created_at', 'id', 'id_str', 'text', 'source', 'truncated', 'in_reply_to_status_id', 'in_reply_to_status_id_str', 'in_reply_to_user_id', 'in_reply_to_user_id_str', 'in_reply_to_screen_name', 'user', 'geo', 'coordinates', 'place', 'contributors', 'retweeted_status', 'is_quote_status', 'quote_count', 'reply_count', 'retweet_count', 'favorite_count', 'entities', 'extended_entities', 'favorited', 'retweeted', 'possibly_sensitive', 'filter_level', 'lang', 'timestamp_ms'])"
      ]
     },
     "execution_count": 29,
     "metadata": {},
     "output_type": "execute_result"
    }
   ],
   "source": [
    "data.keys()"
   ]
  },
  {
   "cell_type": "code",
   "execution_count": 33,
   "metadata": {
    "ExecuteTime": {
     "end_time": "2019-10-25T03:55:38.158350Z",
     "start_time": "2019-10-25T03:55:38.147081Z"
    }
   },
   "outputs": [
    {
     "data": {
      "text/plain": [
       "{'created_at': 'Mon Oct 01 06:29:58 +0000 2018',\n",
       " 'id': 1046648398584188928,\n",
       " 'id_str': '1046648398584188928',\n",
       " 'text': 'RT @fkajack: my parents: how come you googled \"boys kissing\"?\\n\\n12 year old me: https://t.co/RSELVVq0i3',\n",
       " 'source': '<a href=\"http://twitter.com/download/iphone\" rel=\"nofollow\">Twitter for iPhone</a>',\n",
       " 'truncated': False,\n",
       " 'in_reply_to_status_id': None,\n",
       " 'in_reply_to_status_id_str': None,\n",
       " 'in_reply_to_user_id': None,\n",
       " 'in_reply_to_user_id_str': None,\n",
       " 'in_reply_to_screen_name': None,\n",
       " 'user': {'id': 705946610,\n",
       "  'id_str': '705946610',\n",
       "  'name': 'Christian Negron',\n",
       "  'screen_name': 'chrisanegron',\n",
       "  'location': 'NY',\n",
       "  'url': None,\n",
       "  'description': \"i don't jump for joy, i frolic in doubt | nyu tisch '21\",\n",
       "  'translator_type': 'none',\n",
       "  'protected': False,\n",
       "  'verified': False,\n",
       "  'followers_count': 467,\n",
       "  'friends_count': 723,\n",
       "  'listed_count': 0,\n",
       "  'favourites_count': 37167,\n",
       "  'statuses_count': 4903,\n",
       "  'created_at': 'Thu Jul 19 23:01:26 +0000 2012',\n",
       "  'utc_offset': None,\n",
       "  'time_zone': None,\n",
       "  'geo_enabled': True,\n",
       "  'lang': 'en',\n",
       "  'contributors_enabled': False,\n",
       "  'is_translator': False,\n",
       "  'profile_background_color': 'C0DEED',\n",
       "  'profile_background_image_url': 'http://abs.twimg.com/images/themes/theme1/bg.png',\n",
       "  'profile_background_image_url_https': 'https://abs.twimg.com/images/themes/theme1/bg.png',\n",
       "  'profile_background_tile': False,\n",
       "  'profile_link_color': '0084B4',\n",
       "  'profile_sidebar_border_color': 'FFFFFF',\n",
       "  'profile_sidebar_fill_color': 'DDEEF6',\n",
       "  'profile_text_color': '333333',\n",
       "  'profile_use_background_image': True,\n",
       "  'profile_image_url': 'http://pbs.twimg.com/profile_images/891500619298521088/j-BFN58d_normal.jpg',\n",
       "  'profile_image_url_https': 'https://pbs.twimg.com/profile_images/891500619298521088/j-BFN58d_normal.jpg',\n",
       "  'profile_banner_url': 'https://pbs.twimg.com/profile_banners/705946610/1534917214',\n",
       "  'default_profile': False,\n",
       "  'default_profile_image': False,\n",
       "  'following': None,\n",
       "  'follow_request_sent': None,\n",
       "  'notifications': None},\n",
       " 'geo': None,\n",
       " 'coordinates': None,\n",
       " 'place': None,\n",
       " 'contributors': None,\n",
       " 'retweeted_status': {'created_at': 'Sun Sep 30 20:33:04 +0000 2018',\n",
       "  'id': 1046498185093545984,\n",
       "  'id_str': '1046498185093545984',\n",
       "  'text': 'my parents: how come you googled \"boys kissing\"?\\n\\n12 year old me: https://t.co/RSELVVq0i3',\n",
       "  'source': '<a href=\"http://twitter.com/download/iphone\" rel=\"nofollow\">Twitter for iPhone</a>',\n",
       "  'truncated': False,\n",
       "  'in_reply_to_status_id': None,\n",
       "  'in_reply_to_status_id_str': None,\n",
       "  'in_reply_to_user_id': None,\n",
       "  'in_reply_to_user_id_str': None,\n",
       "  'in_reply_to_screen_name': None,\n",
       "  'user': {'id': 3108279742,\n",
       "   'id_str': '3108279742',\n",
       "   'name': '⍣',\n",
       "   'screen_name': 'fkajack',\n",
       "   'location': None,\n",
       "   'url': 'https://www.instagram.com/jackxinsta',\n",
       "   'description': '23. libra. #astarisborn.',\n",
       "   'translator_type': 'none',\n",
       "   'protected': False,\n",
       "   'verified': False,\n",
       "   'followers_count': 13774,\n",
       "   'friends_count': 120,\n",
       "   'listed_count': 925,\n",
       "   'favourites_count': 2,\n",
       "   'statuses_count': 595,\n",
       "   'created_at': 'Mon Mar 23 18:09:29 +0000 2015',\n",
       "   'utc_offset': None,\n",
       "   'time_zone': None,\n",
       "   'geo_enabled': True,\n",
       "   'lang': 'en',\n",
       "   'contributors_enabled': False,\n",
       "   'is_translator': False,\n",
       "   'profile_background_color': '000000',\n",
       "   'profile_background_image_url': 'http://abs.twimg.com/images/themes/theme1/bg.png',\n",
       "   'profile_background_image_url_https': 'https://abs.twimg.com/images/themes/theme1/bg.png',\n",
       "   'profile_background_tile': False,\n",
       "   'profile_link_color': 'FAB81E',\n",
       "   'profile_sidebar_border_color': '000000',\n",
       "   'profile_sidebar_fill_color': '000000',\n",
       "   'profile_text_color': '000000',\n",
       "   'profile_use_background_image': False,\n",
       "   'profile_image_url': 'http://pbs.twimg.com/profile_images/1046478991161528327/7IdwRYX6_normal.jpg',\n",
       "   'profile_image_url_https': 'https://pbs.twimg.com/profile_images/1046478991161528327/7IdwRYX6_normal.jpg',\n",
       "   'profile_banner_url': 'https://pbs.twimg.com/profile_banners/3108279742/1538335588',\n",
       "   'default_profile': False,\n",
       "   'default_profile_image': False,\n",
       "   'following': None,\n",
       "   'follow_request_sent': None,\n",
       "   'notifications': None},\n",
       "  'geo': None,\n",
       "  'coordinates': None,\n",
       "  'place': None,\n",
       "  'contributors': None,\n",
       "  'is_quote_status': False,\n",
       "  'quote_count': 97,\n",
       "  'reply_count': 17,\n",
       "  'retweet_count': 1688,\n",
       "  'favorite_count': 6034,\n",
       "  'entities': {'hashtags': [],\n",
       "   'urls': [],\n",
       "   'user_mentions': [],\n",
       "   'symbols': [],\n",
       "   'media': [{'id': 1046085284503453702,\n",
       "     'id_str': '1046085284503453702',\n",
       "     'indices': [66, 89],\n",
       "     'additional_media_info': {'title': '',\n",
       "      'description': '',\n",
       "      'embeddable': True,\n",
       "      'monetizable': False},\n",
       "     'media_url': 'http://pbs.twimg.com/ext_tw_video_thumb/1046085284503453702/pu/img/eegnxmijbbrRwppR.jpg',\n",
       "     'media_url_https': 'https://pbs.twimg.com/ext_tw_video_thumb/1046085284503453702/pu/img/eegnxmijbbrRwppR.jpg',\n",
       "     'url': 'https://t.co/RSELVVq0i3',\n",
       "     'display_url': 'pic.twitter.com/RSELVVq0i3',\n",
       "     'expanded_url': 'https://twitter.com/GagaMediaDotNet/status/1046087570181017600/video/1',\n",
       "     'type': 'photo',\n",
       "     'sizes': {'thumb': {'w': 150, 'h': 150, 'resize': 'crop'},\n",
       "      'large': {'w': 640, 'h': 360, 'resize': 'fit'},\n",
       "      'medium': {'w': 640, 'h': 360, 'resize': 'fit'},\n",
       "      'small': {'w': 640, 'h': 360, 'resize': 'fit'}},\n",
       "     'source_status_id': 1046087570181017600,\n",
       "     'source_status_id_str': '1046087570181017600',\n",
       "     'source_user_id': 337795817,\n",
       "     'source_user_id_str': '337795817'}]},\n",
       "  'extended_entities': {'media': [{'id': 1046085284503453702,\n",
       "     'id_str': '1046085284503453702',\n",
       "     'indices': [66, 89],\n",
       "     'additional_media_info': {'title': '',\n",
       "      'description': '',\n",
       "      'embeddable': True,\n",
       "      'monetizable': False},\n",
       "     'media_url': 'http://pbs.twimg.com/ext_tw_video_thumb/1046085284503453702/pu/img/eegnxmijbbrRwppR.jpg',\n",
       "     'media_url_https': 'https://pbs.twimg.com/ext_tw_video_thumb/1046085284503453702/pu/img/eegnxmijbbrRwppR.jpg',\n",
       "     'url': 'https://t.co/RSELVVq0i3',\n",
       "     'display_url': 'pic.twitter.com/RSELVVq0i3',\n",
       "     'expanded_url': 'https://twitter.com/GagaMediaDotNet/status/1046087570181017600/video/1',\n",
       "     'type': 'video',\n",
       "     'video_info': {'aspect_ratio': [16, 9],\n",
       "      'duration_millis': 4397,\n",
       "      'variants': [{'bitrate': 256000,\n",
       "        'content_type': 'video/mp4',\n",
       "        'url': 'https://video.twimg.com/ext_tw_video/1046085284503453702/pu/vid/320x180/tHAUlYZlOH7WcW2u.mp4?tag=5'},\n",
       "       {'content_type': 'application/x-mpegURL',\n",
       "        'url': 'https://video.twimg.com/ext_tw_video/1046085284503453702/pu/pl/sq3mzYErceZZqWLe.m3u8?tag=5'},\n",
       "       {'bitrate': 832000,\n",
       "        'content_type': 'video/mp4',\n",
       "        'url': 'https://video.twimg.com/ext_tw_video/1046085284503453702/pu/vid/640x360/g8gfDaMpJKSoCe3q.mp4?tag=5'}]},\n",
       "     'sizes': {'thumb': {'w': 150, 'h': 150, 'resize': 'crop'},\n",
       "      'large': {'w': 640, 'h': 360, 'resize': 'fit'},\n",
       "      'medium': {'w': 640, 'h': 360, 'resize': 'fit'},\n",
       "      'small': {'w': 640, 'h': 360, 'resize': 'fit'}},\n",
       "     'source_status_id': 1046087570181017600,\n",
       "     'source_status_id_str': '1046087570181017600',\n",
       "     'source_user_id': 337795817,\n",
       "     'source_user_id_str': '337795817'}]},\n",
       "  'favorited': False,\n",
       "  'retweeted': False,\n",
       "  'possibly_sensitive': True,\n",
       "  'filter_level': 'low',\n",
       "  'lang': 'en'},\n",
       " 'is_quote_status': False,\n",
       " 'quote_count': 0,\n",
       " 'reply_count': 0,\n",
       " 'retweet_count': 0,\n",
       " 'favorite_count': 0,\n",
       " 'entities': {'hashtags': [],\n",
       "  'urls': [],\n",
       "  'user_mentions': [{'screen_name': 'fkajack',\n",
       "    'name': '⍣',\n",
       "    'id': 3108279742,\n",
       "    'id_str': '3108279742',\n",
       "    'indices': [3, 11]}],\n",
       "  'symbols': [],\n",
       "  'media': [{'id': 1046085284503453702,\n",
       "    'id_str': '1046085284503453702',\n",
       "    'indices': [79, 102],\n",
       "    'additional_media_info': {'title': '',\n",
       "     'description': '',\n",
       "     'embeddable': True,\n",
       "     'monetizable': False},\n",
       "    'media_url': 'http://pbs.twimg.com/ext_tw_video_thumb/1046085284503453702/pu/img/eegnxmijbbrRwppR.jpg',\n",
       "    'media_url_https': 'https://pbs.twimg.com/ext_tw_video_thumb/1046085284503453702/pu/img/eegnxmijbbrRwppR.jpg',\n",
       "    'url': 'https://t.co/RSELVVq0i3',\n",
       "    'display_url': 'pic.twitter.com/RSELVVq0i3',\n",
       "    'expanded_url': 'https://twitter.com/GagaMediaDotNet/status/1046087570181017600/video/1',\n",
       "    'type': 'photo',\n",
       "    'sizes': {'thumb': {'w': 150, 'h': 150, 'resize': 'crop'},\n",
       "     'large': {'w': 640, 'h': 360, 'resize': 'fit'},\n",
       "     'medium': {'w': 640, 'h': 360, 'resize': 'fit'},\n",
       "     'small': {'w': 640, 'h': 360, 'resize': 'fit'}},\n",
       "    'source_status_id': 1046087570181017600,\n",
       "    'source_status_id_str': '1046087570181017600',\n",
       "    'source_user_id': 337795817,\n",
       "    'source_user_id_str': '337795817'}]},\n",
       " 'extended_entities': {'media': [{'id': 1046085284503453702,\n",
       "    'id_str': '1046085284503453702',\n",
       "    'indices': [79, 102],\n",
       "    'additional_media_info': {'title': '',\n",
       "     'description': '',\n",
       "     'embeddable': True,\n",
       "     'monetizable': False},\n",
       "    'media_url': 'http://pbs.twimg.com/ext_tw_video_thumb/1046085284503453702/pu/img/eegnxmijbbrRwppR.jpg',\n",
       "    'media_url_https': 'https://pbs.twimg.com/ext_tw_video_thumb/1046085284503453702/pu/img/eegnxmijbbrRwppR.jpg',\n",
       "    'url': 'https://t.co/RSELVVq0i3',\n",
       "    'display_url': 'pic.twitter.com/RSELVVq0i3',\n",
       "    'expanded_url': 'https://twitter.com/GagaMediaDotNet/status/1046087570181017600/video/1',\n",
       "    'type': 'video',\n",
       "    'video_info': {'aspect_ratio': [16, 9],\n",
       "     'duration_millis': 4397,\n",
       "     'variants': [{'bitrate': 256000,\n",
       "       'content_type': 'video/mp4',\n",
       "       'url': 'https://video.twimg.com/ext_tw_video/1046085284503453702/pu/vid/320x180/tHAUlYZlOH7WcW2u.mp4?tag=5'},\n",
       "      {'content_type': 'application/x-mpegURL',\n",
       "       'url': 'https://video.twimg.com/ext_tw_video/1046085284503453702/pu/pl/sq3mzYErceZZqWLe.m3u8?tag=5'},\n",
       "      {'bitrate': 832000,\n",
       "       'content_type': 'video/mp4',\n",
       "       'url': 'https://video.twimg.com/ext_tw_video/1046085284503453702/pu/vid/640x360/g8gfDaMpJKSoCe3q.mp4?tag=5'}]},\n",
       "    'sizes': {'thumb': {'w': 150, 'h': 150, 'resize': 'crop'},\n",
       "     'large': {'w': 640, 'h': 360, 'resize': 'fit'},\n",
       "     'medium': {'w': 640, 'h': 360, 'resize': 'fit'},\n",
       "     'small': {'w': 640, 'h': 360, 'resize': 'fit'}},\n",
       "    'source_status_id': 1046087570181017600,\n",
       "    'source_status_id_str': '1046087570181017600',\n",
       "    'source_user_id': 337795817,\n",
       "    'source_user_id_str': '337795817'}]},\n",
       " 'favorited': False,\n",
       " 'retweeted': False,\n",
       " 'possibly_sensitive': False,\n",
       " 'filter_level': 'low',\n",
       " 'lang': 'en',\n",
       " 'timestamp_ms': '1538375398666'}"
      ]
     },
     "execution_count": 33,
     "metadata": {},
     "output_type": "execute_result"
    }
   ],
   "source": [
    "data"
   ]
  },
  {
   "cell_type": "code",
   "execution_count": 38,
   "metadata": {
    "ExecuteTime": {
     "end_time": "2019-10-25T05:20:41.805503Z",
     "start_time": "2019-10-25T05:20:41.798110Z"
    }
   },
   "outputs": [
    {
     "data": {
      "text/plain": [
       "{'created_at': 'Sun Sep 30 20:33:04 +0000 2018',\n",
       " 'id': 1046498185093545984,\n",
       " 'id_str': '1046498185093545984',\n",
       " 'text': 'my parents: how come you googled \"boys kissing\"?\\n\\n12 year old me: https://t.co/RSELVVq0i3',\n",
       " 'source': '<a href=\"http://twitter.com/download/iphone\" rel=\"nofollow\">Twitter for iPhone</a>',\n",
       " 'truncated': False,\n",
       " 'in_reply_to_status_id': None,\n",
       " 'in_reply_to_status_id_str': None,\n",
       " 'in_reply_to_user_id': None,\n",
       " 'in_reply_to_user_id_str': None,\n",
       " 'in_reply_to_screen_name': None,\n",
       " 'user': {'id': 3108279742,\n",
       "  'id_str': '3108279742',\n",
       "  'name': '⍣',\n",
       "  'screen_name': 'fkajack',\n",
       "  'location': None,\n",
       "  'url': 'https://www.instagram.com/jackxinsta',\n",
       "  'description': '23. libra. #astarisborn.',\n",
       "  'translator_type': 'none',\n",
       "  'protected': False,\n",
       "  'verified': False,\n",
       "  'followers_count': 13774,\n",
       "  'friends_count': 120,\n",
       "  'listed_count': 925,\n",
       "  'favourites_count': 2,\n",
       "  'statuses_count': 595,\n",
       "  'created_at': 'Mon Mar 23 18:09:29 +0000 2015',\n",
       "  'utc_offset': None,\n",
       "  'time_zone': None,\n",
       "  'geo_enabled': True,\n",
       "  'lang': 'en',\n",
       "  'contributors_enabled': False,\n",
       "  'is_translator': False,\n",
       "  'profile_background_color': '000000',\n",
       "  'profile_background_image_url': 'http://abs.twimg.com/images/themes/theme1/bg.png',\n",
       "  'profile_background_image_url_https': 'https://abs.twimg.com/images/themes/theme1/bg.png',\n",
       "  'profile_background_tile': False,\n",
       "  'profile_link_color': 'FAB81E',\n",
       "  'profile_sidebar_border_color': '000000',\n",
       "  'profile_sidebar_fill_color': '000000',\n",
       "  'profile_text_color': '000000',\n",
       "  'profile_use_background_image': False,\n",
       "  'profile_image_url': 'http://pbs.twimg.com/profile_images/1046478991161528327/7IdwRYX6_normal.jpg',\n",
       "  'profile_image_url_https': 'https://pbs.twimg.com/profile_images/1046478991161528327/7IdwRYX6_normal.jpg',\n",
       "  'profile_banner_url': 'https://pbs.twimg.com/profile_banners/3108279742/1538335588',\n",
       "  'default_profile': False,\n",
       "  'default_profile_image': False,\n",
       "  'following': None,\n",
       "  'follow_request_sent': None,\n",
       "  'notifications': None},\n",
       " 'geo': None,\n",
       " 'coordinates': None,\n",
       " 'place': None,\n",
       " 'contributors': None,\n",
       " 'is_quote_status': False,\n",
       " 'quote_count': 97,\n",
       " 'reply_count': 17,\n",
       " 'retweet_count': 1688,\n",
       " 'favorite_count': 6034,\n",
       " 'entities': {'hashtags': [],\n",
       "  'urls': [],\n",
       "  'user_mentions': [],\n",
       "  'symbols': [],\n",
       "  'media': [{'id': 1046085284503453702,\n",
       "    'id_str': '1046085284503453702',\n",
       "    'indices': [66, 89],\n",
       "    'additional_media_info': {'title': '',\n",
       "     'description': '',\n",
       "     'embeddable': True,\n",
       "     'monetizable': False},\n",
       "    'media_url': 'http://pbs.twimg.com/ext_tw_video_thumb/1046085284503453702/pu/img/eegnxmijbbrRwppR.jpg',\n",
       "    'media_url_https': 'https://pbs.twimg.com/ext_tw_video_thumb/1046085284503453702/pu/img/eegnxmijbbrRwppR.jpg',\n",
       "    'url': 'https://t.co/RSELVVq0i3',\n",
       "    'display_url': 'pic.twitter.com/RSELVVq0i3',\n",
       "    'expanded_url': 'https://twitter.com/GagaMediaDotNet/status/1046087570181017600/video/1',\n",
       "    'type': 'photo',\n",
       "    'sizes': {'thumb': {'w': 150, 'h': 150, 'resize': 'crop'},\n",
       "     'large': {'w': 640, 'h': 360, 'resize': 'fit'},\n",
       "     'medium': {'w': 640, 'h': 360, 'resize': 'fit'},\n",
       "     'small': {'w': 640, 'h': 360, 'resize': 'fit'}},\n",
       "    'source_status_id': 1046087570181017600,\n",
       "    'source_status_id_str': '1046087570181017600',\n",
       "    'source_user_id': 337795817,\n",
       "    'source_user_id_str': '337795817'}]},\n",
       " 'extended_entities': {'media': [{'id': 1046085284503453702,\n",
       "    'id_str': '1046085284503453702',\n",
       "    'indices': [66, 89],\n",
       "    'additional_media_info': {'title': '',\n",
       "     'description': '',\n",
       "     'embeddable': True,\n",
       "     'monetizable': False},\n",
       "    'media_url': 'http://pbs.twimg.com/ext_tw_video_thumb/1046085284503453702/pu/img/eegnxmijbbrRwppR.jpg',\n",
       "    'media_url_https': 'https://pbs.twimg.com/ext_tw_video_thumb/1046085284503453702/pu/img/eegnxmijbbrRwppR.jpg',\n",
       "    'url': 'https://t.co/RSELVVq0i3',\n",
       "    'display_url': 'pic.twitter.com/RSELVVq0i3',\n",
       "    'expanded_url': 'https://twitter.com/GagaMediaDotNet/status/1046087570181017600/video/1',\n",
       "    'type': 'video',\n",
       "    'video_info': {'aspect_ratio': [16, 9],\n",
       "     'duration_millis': 4397,\n",
       "     'variants': [{'bitrate': 256000,\n",
       "       'content_type': 'video/mp4',\n",
       "       'url': 'https://video.twimg.com/ext_tw_video/1046085284503453702/pu/vid/320x180/tHAUlYZlOH7WcW2u.mp4?tag=5'},\n",
       "      {'content_type': 'application/x-mpegURL',\n",
       "       'url': 'https://video.twimg.com/ext_tw_video/1046085284503453702/pu/pl/sq3mzYErceZZqWLe.m3u8?tag=5'},\n",
       "      {'bitrate': 832000,\n",
       "       'content_type': 'video/mp4',\n",
       "       'url': 'https://video.twimg.com/ext_tw_video/1046085284503453702/pu/vid/640x360/g8gfDaMpJKSoCe3q.mp4?tag=5'}]},\n",
       "    'sizes': {'thumb': {'w': 150, 'h': 150, 'resize': 'crop'},\n",
       "     'large': {'w': 640, 'h': 360, 'resize': 'fit'},\n",
       "     'medium': {'w': 640, 'h': 360, 'resize': 'fit'},\n",
       "     'small': {'w': 640, 'h': 360, 'resize': 'fit'}},\n",
       "    'source_status_id': 1046087570181017600,\n",
       "    'source_status_id_str': '1046087570181017600',\n",
       "    'source_user_id': 337795817,\n",
       "    'source_user_id_str': '337795817'}]},\n",
       " 'favorited': False,\n",
       " 'retweeted': False,\n",
       " 'possibly_sensitive': True,\n",
       " 'filter_level': 'low',\n",
       " 'lang': 'en'}"
      ]
     },
     "execution_count": 38,
     "metadata": {},
     "output_type": "execute_result"
    }
   ],
   "source": [
    "data['retweeted_status']"
   ]
  },
  {
   "cell_type": "code",
   "execution_count": 60,
   "metadata": {
    "ExecuteTime": {
     "end_time": "2019-10-26T08:15:28.435627Z",
     "start_time": "2019-10-26T08:15:28.432908Z"
    }
   },
   "outputs": [],
   "source": [
    "test =  data['text']"
   ]
  },
  {
   "cell_type": "code",
   "execution_count": 43,
   "metadata": {
    "ExecuteTime": {
     "end_time": "2019-11-10T05:00:33.594995Z",
     "start_time": "2019-11-10T05:00:33.580095Z"
    }
   },
   "outputs": [],
   "source": [
    "cdc_data = pd.read_csv(\"Data/cdc/StateDatabySeason59_58,57.csv\")"
   ]
  },
  {
   "cell_type": "code",
   "execution_count": 44,
   "metadata": {
    "ExecuteTime": {
     "end_time": "2019-11-10T05:00:35.023713Z",
     "start_time": "2019-11-10T05:00:35.005718Z"
    }
   },
   "outputs": [
    {
     "data": {
      "text/html": [
       "<div>\n",
       "<style scoped>\n",
       "    .dataframe tbody tr th:only-of-type {\n",
       "        vertical-align: middle;\n",
       "    }\n",
       "\n",
       "    .dataframe tbody tr th {\n",
       "        vertical-align: top;\n",
       "    }\n",
       "\n",
       "    .dataframe thead th {\n",
       "        text-align: right;\n",
       "    }\n",
       "</style>\n",
       "<table border=\"1\" class=\"dataframe\">\n",
       "  <thead>\n",
       "    <tr style=\"text-align: right;\">\n",
       "      <th></th>\n",
       "      <th>STATENAME</th>\n",
       "      <th>URL</th>\n",
       "      <th>WEBSITE</th>\n",
       "      <th>ACTIVITY LEVEL</th>\n",
       "      <th>ACTIVITY LEVEL LABEL</th>\n",
       "      <th>WEEKEND</th>\n",
       "      <th>WEEK</th>\n",
       "      <th>SEASON</th>\n",
       "    </tr>\n",
       "  </thead>\n",
       "  <tbody>\n",
       "    <tr>\n",
       "      <td>0</td>\n",
       "      <td>Virgin Islands</td>\n",
       "      <td>http://doh.vi.gov/</td>\n",
       "      <td>Influenza</td>\n",
       "      <td>Level 0</td>\n",
       "      <td>Insufficient Data</td>\n",
       "      <td>Oct-14-2017</td>\n",
       "      <td>41</td>\n",
       "      <td>2017-18</td>\n",
       "    </tr>\n",
       "    <tr>\n",
       "      <td>1</td>\n",
       "      <td>Virgin Islands</td>\n",
       "      <td>http://doh.vi.gov/</td>\n",
       "      <td>Influenza</td>\n",
       "      <td>Level 0</td>\n",
       "      <td>Insufficient Data</td>\n",
       "      <td>Oct-21-2017</td>\n",
       "      <td>42</td>\n",
       "      <td>2017-18</td>\n",
       "    </tr>\n",
       "    <tr>\n",
       "      <td>2</td>\n",
       "      <td>Virgin Islands</td>\n",
       "      <td>http://doh.vi.gov/</td>\n",
       "      <td>Influenza</td>\n",
       "      <td>Level 0</td>\n",
       "      <td>Insufficient Data</td>\n",
       "      <td>Oct-28-2017</td>\n",
       "      <td>43</td>\n",
       "      <td>2017-18</td>\n",
       "    </tr>\n",
       "    <tr>\n",
       "      <td>3</td>\n",
       "      <td>Virgin Islands</td>\n",
       "      <td>http://doh.vi.gov/</td>\n",
       "      <td>Influenza</td>\n",
       "      <td>Level 0</td>\n",
       "      <td>Insufficient Data</td>\n",
       "      <td>Nov-04-2017</td>\n",
       "      <td>44</td>\n",
       "      <td>2017-18</td>\n",
       "    </tr>\n",
       "    <tr>\n",
       "      <td>4</td>\n",
       "      <td>Virgin Islands</td>\n",
       "      <td>http://doh.vi.gov/</td>\n",
       "      <td>Influenza</td>\n",
       "      <td>Level 0</td>\n",
       "      <td>Insufficient Data</td>\n",
       "      <td>Nov-11-2017</td>\n",
       "      <td>45</td>\n",
       "      <td>2017-18</td>\n",
       "    </tr>\n",
       "    <tr>\n",
       "      <td>...</td>\n",
       "      <td>...</td>\n",
       "      <td>...</td>\n",
       "      <td>...</td>\n",
       "      <td>...</td>\n",
       "      <td>...</td>\n",
       "      <td>...</td>\n",
       "      <td>...</td>\n",
       "      <td>...</td>\n",
       "    </tr>\n",
       "    <tr>\n",
       "      <td>5828</td>\n",
       "      <td>Louisiana</td>\n",
       "      <td>http://new.dhh.louisiana.gov/index.cfm/page/1591</td>\n",
       "      <td>Influenza</td>\n",
       "      <td>Level 10</td>\n",
       "      <td>High</td>\n",
       "      <td>Mar-30-2019</td>\n",
       "      <td>13</td>\n",
       "      <td>2018-19</td>\n",
       "    </tr>\n",
       "    <tr>\n",
       "      <td>5829</td>\n",
       "      <td>Missouri</td>\n",
       "      <td>http://health.mo.gov/living/healthcondiseases/...</td>\n",
       "      <td>Influenza Data &amp; Statistical Reports</td>\n",
       "      <td>Level 10</td>\n",
       "      <td>High</td>\n",
       "      <td>Mar-30-2019</td>\n",
       "      <td>13</td>\n",
       "      <td>2018-19</td>\n",
       "    </tr>\n",
       "    <tr>\n",
       "      <td>5830</td>\n",
       "      <td>Puerto Rico</td>\n",
       "      <td>http://www.salud.gov.pr/Estadisticas-Registros...</td>\n",
       "      <td>Puerto Rico Departamento de Salud</td>\n",
       "      <td>Level 10</td>\n",
       "      <td>High</td>\n",
       "      <td>Oct-26-2019</td>\n",
       "      <td>43</td>\n",
       "      <td>2019-20</td>\n",
       "    </tr>\n",
       "    <tr>\n",
       "      <td>5831</td>\n",
       "      <td>Louisiana</td>\n",
       "      <td>http://new.dhh.louisiana.gov/index.cfm/page/1591</td>\n",
       "      <td>Influenza</td>\n",
       "      <td>Level 10</td>\n",
       "      <td>High</td>\n",
       "      <td>Oct-26-2019</td>\n",
       "      <td>43</td>\n",
       "      <td>2019-20</td>\n",
       "    </tr>\n",
       "    <tr>\n",
       "      <td>5832</td>\n",
       "      <td>Puerto Rico</td>\n",
       "      <td>http://www.salud.gov.pr/Estadisticas-Registros...</td>\n",
       "      <td>Puerto Rico Departamento de Salud</td>\n",
       "      <td>Level 10</td>\n",
       "      <td>High</td>\n",
       "      <td>Oct-19-2019</td>\n",
       "      <td>42</td>\n",
       "      <td>2019-20</td>\n",
       "    </tr>\n",
       "  </tbody>\n",
       "</table>\n",
       "<p>5833 rows × 8 columns</p>\n",
       "</div>"
      ],
      "text/plain": [
       "           STATENAME                                                URL  \\\n",
       "0     Virgin Islands                                 http://doh.vi.gov/   \n",
       "1     Virgin Islands                                 http://doh.vi.gov/   \n",
       "2     Virgin Islands                                 http://doh.vi.gov/   \n",
       "3     Virgin Islands                                 http://doh.vi.gov/   \n",
       "4     Virgin Islands                                 http://doh.vi.gov/   \n",
       "...              ...                                                ...   \n",
       "5828       Louisiana   http://new.dhh.louisiana.gov/index.cfm/page/1591   \n",
       "5829        Missouri  http://health.mo.gov/living/healthcondiseases/...   \n",
       "5830     Puerto Rico  http://www.salud.gov.pr/Estadisticas-Registros...   \n",
       "5831       Louisiana   http://new.dhh.louisiana.gov/index.cfm/page/1591   \n",
       "5832     Puerto Rico  http://www.salud.gov.pr/Estadisticas-Registros...   \n",
       "\n",
       "                                    WEBSITE ACTIVITY LEVEL  \\\n",
       "0                                 Influenza        Level 0   \n",
       "1                                 Influenza        Level 0   \n",
       "2                                 Influenza        Level 0   \n",
       "3                                 Influenza        Level 0   \n",
       "4                                 Influenza        Level 0   \n",
       "...                                     ...            ...   \n",
       "5828                              Influenza       Level 10   \n",
       "5829  Influenza Data & Statistical Reports        Level 10   \n",
       "5830      Puerto Rico Departamento de Salud       Level 10   \n",
       "5831                              Influenza       Level 10   \n",
       "5832      Puerto Rico Departamento de Salud       Level 10   \n",
       "\n",
       "     ACTIVITY LEVEL LABEL      WEEKEND  WEEK   SEASON  \n",
       "0       Insufficient Data  Oct-14-2017    41  2017-18  \n",
       "1       Insufficient Data  Oct-21-2017    42  2017-18  \n",
       "2       Insufficient Data  Oct-28-2017    43  2017-18  \n",
       "3       Insufficient Data  Nov-04-2017    44  2017-18  \n",
       "4       Insufficient Data  Nov-11-2017    45  2017-18  \n",
       "...                   ...          ...   ...      ...  \n",
       "5828                 High  Mar-30-2019    13  2018-19  \n",
       "5829                 High  Mar-30-2019    13  2018-19  \n",
       "5830                 High  Oct-26-2019    43  2019-20  \n",
       "5831                 High  Oct-26-2019    43  2019-20  \n",
       "5832                 High  Oct-19-2019    42  2019-20  \n",
       "\n",
       "[5833 rows x 8 columns]"
      ]
     },
     "execution_count": 44,
     "metadata": {},
     "output_type": "execute_result"
    }
   ],
   "source": [
    "cdc_data"
   ]
  },
  {
   "cell_type": "code",
   "execution_count": 45,
   "metadata": {
    "ExecuteTime": {
     "end_time": "2019-11-10T05:00:35.519409Z",
     "start_time": "2019-11-10T05:00:35.515683Z"
    }
   },
   "outputs": [],
   "source": [
    "index = cdc_data[\"SEASON\"] == \"2018-19\""
   ]
  },
  {
   "cell_type": "code",
   "execution_count": 46,
   "metadata": {
    "ExecuteTime": {
     "end_time": "2019-11-10T05:00:43.474488Z",
     "start_time": "2019-11-10T05:00:43.470115Z"
    }
   },
   "outputs": [],
   "source": [
    "cdc_data = cdc_data[index]"
   ]
  },
  {
   "cell_type": "code",
   "execution_count": 47,
   "metadata": {
    "ExecuteTime": {
     "end_time": "2019-11-10T05:00:44.122511Z",
     "start_time": "2019-11-10T05:00:44.117356Z"
    }
   },
   "outputs": [
    {
     "data": {
      "text/plain": [
       "Index(['STATENAME', 'URL', 'WEBSITE', 'ACTIVITY LEVEL', 'ACTIVITY LEVEL LABEL',\n",
       "       'WEEKEND', 'WEEK', 'SEASON'],\n",
       "      dtype='object')"
      ]
     },
     "execution_count": 47,
     "metadata": {},
     "output_type": "execute_result"
    }
   ],
   "source": [
    "cdc_data.columns"
   ]
  },
  {
   "cell_type": "code",
   "execution_count": 48,
   "metadata": {
    "ExecuteTime": {
     "end_time": "2019-11-10T05:00:44.509998Z",
     "start_time": "2019-11-10T05:00:44.507014Z"
    }
   },
   "outputs": [],
   "source": [
    "columns = ['STATENAME', 'WEBSITE', 'ACTIVITY LEVEL', 'ACTIVITY LEVEL LABEL',\n",
    "       'WEEKEND', 'WEEK', 'SEASON']"
   ]
  },
  {
   "cell_type": "code",
   "execution_count": 49,
   "metadata": {
    "ExecuteTime": {
     "end_time": "2019-11-10T05:00:44.859409Z",
     "start_time": "2019-11-10T05:00:44.854836Z"
    }
   },
   "outputs": [],
   "source": [
    "cdc_data = cdc_data[columns].reset_index(drop=True)"
   ]
  },
  {
   "cell_type": "code",
   "execution_count": 37,
   "metadata": {
    "ExecuteTime": {
     "end_time": "2019-11-10T03:42:09.847915Z",
     "start_time": "2019-11-10T03:42:09.832183Z"
    }
   },
   "outputs": [
    {
     "data": {
      "text/html": [
       "<div>\n",
       "<style scoped>\n",
       "    .dataframe tbody tr th:only-of-type {\n",
       "        vertical-align: middle;\n",
       "    }\n",
       "\n",
       "    .dataframe tbody tr th {\n",
       "        vertical-align: top;\n",
       "    }\n",
       "\n",
       "    .dataframe thead th {\n",
       "        text-align: right;\n",
       "    }\n",
       "</style>\n",
       "<table border=\"1\" class=\"dataframe\">\n",
       "  <thead>\n",
       "    <tr style=\"text-align: right;\">\n",
       "      <th></th>\n",
       "      <th>STATENAME</th>\n",
       "      <th>WEBSITE</th>\n",
       "      <th>ACTIVITY LEVEL</th>\n",
       "      <th>ACTIVITY LEVEL LABEL</th>\n",
       "      <th>WEEKEND</th>\n",
       "      <th>WEEK</th>\n",
       "      <th>SEASON</th>\n",
       "    </tr>\n",
       "  </thead>\n",
       "  <tbody>\n",
       "    <tr>\n",
       "      <td>0</td>\n",
       "      <td>Virgin Islands</td>\n",
       "      <td>Influenza</td>\n",
       "      <td>Level 0</td>\n",
       "      <td>Insufficient Data</td>\n",
       "      <td>Mar-09-2019</td>\n",
       "      <td>10</td>\n",
       "      <td>2018-19</td>\n",
       "    </tr>\n",
       "    <tr>\n",
       "      <td>1</td>\n",
       "      <td>Virgin Islands</td>\n",
       "      <td>Influenza</td>\n",
       "      <td>Level 0</td>\n",
       "      <td>Insufficient Data</td>\n",
       "      <td>Mar-16-2019</td>\n",
       "      <td>11</td>\n",
       "      <td>2018-19</td>\n",
       "    </tr>\n",
       "    <tr>\n",
       "      <td>2</td>\n",
       "      <td>Virgin Islands</td>\n",
       "      <td>Influenza</td>\n",
       "      <td>Level 0</td>\n",
       "      <td>Insufficient Data</td>\n",
       "      <td>Mar-23-2019</td>\n",
       "      <td>12</td>\n",
       "      <td>2018-19</td>\n",
       "    </tr>\n",
       "    <tr>\n",
       "      <td>3</td>\n",
       "      <td>Virgin Islands</td>\n",
       "      <td>Influenza</td>\n",
       "      <td>Level 0</td>\n",
       "      <td>Insufficient Data</td>\n",
       "      <td>Mar-30-2019</td>\n",
       "      <td>13</td>\n",
       "      <td>2018-19</td>\n",
       "    </tr>\n",
       "    <tr>\n",
       "      <td>4</td>\n",
       "      <td>Virgin Islands</td>\n",
       "      <td>Influenza</td>\n",
       "      <td>Level 0</td>\n",
       "      <td>Insufficient Data</td>\n",
       "      <td>Apr-06-2019</td>\n",
       "      <td>14</td>\n",
       "      <td>2018-19</td>\n",
       "    </tr>\n",
       "    <tr>\n",
       "      <td>...</td>\n",
       "      <td>...</td>\n",
       "      <td>...</td>\n",
       "      <td>...</td>\n",
       "      <td>...</td>\n",
       "      <td>...</td>\n",
       "      <td>...</td>\n",
       "      <td>...</td>\n",
       "    </tr>\n",
       "    <tr>\n",
       "      <td>2805</td>\n",
       "      <td>Virginia</td>\n",
       "      <td>Virginia Weekly Influenza Activity Report</td>\n",
       "      <td>Level 10</td>\n",
       "      <td>High</td>\n",
       "      <td>Mar-30-2019</td>\n",
       "      <td>13</td>\n",
       "      <td>2018-19</td>\n",
       "    </tr>\n",
       "    <tr>\n",
       "      <td>2806</td>\n",
       "      <td>Rhode Island</td>\n",
       "      <td>Influenza Surveillance</td>\n",
       "      <td>Level 10</td>\n",
       "      <td>High</td>\n",
       "      <td>Mar-30-2019</td>\n",
       "      <td>13</td>\n",
       "      <td>2018-19</td>\n",
       "    </tr>\n",
       "    <tr>\n",
       "      <td>2807</td>\n",
       "      <td>South Carolina</td>\n",
       "      <td>Influenza Activity and Surveillance</td>\n",
       "      <td>Level 10</td>\n",
       "      <td>High</td>\n",
       "      <td>Mar-30-2019</td>\n",
       "      <td>13</td>\n",
       "      <td>2018-19</td>\n",
       "    </tr>\n",
       "    <tr>\n",
       "      <td>2808</td>\n",
       "      <td>Louisiana</td>\n",
       "      <td>Influenza</td>\n",
       "      <td>Level 10</td>\n",
       "      <td>High</td>\n",
       "      <td>Mar-30-2019</td>\n",
       "      <td>13</td>\n",
       "      <td>2018-19</td>\n",
       "    </tr>\n",
       "    <tr>\n",
       "      <td>2809</td>\n",
       "      <td>Missouri</td>\n",
       "      <td>Influenza Data &amp; Statistical Reports</td>\n",
       "      <td>Level 10</td>\n",
       "      <td>High</td>\n",
       "      <td>Mar-30-2019</td>\n",
       "      <td>13</td>\n",
       "      <td>2018-19</td>\n",
       "    </tr>\n",
       "  </tbody>\n",
       "</table>\n",
       "<p>2810 rows × 7 columns</p>\n",
       "</div>"
      ],
      "text/plain": [
       "           STATENAME                                    WEBSITE  \\\n",
       "0     Virgin Islands                                  Influenza   \n",
       "1     Virgin Islands                                  Influenza   \n",
       "2     Virgin Islands                                  Influenza   \n",
       "3     Virgin Islands                                  Influenza   \n",
       "4     Virgin Islands                                  Influenza   \n",
       "...              ...                                        ...   \n",
       "2805        Virginia  Virginia Weekly Influenza Activity Report   \n",
       "2806    Rhode Island                     Influenza Surveillance   \n",
       "2807  South Carolina        Influenza Activity and Surveillance   \n",
       "2808       Louisiana                                  Influenza   \n",
       "2809        Missouri      Influenza Data & Statistical Reports    \n",
       "\n",
       "     ACTIVITY LEVEL ACTIVITY LEVEL LABEL      WEEKEND  WEEK   SEASON  \n",
       "0           Level 0    Insufficient Data  Mar-09-2019    10  2018-19  \n",
       "1           Level 0    Insufficient Data  Mar-16-2019    11  2018-19  \n",
       "2           Level 0    Insufficient Data  Mar-23-2019    12  2018-19  \n",
       "3           Level 0    Insufficient Data  Mar-30-2019    13  2018-19  \n",
       "4           Level 0    Insufficient Data  Apr-06-2019    14  2018-19  \n",
       "...             ...                  ...          ...   ...      ...  \n",
       "2805       Level 10                 High  Mar-30-2019    13  2018-19  \n",
       "2806       Level 10                 High  Mar-30-2019    13  2018-19  \n",
       "2807       Level 10                 High  Mar-30-2019    13  2018-19  \n",
       "2808       Level 10                 High  Mar-30-2019    13  2018-19  \n",
       "2809       Level 10                 High  Mar-30-2019    13  2018-19  \n",
       "\n",
       "[2810 rows x 7 columns]"
      ]
     },
     "execution_count": 37,
     "metadata": {},
     "output_type": "execute_result"
    }
   ],
   "source": [
    "cdc_data"
   ]
  },
  {
   "cell_type": "code",
   "execution_count": 40,
   "metadata": {
    "ExecuteTime": {
     "end_time": "2019-11-10T03:45:02.893054Z",
     "start_time": "2019-11-10T03:45:02.889440Z"
    }
   },
   "outputs": [],
   "source": [
    "states = cdc_data.STATENAME.unique()"
   ]
  },
  {
   "cell_type": "code",
   "execution_count": 41,
   "metadata": {
    "ExecuteTime": {
     "end_time": "2019-11-10T03:45:07.318612Z",
     "start_time": "2019-11-10T03:45:07.314264Z"
    }
   },
   "outputs": [
    {
     "data": {
      "text/plain": [
       "array(['Virgin Islands', 'Idaho', 'District of Columbia', 'Connecticut',\n",
       "       'Vermont', 'Commonwealth of the Northern Mariana Islands',\n",
       "       'Washington', 'West Virginia', 'Maine', 'Maryland',\n",
       "       'Massachusetts', 'Michigan', 'Wyoming', 'Puerto Rico', 'Illinois',\n",
       "       'Indiana', 'Iowa', 'Kansas', 'Kentucky', 'Delaware', 'Florida',\n",
       "       'Alaska', 'Arizona', 'Arkansas', 'California', 'Mississippi',\n",
       "       'Missouri', 'Montana', 'Nebraska', 'Nevada', 'New Hampshire',\n",
       "       'New Jersey', 'New Mexico', 'New York', 'North Carolina',\n",
       "       'North Dakota', 'Ohio', 'Oklahoma', 'Oregon', 'Pennsylvania',\n",
       "       'Rhode Island', 'South Carolina', 'South Dakota', 'Tennessee',\n",
       "       'Texas', 'Utah', 'Hawaii', 'New York City', 'Minnesota',\n",
       "       'Virginia', 'Wisconsin', 'Alabama', 'Colorado', 'Georgia',\n",
       "       'Louisiana'], dtype=object)"
      ]
     },
     "execution_count": 41,
     "metadata": {},
     "output_type": "execute_result"
    }
   ],
   "source": [
    "states"
   ]
  },
  {
   "cell_type": "code",
   "execution_count": 42,
   "metadata": {
    "ExecuteTime": {
     "end_time": "2019-11-10T03:45:14.515690Z",
     "start_time": "2019-11-10T03:45:14.511218Z"
    }
   },
   "outputs": [
    {
     "data": {
      "text/plain": [
       "55"
      ]
     },
     "execution_count": 42,
     "metadata": {},
     "output_type": "execute_result"
    }
   ],
   "source": [
    "len(states)"
   ]
  },
  {
   "cell_type": "code",
   "execution_count": 50,
   "metadata": {
    "ExecuteTime": {
     "end_time": "2019-11-10T05:03:11.526282Z",
     "start_time": "2019-11-10T05:03:11.506086Z"
    }
   },
   "outputs": [
    {
     "data": {
      "text/html": [
       "<div>\n",
       "<style scoped>\n",
       "    .dataframe tbody tr th:only-of-type {\n",
       "        vertical-align: middle;\n",
       "    }\n",
       "\n",
       "    .dataframe tbody tr th {\n",
       "        vertical-align: top;\n",
       "    }\n",
       "\n",
       "    .dataframe thead th {\n",
       "        text-align: right;\n",
       "    }\n",
       "</style>\n",
       "<table border=\"1\" class=\"dataframe\">\n",
       "  <thead>\n",
       "    <tr style=\"text-align: right;\">\n",
       "      <th></th>\n",
       "      <th>STATENAME</th>\n",
       "      <th>ACTIVITY LEVEL</th>\n",
       "      <th>ACTIVITY LEVEL LABEL</th>\n",
       "      <th>WEEKEND</th>\n",
       "      <th>WEEK</th>\n",
       "      <th>SEASON</th>\n",
       "    </tr>\n",
       "  </thead>\n",
       "  <tbody>\n",
       "    <tr>\n",
       "      <td>0</td>\n",
       "      <td>Virgin Islands</td>\n",
       "      <td>Level 0</td>\n",
       "      <td>Insufficient Data</td>\n",
       "      <td>Mar-09-2019</td>\n",
       "      <td>10</td>\n",
       "      <td>2018-19</td>\n",
       "    </tr>\n",
       "    <tr>\n",
       "      <td>1</td>\n",
       "      <td>Virgin Islands</td>\n",
       "      <td>Level 0</td>\n",
       "      <td>Insufficient Data</td>\n",
       "      <td>Mar-16-2019</td>\n",
       "      <td>11</td>\n",
       "      <td>2018-19</td>\n",
       "    </tr>\n",
       "    <tr>\n",
       "      <td>2</td>\n",
       "      <td>Virgin Islands</td>\n",
       "      <td>Level 0</td>\n",
       "      <td>Insufficient Data</td>\n",
       "      <td>Mar-23-2019</td>\n",
       "      <td>12</td>\n",
       "      <td>2018-19</td>\n",
       "    </tr>\n",
       "    <tr>\n",
       "      <td>3</td>\n",
       "      <td>Virgin Islands</td>\n",
       "      <td>Level 0</td>\n",
       "      <td>Insufficient Data</td>\n",
       "      <td>Mar-30-2019</td>\n",
       "      <td>13</td>\n",
       "      <td>2018-19</td>\n",
       "    </tr>\n",
       "    <tr>\n",
       "      <td>4</td>\n",
       "      <td>Virgin Islands</td>\n",
       "      <td>Level 0</td>\n",
       "      <td>Insufficient Data</td>\n",
       "      <td>Apr-06-2019</td>\n",
       "      <td>14</td>\n",
       "      <td>2018-19</td>\n",
       "    </tr>\n",
       "    <tr>\n",
       "      <td>...</td>\n",
       "      <td>...</td>\n",
       "      <td>...</td>\n",
       "      <td>...</td>\n",
       "      <td>...</td>\n",
       "      <td>...</td>\n",
       "      <td>...</td>\n",
       "    </tr>\n",
       "    <tr>\n",
       "      <td>2805</td>\n",
       "      <td>Virginia</td>\n",
       "      <td>Level 10</td>\n",
       "      <td>High</td>\n",
       "      <td>Mar-30-2019</td>\n",
       "      <td>13</td>\n",
       "      <td>2018-19</td>\n",
       "    </tr>\n",
       "    <tr>\n",
       "      <td>2806</td>\n",
       "      <td>Rhode Island</td>\n",
       "      <td>Level 10</td>\n",
       "      <td>High</td>\n",
       "      <td>Mar-30-2019</td>\n",
       "      <td>13</td>\n",
       "      <td>2018-19</td>\n",
       "    </tr>\n",
       "    <tr>\n",
       "      <td>2807</td>\n",
       "      <td>South Carolina</td>\n",
       "      <td>Level 10</td>\n",
       "      <td>High</td>\n",
       "      <td>Mar-30-2019</td>\n",
       "      <td>13</td>\n",
       "      <td>2018-19</td>\n",
       "    </tr>\n",
       "    <tr>\n",
       "      <td>2808</td>\n",
       "      <td>Louisiana</td>\n",
       "      <td>Level 10</td>\n",
       "      <td>High</td>\n",
       "      <td>Mar-30-2019</td>\n",
       "      <td>13</td>\n",
       "      <td>2018-19</td>\n",
       "    </tr>\n",
       "    <tr>\n",
       "      <td>2809</td>\n",
       "      <td>Missouri</td>\n",
       "      <td>Level 10</td>\n",
       "      <td>High</td>\n",
       "      <td>Mar-30-2019</td>\n",
       "      <td>13</td>\n",
       "      <td>2018-19</td>\n",
       "    </tr>\n",
       "  </tbody>\n",
       "</table>\n",
       "<p>2810 rows × 6 columns</p>\n",
       "</div>"
      ],
      "text/plain": [
       "           STATENAME ACTIVITY LEVEL ACTIVITY LEVEL LABEL      WEEKEND  WEEK  \\\n",
       "0     Virgin Islands        Level 0    Insufficient Data  Mar-09-2019    10   \n",
       "1     Virgin Islands        Level 0    Insufficient Data  Mar-16-2019    11   \n",
       "2     Virgin Islands        Level 0    Insufficient Data  Mar-23-2019    12   \n",
       "3     Virgin Islands        Level 0    Insufficient Data  Mar-30-2019    13   \n",
       "4     Virgin Islands        Level 0    Insufficient Data  Apr-06-2019    14   \n",
       "...              ...            ...                  ...          ...   ...   \n",
       "2805        Virginia       Level 10                 High  Mar-30-2019    13   \n",
       "2806    Rhode Island       Level 10                 High  Mar-30-2019    13   \n",
       "2807  South Carolina       Level 10                 High  Mar-30-2019    13   \n",
       "2808       Louisiana       Level 10                 High  Mar-30-2019    13   \n",
       "2809        Missouri       Level 10                 High  Mar-30-2019    13   \n",
       "\n",
       "       SEASON  \n",
       "0     2018-19  \n",
       "1     2018-19  \n",
       "2     2018-19  \n",
       "3     2018-19  \n",
       "4     2018-19  \n",
       "...       ...  \n",
       "2805  2018-19  \n",
       "2806  2018-19  \n",
       "2807  2018-19  \n",
       "2808  2018-19  \n",
       "2809  2018-19  \n",
       "\n",
       "[2810 rows x 6 columns]"
      ]
     },
     "execution_count": 50,
     "metadata": {},
     "output_type": "execute_result"
    }
   ],
   "source": [
    "pd.read_csv(\"./Data/dataset/2018-19.csv\")"
   ]
  },
  {
   "cell_type": "code",
   "execution_count": 23,
   "metadata": {
    "ExecuteTime": {
     "end_time": "2019-11-16T11:07:12.071186Z",
     "start_time": "2019-11-16T11:07:12.068528Z"
    }
   },
   "outputs": [],
   "source": [
    "twt_path = './Data/dataset/2018/10/2018_10_01.json'"
   ]
  },
  {
   "cell_type": "code",
   "execution_count": 262,
   "metadata": {
    "ExecuteTime": {
     "end_time": "2019-11-18T06:17:07.840699Z",
     "start_time": "2019-11-18T06:17:07.820096Z"
    }
   },
   "outputs": [
    {
     "name": "stdout",
     "output_type": "stream",
     "text": [
      "{'type': 'Point', 'coordinates': [43.66412, -79.3838]} Toronto, Canada\n",
      "{'type': 'Point', 'coordinates': [14.64766, 121.05151]} Udi-Kongz\n",
      "{'type': 'Point', 'coordinates': [49.13966667, 0.23666667]} Pasig City, National Capital Region\n",
      "{'type': 'Point', 'coordinates': [34.0751, -117.55689]} 4323 Mills Cir1 108 Ontario,CA\n"
     ]
    }
   ],
   "source": [
    "tweets = []\n",
    "datas = []\n",
    "with open(twt_path,'r') as file:\n",
    "    \n",
    "    for line in file:\n",
    "        if line != \"\\n\":\n",
    "            data = json.loads(line)\n",
    "            tweets.append(data['text'])\n",
    "            datas.append(data)\n",
    "            if data['geo']:\n",
    "                print(data['geo'], data['location'])"
   ]
  },
  {
   "cell_type": "code",
   "execution_count": 25,
   "metadata": {
    "ExecuteTime": {
     "end_time": "2019-11-16T11:07:14.408230Z",
     "start_time": "2019-11-16T11:07:14.404085Z"
    }
   },
   "outputs": [
    {
     "data": {
      "text/plain": [
       "4691"
      ]
     },
     "execution_count": 25,
     "metadata": {},
     "output_type": "execute_result"
    }
   ],
   "source": [
    "len(tweets)"
   ]
  },
  {
   "cell_type": "code",
   "execution_count": 26,
   "metadata": {
    "ExecuteTime": {
     "end_time": "2019-11-16T11:07:14.657314Z",
     "start_time": "2019-11-16T11:07:14.637892Z"
    }
   },
   "outputs": [
    {
     "data": {
      "text/plain": [
       "['I am a chill person but mess with my boys then go boy, you better run because i spit facts and shade, not nonsense. IDOL…',\n",
       " 'Nowplaying Fever Ray - To The Moon And Back on ',\n",
       " 'GemStrange55 Oh, is it colds and flu? Get well soon, and rest emo_thumbs_up ',\n",
       " \"Jimin wearing Hoseok's fluffy bucket hat is the cutest thing in existence :( Can I get an ultimate UWU IDOL PCAs TheMusi…\",\n",
       " \"When Ruth Bader Ginsburg wakes up, Justice Brett Kavanaugh shall be next to her. And she's next! emo_fire Trump's influence o…\",\n",
       " '\"Cows play fetch? Where the hell has this information been all my life?\" ',\n",
       " 'It must be fancy dress at CPC18, with half of attendees choosing to go as empty chairs! ',\n",
       " ' If you like the bottom chocolate filled end of a Sundae Cone, check this out.',\n",
       " 'Attitude is a little thing that makes a big difference. – Winston Churchill quote',\n",
       " 'Me, reading smut (on my phone in public): straight face and no visible reaction Me, reading fluff: having the hard… ',\n",
       " 'The stylist Lee Jingyu who worked with BTS_twt in HYYH series talked about them “Now they are so famous & influential to do…',\n",
       " 'Dear Jeonghan’s future son and daughter, prepare yourself bcs this is the thing your Dad will ask every 5 minutes https:/…',\n",
       " 'way better than an Android ',\n",
       " '13 Scary Horror Franchises That Turned Into Chill 420 Accessories ',\n",
       " 'He’s so fluffy emo_loudly_crying_face emo_loudly_crying_face emo_loudly_crying_face emo_red_heart ',\n",
       " 'The stylist Lee Jingyu who worked with BTS_twt in HYYH series talked about them “Now they are so famous & influential to do…',\n",
       " 'It is not happy people who are thankful. It is thankful people who are happy. ALDUBFever4ever',\n",
       " 'Retweet this second ',\n",
       " 'THANK YOU SEPTEMBER AND WELCOME MY BIRTHMONTH OCTOBER. STAYING POSITIVE THAT THIS WILL BE A MEMORABLE MONTH ALDUBFever…',\n",
       " 'Friendship is love with understanding. ALDUBFever4ever',\n",
       " 'Why I Have Vomiting And Diarrhea-How To Diagnose The Causes ',\n",
       " '\"Cows play fetch? Where the hell has this information been all my life?\" ',\n",
       " '“A fat ass isn’t worth a headache”',\n",
       " \"You have to do what others won't. To achieve what others don't - Unknown ALDUBFever4Ever emo_heart_suit \",\n",
       " 'realAnointedC YomiShogunle PoliceNG Someone can not greet una in peace ? Every avenue is just for you to fight sha niemo_persevering_face chill small nau',\n",
       " 'Talent wins games, but teamwork and intelligence wins championships - Michael Jordan ALDUBFever4Ever emo_heart_suit ',\n",
       " 'Decentralization of the World Wide Web is coming! The DigiByte future shines brighter everyday! jaredctate dgb_chilli…',\n",
       " 'GO MAYMAY! ',\n",
       " 'When they catch feelings just from chilling with you ',\n",
       " \"It was the devil you hated, not me. In weakness I bent and he overtook the vessel in my life's tragedy.\",\n",
       " 'ALDUBFever4ever emo_face_blowing_a_kiss lynieg88 Arwen_Elfin ermiesagum salvadortrish21 sherrypie18 radoc_jeana carl05290 SaltikWow…',\n",
       " 'how combustible is gender fluid?',\n",
       " 'emo_glowing_star emo_butterfly FLUTTERBY GEMSemo_butterfly emo_glowing_star SPOOKY GIVEAWAY! emo_bat emo_jack-o-lantern emo_ghost emo_orange_heart cannot thank you all enough for the endless support so I wanted to do an October…',\n",
       " 'Jack Em Popoy Shoot Yesterday ALDUBFever4ever ',\n",
       " 'ALDUBFever4ever emo_face_blowing_a_kiss lynieg88 Arwen_Elfin ermiesagum salvadortrish21 sherrypie18 radoc_jeana carl05290 SaltikWow…',\n",
       " 'for Maine x MAC pa rin sya guys emo_smiling_face_with_heart-eyes ALDUBFever4ever',\n",
       " 'Still in utter shock and disbelief every time something like this happens. I get pure chills thinking about how luc… ',\n",
       " '...i think I DO ALDUBFever4ever',\n",
       " \"Menggay's dangling earrings emo_face_with_tears_of_joy ALDUBFever4Ever \",\n",
       " 'Every day is a new beginning. Treat it that way. Stay away from what might have been, and look at what can be. ALDUBFever…',\n",
       " 'What the hell is going on in Baghdad? Assassinating women for being beautiful, influential or activists? Where are you MeTo…',\n",
       " 'Art is the perfection of nature - Sir Thomas Browne ALDUBFever4Ever emo_heart_suit ',\n",
       " 'AuConservatives Well, there’s confirmation! The neo-cons are exerting their influence within the party. Expecting… ',\n",
       " 'The best way to pay for a lovely moment is to enjoy it - Richard Bach ALDUBFever4Ever emo_heart_suit ',\n",
       " 'Mon 04:47: Partly Cloudy; Temp -2.5 C; Windchill -9; Wind W 25 km/h; Humidity 87%; Press 100.8 kPa / falling. ',\n",
       " 'Hope is the cordial that keeps life from stagnating.– Samuel Richardson ALDUBFever4ever emo_heart_suit VMHammermanPoisoned emo_heart_suit ',\n",
       " 'EatBulaga u made our day, love to see Meng on a Monday in BW! BOOMga tlga! ALDUBFever4ever',\n",
       " 'How far that little candle throws its beams! So shines a good deed in a naughty world-- William Shakespeare ALDUBFever4ev…',\n",
       " 'No legacy is so rich as honesty-- William Shakespeare ALDUBFever4ever',\n",
       " 'Poor and content is rich, and rich enough-- William Shakespeare ALDUBFever4ever',\n",
       " '30 minutes in and 27 flu vaccs done at Crickets Lane!! Well done team. Keepingpatientssafe! emo_thumbs_up_light_skin_tone emo_OK_hand_medium_skin_tone TandpT… ',\n",
       " 'I don’t wish to be everything to everyone, but I would like to be something to someone. ALDUBFever4ever',\n",
       " 'The ones who want to achieve and win championships motivate themselves - Mike Ditka ALDUBFever4Ever emo_heart_suit ',\n",
       " 'Wonders will never cease! ALDUBFever4ever',\n",
       " 'Still not made up your mind to get the flu jab? or wondering where to go & get it sorted out quickly? Think pharmacy…',\n",
       " '10k to 300k More tweets guys ALDUBFever4ever',\n",
       " 'See them guns? emo_flexed_biceps_light_skin_tone emo_fire VMHammermanPoisoned ALDUBFever4ever ',\n",
       " \"Think You Don't Need A Flu Shot? Here Are 5 Reasons To Change Your Mind \",\n",
       " 'Im also watchin while having lunch! ma1208an ALDUBFever4ever ',\n",
       " 'Fever video! Burst head! emo_shushing_face emo_shushing_face emo_exploding_head emo_exploding_head ',\n",
       " 'einaaparaisoo chill lang',\n",
       " 'I’m live!! Streaming fortnite Come chill and give some feed back on the stream! supportSmallStream…',\n",
       " 'Must protect this precious payb at all cost. VMHammermanPoisoned ALDUBFever4ever ',\n",
       " 'ᶦᵗ ᵒᶜᵗᵒᵇᵉʳ ʰᵃᵖᵖᵉ ʰᵃˡᵒʷᵉᵉⁿ ',\n",
       " 'LauraLoomer keithellison Stop the influx of refugees into America! Stop them at the borders! Stop Dems from bring… ',\n",
       " 'Never let nostalgia be your weakness.',\n",
       " '“If I tell you I love you, can I keep you forever?” ALDUBFever4ever',\n",
       " 'Jack Em Popoy shooting yesterday emo_woman_police_officer_light_skin_tone emo_copyright Nancy Dadea mainedcmMACMoAin4Days ALDUBFever4ever ',\n",
       " 'LucyXIV Market it along side the old sex party’s corflutes (Reason) as “Buston”',\n",
       " 'Make your work to be in keeping with your purpose - Leonardo da Vinci ALDUBFever4Ever emo_heart_suit ',\n",
       " 'Do you suffer from constant fatigue? Eat plenty of energy-rich nutrients like oranges so you have extra Energy! ',\n",
       " 'Nothing resists a human will that stakes its very existence upon the achievement of its purpose. ALDUBFever4Ever emo_heart_suit ',\n",
       " 'A man without a purpose is like a ship without a rudder - Thomas Carlyle ALDUBFever4Ever emo_heart_suit ',\n",
       " '\"Cows play fetch? Where the hell has this information been all my life?\" ',\n",
       " 'AQUARIUS: (pros) - so unique - cHill asF - one of the best signs - straight up - humble - great conversationalist - good m…',\n",
       " 'NoChill4D I agree',\n",
       " 'darna817 Nice to hear from you again, Mommy Jovie! See you po sa ADN Homecoming! Ingat po kayo lagiemo_red_heart ALDUBFever4ever',\n",
       " 'shit! headache!',\n",
       " \"Palz lyfe don't get any beta, sat in me favourite pot bein fed my favourite fruit by mummy, Rosie iz a hoppy gurl emo_beating_heart emo_rabbit emo_beating_heart …\",\n",
       " 'Great minds discuss ideas. Average minds discuss events, small minds discuss people. ALDUBFever4ever',\n",
       " \"Some people should be using pit latrines since they don't know how to flush a toilet.\",\n",
       " 'The hardest thing to understand in the world is the income tax -- Albert Einstein ALDUBFever4ever',\n",
       " \"the boyz's crackhead leader sangyeonday \",\n",
       " 'chillin’ with my baby ',\n",
       " 'The best time to plant a tree was years ago The second best time is now -- Chinese Proverb ALDUBFever4ever',\n",
       " 'release.. this.. pictures.. please!!!emo_loudly_crying_face ',\n",
       " 'On November 6th, don\\'t forget to flush. Help the \"blue wave\" get home. INSTABLOCK ',\n",
       " 'Yall can keep that baby fever, i got puppy fever, shiddd ',\n",
       " 'Churchill starved 4.3m Bengalis to death when he diverted food to Europe in 1943. In 1944 he ordered British troops to open…',\n",
       " \"One Night Cough Syrup' with some remarkable ingredients, manufactured in Baltimore, 1888 \",\n",
       " 'Hope sees the invisible, feels the intangible and achieves the impossible - Unknown ALDUBFever4Ever emo_heart_suit ',\n",
       " 'Spread and support our OHT mga apo ALDUBFever4ever ofctrendsetter SenyoraTidora_ ',\n",
       " 'What the mind can conceive and believe, the mind can achieve - Napoleon Hill ALDUBFever4Ever emo_heart_suit ',\n",
       " '\"Cows play fetch? Where the hell has this information been all my life?\" ',\n",
       " 'The stylist Lee Jingyu who worked with BTS_twt in HYYH series talked about them “Now they are so famous & influential to do…',\n",
       " 'Just chillin ',\n",
       " 'WE ARE.... LIVE! emo_raising_hands emo_small_orange_diamond emo_small_orange_diamond Cello Song Requests & Stuff emo_small_orange_diamond Chill & Positive vibes! INFINIUM CelloGods InfHy…',\n",
       " 'ARE just a tiny blip on a sneeze.',\n",
       " 'OH. MY. FUCKING. GODDDD. SIRI CHILLLLLL emo_skull emo_skull emo_skull emo_skull emo_skull emo_skull emo_fire emo_fire emo_fire emo_fire emo_fire ',\n",
       " 'Our deputy director of nursing, DillyWilkinson was leading by example by getting her flu vaccination this morning.… ',\n",
       " 'Your smile is my weakness.',\n",
       " 'OH. MY. FUCKING. GODDDD. SIRI CHILLLLLL emo_skull emo_skull emo_skull emo_skull emo_skull emo_skull emo_fire emo_fire emo_fire emo_fire emo_fire ',\n",
       " 'u ever smell the air and it smells like the fourth grade scholastic book fair on a chilly tuesday in October of 2007',\n",
       " 'To do a great right do a little wrong-- William Shakespeare ALDUBFever4ever',\n",
       " \"MikeOzzy FluffyKnittens TheCraftersUK SacredSpaceArt It's sumptuous isn't it emo_smiling_face_with_sunglasses \",\n",
       " 'Yups! How to use ze lippie as a blush on, eyeshadow eme! Galing dba? emo_rolling_on_the_floor_laughing emo_rolling_on_the_floor_laughing emo_rolling_on_the_floor_laughing emo_OK_hand_light_skin_tone ALDUBFever4ever ',\n",
       " 'Wisely, and slow They stumble that run fast-- William Shakespeare ALDUBFever4ever',\n",
       " 'UstrulyMahesh SsMahi07 emo_person_facepalming chill chinnoda emo_smiling_face_with_heart-eyes ',\n",
       " 'Forget Bitcoin! Have you checked the hottest currency in town? No market fluctuations, no online fraud, only steady… ',\n",
       " 'Have a great week ahead, mainedcm aldenrichards02! emo_red_heart ALDUBFever4ever ',\n",
       " 'Your smile is my weakness.',\n",
       " 'The course of true love never did run smooth-- William Shakespeare ALDUBFever4ever c',\n",
       " 'itscaitlinhd We have the power to keep the spotlight on this human crisis - there are still HUNDREDS of children ILLEGALL…',\n",
       " 'I liked a YouTube video Won a Fortnite tournament with the flu (threw up mid game)',\n",
       " 'Happiness Coming and going I watch you look at me Watch my fever growing I know just who I am NewProfilePic …',\n",
       " \"Don't forget. To enter BeChilled draw RT & Follow to be in with a chance of winning a 4 night stay at High Biggin from…\",\n",
       " 'The stylist Lee Jingyu who worked with BTS_twt in HYYH series talked about them “Now they are so famous & influential to do…',\n",
       " 'chilltyler ',\n",
       " 'way better than an Android ',\n",
       " 'MUST-WATCH: Past Conservative Prime Ministers, including Churchill, Eden, Macmillan, Heath, Thatcher, Major, Cameron &…',\n",
       " 'Was is it not Tinubu’s influence that got Ambode there? Did Tinubu not let Fashola do 2 terms?there must be a reason why Tin…',\n",
       " 'Respect is what we owe; love what we give - Philip James Bailey ALDUBFever4Ever emo_heart_suit ',\n",
       " '\"Cows play fetch? Where the hell has this information been all my life?\" ',\n",
       " 'Boxed off emo_white_heavy_check_mark fucking sick shit emo_hundred_points chill out week this weekend go to Hannah wants emo_exclamation_question_mark and then the following weekend houseworks baby emo_shushing_face emo_raising_hands ',\n",
       " 'Boom Ka Day mainedcm is in EB ALDUBFever4ever',\n",
       " 'Find a heart that will love you at your worst and arms that will hold you at your ALDUBFever4ever weakest.',\n",
       " 'Your smile is my weakness.',\n",
       " \"A man who doesn't trust himself can never really trust anyone else - Cardinal De Retz ALDUBFever4Ever emo_heart_suit \",\n",
       " '\"The best usage of this face filter ever\" ',\n",
       " 'have even more tatsujun ',\n",
       " 'Fever emo_musical_notes emo_musical_notes emo_musical_notes emo_musical_notes emo_musical_notes ',\n",
       " 'Children aged 2-5 years should get their flu vaccine with their GP. The flu vaccine protects your child against flu… ',\n",
       " 'The stylist Lee Jingyu who worked with BTS_twt in HYYH series talked about them “Now they are so famous & influential to do…',\n",
       " 'A successful man is one who can lay a firm foundation with the bricks others have thrown at him. ALDUBFever4ever emo_face_blowing_a_kiss …',\n",
       " 'Influential tourist guide drops Donald Trump’s Turnberry Hotel ',\n",
       " \"the boyz's crackhead leader sangyeonday \",\n",
       " 'ALDUBFever4ever emo_face_blowing_a_kiss lynieg88 pinkyfaye wengcookie salvadortrish21 sherrypie18 radoc_jeana ALDUBThess16 iam_ging…',\n",
       " 'Every day is a new beginning. Treat it that way. Stay away from what might have been, and look at what can be. ALDUBFever…',\n",
       " 'The person who provides the money for something should control how it is spent. ALDUBFever4ever',\n",
       " 'One actually.. And its titled FEVER',\n",
       " 'lbc tory andrew castle , tory theo usherwood tory tom swarbrick should be theresa may`s fluffer',\n",
       " \"AnneForte5 ChristinaSNP thetimesscot She's as influential as my big toe\",\n",
       " 'Weakness of attitude becomes weakness of character. - Albert Einstein',\n",
       " 'We all know when you gamble the House/Bookmakers are the winners But I like a flutter so I’ve got £20 in the pot le… ',\n",
       " 'Those who seek power are not worthy of that power - Plato ALDUBFever4Ever emo_heart_suit ',\n",
       " '\"Cows play fetch? Where the hell has this information been all my life?\" ',\n",
       " 'I love you always. FA by: sakurakharel emo_smiling_face_with_heart-eyes ALDUBFever4ever ofctrendsetter grabesila ALDUBNation jophie30 LaDiosaRM…',\n",
       " 'My heartiest gratitude for Team Positive_Pk &especially iamusmanjolaha for giving me the award of \"Social Media Influence…',\n",
       " 'Flu jab: Can you have the vaccine when you have a cold? NHS issues this advice ',\n",
       " 'Kill your doubt with the coldest of weapons: Confidence - Brandon Boyd ALDUBFever4Ever emo_heart_suit ',\n",
       " 'Jodi: Good morning! Brrr, bit chilly?! Coffee time...',\n",
       " 'Man can’t discover new oceans until he has the courage to lose sight of the shore. ALDUBFever4ever',\n",
       " 'Im not looking for someone who has everything. But someone who has time to spend with me more than ALDUBFever4ever anyth…',\n",
       " 'ALDUBFever4ever emo_face_blowing_a_kiss lynieg88 pinkyfaye wengcookie salvadortrish21 sherrypie18 radoc_jeana ALDUBThess16 iam_ging…',\n",
       " 'Women give a house its comfort and character. ALDUBFever4ever',\n",
       " 'Tom Yam Het Soup - Hot and sour spicy mushroom soup with chilli, lemongrass and coriander. Mmmm...… ',\n",
       " 'All food tastes good when you are hungry. ALDUBFever4ever',\n",
       " 'every girls weakness... allendwightflo2 ',\n",
       " 'A leopard cannot change its spots. ALDUBFever4ever',\n",
       " 'People don’t notice whether it’s winter or summer when they’re happy. ALDUBFever4ever emo_face_blowing_a_kiss lynieg88 pinkyfaye wengco…',\n",
       " 'I just published “Why Flutter Going to Give Big Fight to React Native?” ',\n",
       " 'Good morning aldenrichards02 !!! Werk werk werk!!!! Have a great day ahead ALDUBFever4ever ',\n",
       " 'Now and then it’s good to pause in our pursuit of happiness and just be happy. ALDUBFever4ever emo_face_blowing_a_kiss lynieg88 pinkyfay…',\n",
       " 'Sometimes second chance work out better than the first b’coz you already learned from your ALDUBFever4ever mistakes.',\n",
       " 'pinchpunchfirstofthemonth starting with a selftape this morning before a rather chilly dog walk!',\n",
       " 'Are You Feeling This Schoolboy Q x Kendrick Lamar Type Beat \"It\\'s Back\" - ',\n",
       " 'It is only possible to live happily ever after on a day to day basis. ALDUBFever4ever emo_face_blowing_a_kiss lynieg88 pinkyfaye wengco…',\n",
       " 'A great grandmother from Chinchilla has had the birthday party of the century, claiming the key to a long life is t… ',\n",
       " 'If you learn when to keep silent you will avoid trouble. ALDUBFever4ever',\n",
       " \"Nigel_Farage Jeremy Hunt being a member of the ToryBrexefluent=Bullingdon Club 'National 'Socialists.' As not take… \",\n",
       " 'Vote for James Charles by retweeting this post: JamesCharles TheBeautyInfluencer PCAs ',\n",
       " 'He who hesitates is lost. ALDUBFever4ever',\n",
       " 'Sergalfluffs Time to eat people and give their bones to your local necromancer',\n",
       " 'they all folded a finger when someone said “pretty ones fold a finger” during the game but tae got all shy and flustered afte…',\n",
       " 'ALDUBFever4ever emo_face_blowing_a_kiss lynieg88 pinkyfaye wengcookie salvadortrish21 sherrypie18 radoc_jeana ALDUBThess16 iam_ging…',\n",
       " 'I’m getting the chilling adventures of sabrina this month ',\n",
       " 'UPDATE 1-China Sept factory growth slows amid trade tensions * Sept factory survey signals further weakness in eco… ',\n",
       " 'Race and Ethnicity should be fluid. Nationality and indigeneship should be a Social Construct. This Biological basis of i…',\n",
       " 'a baby ',\n",
       " 'Hard words breaks no bones. ALDUBFever4ever',\n",
       " 'The stylist Lee Jingyu who worked with BTS_twt in HYYH series talked about them “Now they are so famous & influential to do…',\n",
       " 'Y’all ever cry in silence & immediately pull yourself together & start being social? Like is a bitch strong or emotiona…',\n",
       " 'wait for it ',\n",
       " 'watch until the end ',\n",
       " \"As Chernobyl's gray wolf population increases, its influence on the surrounding environment is called into question …\",\n",
       " \"My best boy is Prince and he's the chillest person alive\",\n",
       " \"We know you're still recovering from the weekend after-effects! emo_winking_face Retweet if you can relate with it. KareenaKapoorKha…\",\n",
       " 'The most positive men are the most credulous. ALDUBFever4ever',\n",
       " 'The way I’ve just been chilling yeah, fully forgot I’m a Uni student',\n",
       " 'masonjar62 BreedersCup LonginesEq ChurchillDowns Check out saratogajunkie’s Tweet: ',\n",
       " 'If you haven’t checked out feverdaydream, go buy their new album and enjoy.',\n",
       " 'Infographic: de micro-influencer influencer-marketing via Emerce',\n",
       " 'The way I’ve just been chilling yeah, fully forgot I’m a Uni student',\n",
       " 'MUST-WATCH: Past Conservative Prime Ministers, including Churchill, Eden, Macmillan, Heath, Thatcher, Major, Cameron &…',\n",
       " 'People vary in character and abilities, and this is a good thing. ALDUBFever4ever',\n",
       " 'Is this a distraction? Is tired of Brexit ? Is he tired of all criticism and wanting to promote a Fluffy bunny’ p… ',\n",
       " 'ManaloMac Done ALDUBFever4Ever',\n",
       " 'A flat white will make everything right on this chilly Monday morning. Freshly-ground, fair trade and handmade with… ',\n",
       " 'The stylist Lee Jingyu who worked with BTS_twt in HYYH series talked about them “Now they are so famous & influential to do…',\n",
       " 'Treatzz_ emo_loudly_crying_face emo_loudly_crying_face emo_loudly_crying_face ke chillies ya hao babeemo_face_with_tears_of_joy ',\n",
       " 'Courage is being scared to death, but saddling up anyway - John Wayne ALDUBFever4Ever emo_heart_suit ',\n",
       " 'How To Influence Your Children Towards \"Self Motivation\" - motivation kids books reading getmotivated… ',\n",
       " 'Love your ’ll confuse them.. ALDUBFever4ever',\n",
       " 'Judging by the amount coughing that is occurring in this lecture I share with 1st years. Freshers flu has hit with… ',\n",
       " 'thank u boys for healing my fever emo_smiling_face_with_heart-eyes emo_smiling_face_with_smiling_eyes iKON_GoodbyeRoad',\n",
       " \"Prof Mark O'Donnell gets his flufighter vaccination as we launch the NHSflufighter campaign today \",\n",
       " 'It must be fancy dress at CPC18, with half of attendees choosing to go as empty chairs! ',\n",
       " 'No tears, no sniffles. Asked for caffeine but never a tissue. Lawyer to the left, lawyer to the right, but no husband, f…',\n",
       " 'Insurmountable chaos: How 2 soldiers stopping in Winnipeg led to 1,200 deaths from Spanish Flu | CBC News… ',\n",
       " 'Twitter.....because your relatives are on Facebook.',\n",
       " '10k to 300k More tweets guys ALDUBFever4ever',\n",
       " '10k to 300k More tweets guys ALDUBFever4ever',\n",
       " 'The way I’ve just been chilling yeah, fully forgot I’m a Uni student',\n",
       " 'ALDUBFever4ever emo_face_blowing_a_kiss lynieg88 Arwen_Elfin ermiesagum salvadortrish21 sherrypie18 radoc_jeana carl05290 SaltikWow…',\n",
       " 'soundscaper LadyPoop2 DaveSharma They’re filthy. In the last election Liberals were pulling down Indie corflutes in the…',\n",
       " 'And if you wanted to see lovely \\u2066alandavies1\\u2069 and some fluffy pigs tune in 10 pm today BBC 2 - alandavies1 sarapascoe…',\n",
       " 'ALDUBFever4ever emo_face_blowing_a_kiss lynieg88 pinkyfaye wengcookie salvadortrish21 sherrypie18 radoc_jeana ALDUBThess16 iam_ging…',\n",
       " 'Bossing ang Menggay in 1 screen is emo_smiling_face_with_heart-eyes Parehong dancing while sitting. emo_grinning_face_with_smiling_eyes emo_grinning_face_with_smiling_eyes emo_grinning_face_with_smiling_eyes ALDUBFever4ever',\n",
       " 'Little something I wrote about ChurchillGowns innovating in a 500 year old industry emo_graduation_cap emo_nerd_face emo_memo ',\n",
       " '...Tiffany Pollard is a generational icon. Literally everything she says is worth a meme. Impact. Influence. Icon https:/…',\n",
       " 'darylnelson01 ODesignzz CaesarArcher Swamp_Fever2020 harjo111 KimberlyMrsRR1 NancyJKoch mtenorio77 RayPatriot7…',\n",
       " 'ALDUBFever4ever emo_face_blowing_a_kiss lynieg88 pinkyfaye wengcookie salvadortrish21 sherrypie18 radoc_jeana ALDUBThess16 iam_ging…',\n",
       " 'False friends are worse than open enemies. ALDUBFever4ever',\n",
       " '...Tiffany Pollard is a generational icon. Literally everything she says is worth a meme. Impact. Influence. Icon https:/…',\n",
       " 'Destiny is not a matter of chance. Its a matter of choice. ALDUBFever4ever',\n",
       " 'BIG NEWS !!! Linkfluence acquires and raises 18M€ CM SMM SocialListening Leveedefonds… ',\n",
       " 'Love and you shall be loved - Ralph Waldo Emerson ALDUBFever4ever emo_heart_suit VMHammermanPoisoned emo_heart_suit ',\n",
       " 'Trust is built step by step, commitment by commitment, on every level - Robert C. Solomon ALDUBFever4Ever emo_heart_suit ',\n",
       " \"Ah, it's flujab season. It's time to come up with a more efficient way of administering these things. I could jab… \",\n",
       " 'The darkest hour is just before dawn. ALDUBFever4ever',\n",
       " 'The best advice is found on the pillow. ALDUBFever4ever',\n",
       " 'eccentric loading in Achilles tendinopathy associated with increase in VISA A and increase in stiffness of tendon on SWE…',\n",
       " 'A senior tory donor who has donated more than £1m in recents yrs has ‘said there is a group of influential Conservative fi…',\n",
       " \"Remember when influencers swore Lagos was clean and there were street lights everywhere? Now that they've been paid to s…\",\n",
       " 'predicting Week 6: including big games QO vs Paint Branch, Northwest vs Churchill... ',\n",
       " 'Edcarter93 BL__FI I think Ramsey has had his flutter with the media in the last week but not been fortunate enoug… ',\n",
       " \"i'm not how yoongi got flustered when tae suddenly kneeled in front of him, and tae stole kook's spot and immediately grab…\",\n",
       " '“Better to die fighting for freedom then be a prisoner all the days of your life.” ― Bob Marley ALDUBFever4ever emo_heart_suit VMHam…',\n",
       " 'My Phone Is Like My Lover. Its The Last Thing I See At Night, And The First Thing I Wake Up To Every Morning. ALDUBFever4ev…',\n",
       " 'lmfao this me when I sneeze in class and everybody keeps on doing their work and don’t say bless you …',\n",
       " 'AmorCueto fleurs77541 Happy MaineDay, too AmorCueto emo_tulip emo_four_leaf_clover emo_rose ALDUBFever4ever',\n",
       " 'OMG Jeon jeonggukk combing his tender-soft-precious-fluffy hair ꒪Д꒪)ノ ',\n",
       " 'Nothing like starting the day with a horrible headache. emo_crying_face ',\n",
       " 'ALDUBFever4ever emo_face_blowing_a_kiss lynieg88 pinkyfaye wengcookie salvadortrish21 sherrypie18 radoc_jeana ALDUBThess16 iam_ging…',\n",
       " 'Teamwork is working together — even when apart - Unknown ALDUBFever4Ever emo_heart_suit ',\n",
       " 'Bruv was eating an apple and it went down the wrong pipe. Was coughing and gagging ....eyes watery. A whole mess S/O t…',\n",
       " 'It takes a thoroughly good woman to do a thoroughly stupid thing - Oscar Wilde ALDUBFever4ever emo_heart_suit VMHammermanPoisoned emo_heart_suit ',\n",
       " 'Happy WorldVegetarianDay FriendsNotFood Share your pics of your fave animal pal. Big or small, fluffy, feathere… ',\n",
       " \"Wonders If Its Bad When I'm Talking To Myself And I'm Not Even Listening... ALDUBFever4ever\",\n",
       " 'ninjamaichard Trueeee!!!! mainedcmMACMOAin4Days ALDUBFever4ever',\n",
       " 'Better to drink the milk than to eat the cow. ALDUBFever4ever',\n",
       " 'u ever smell the air and it smells like the fourth grade scholastic book fair on a chilly tuesday in October of 2007',\n",
       " 'a tweetdeck tragedy in 3 acts ',\n",
       " 'make it a bigdeal if we flunked class but hmmm',\n",
       " 'The devil makes work for idle hands. ALDUBFever4ever',\n",
       " 'If you chase two rabbits, you will not catch either one. ALDUBFever4ever',\n",
       " 'watch until the end ',\n",
       " 'Protecting notorious land grabbers \"Mansha Bomb\" & influencing Police investigations, PTI MNA Karamat Khokar & MPA Nadeem B…',\n",
       " \"Gifted vocalists really need to chill. We don't want y'all's instruments to deteriorate because you don't rest it enough.…\",\n",
       " 'If death comes now, you will not have to experience it later. ALDUBFever4ever',\n",
       " \"I'm not afraid of death; I just don't want to be there when it happens. ALDUBFever4ever emo_face_blowing_a_kiss lynieg88 pinkyfaye weng…\",\n",
       " 'OHT 01Oct2018: ALDUBFever4ever Goal: 1B tweets for HT ALDUB (24-Hr Limit) ofctrendsetter ALDUBNation mainedcm aldenr…',\n",
       " 'Y’all ever cry in silence & immediately pull yourself together & start being social? Like is a bitch strong or emotiona…',\n",
       " 'nintendo character: *breathes* fanartists: ',\n",
       " 'Stay safe people. And remember that reaching out for help is never a sign of weakness, it’s always a sign of strength. L…',\n",
       " 'Coincidence? I think not emo_smiling_face_with_heart-eyes emo_smiling_face_with_heart-eyes mainedcm aldenrichards02 ALDUBFever4Ever ',\n",
       " 'Sore throat got me like ',\n",
       " 'Founder - Tanzania Natural beauty day. Looking forward to influence and educate females to love ,accept and maintain thei…',\n",
       " 'A fly will not get into a closed mouth. ALDUBFever4ever',\n",
       " 'We enjoy a challenging TA just as much as the next crypto nerd. Won’t you join us? coinbundle bndl cryptofever https…',\n",
       " 'Over’s 50 coffeemorning benchillcomcent wythenshawe 10:30am – 12:30pm community RealBenchill …',\n",
       " '\"Is it too early for Meolloween?\" ',\n",
       " 'troughofluxury TheBInstitute The Marrying Turkey sends his regards.',\n",
       " \"Wizkid song fever and master groove sound like a 09 music to my hearing , am a big fan but this wasn't what I was… \",\n",
       " 'Weakness of attitude becomes weakness of character. - Albert Einstein',\n",
       " \"DJChrisssy555 We're really pleased you're following us. Sign up for our mailing list for App information \",\n",
       " 'Question: Have you ever kissed social media influencer? Ind: I Have (enter the giggling & squealing like a 5 yea… ',\n",
       " 'No man is an island. ALDUBFever4ever',\n",
       " 'The giving of love is an education in itself - Eleanor Roosevelt ALDUBFever4ever emo_heart_suit VMHammermanPoisoned emo_heart_suit ',\n",
       " '\"Cows play fetch? Where the hell has this information been all my life?\" ',\n",
       " 'PatriotJenn michaelbeatty3 wvufanagent99 battleofever Jamierodr10 PhilMcCrackin44 buzzman888 joegooding ArizonaK…',\n",
       " 'When you sneeze in your period at Santorini... ',\n",
       " \"[Nichkhun] Nichkhun, awarded the 'Asian Superstar' in Thailand! Proof of wide popularity and influence …\",\n",
       " 'Dont use your words to describe the situation. Use your words to change the situation. ALDUBFever4ever',\n",
       " 'A happy person needs nothing more. ALDUBFever4ever',\n",
       " 'Your smile is my weakness.',\n",
       " 'Fever video! Burst head! emo_shushing_face emo_shushing_face emo_exploding_head emo_exploding_head ',\n",
       " 'got a headache from reading and crying :((( why are stories sad',\n",
       " 'A hint or a subtle signal is enough to convey meaning to someone who is ready to understand. ALDUBFever4ever',\n",
       " 'Still waiting for a response to this. Still waiting for the FBI to contact me or my client. ',\n",
       " 'HandleMode and Influencer Marketing are the Future of Social Media! crypto blockchain bitcoin ico preico presale h…',\n",
       " 'Enterprise B2B Influencer Marketing Interview: Luciana Moran, D&B - ',\n",
       " 'Terms I despise emo_angry_face -Politically correct -Inclusiveness -Identity politics -Gender identity -Gender Fluid -People kind…',\n",
       " \"A person's character is judged by the type of people with whom they spend their time. ALDUBFever4ever\",\n",
       " 'Those who hope for no other life are dead even for this.– Johann Wolfgang von Goethe ALDUBFever4ever emo_heart_suit VMHammermanPoiso…',\n",
       " \"CrowdWisdom360 Without pre poll alliance INC can't win MP same as Gujarat & in MP all 4 influential small parties hav…\",\n",
       " 'ALDUBFever4ever Life without love is like a tree Without blossom and fruit.',\n",
       " 'smalltownandrew MollyV178 ernie_plumley JaniegrayJg VideoRon LazyMeatball MavisJ1 vachilly64… ',\n",
       " 'However long the night, the dawn will break. ALDUBFever4ever',\n",
       " 'SusanJWhiteO battleofever Ugliest stain in American History ... The elimination the American Indian, the only true American ...',\n",
       " 'A man falls in love through his eyes, a woman through her ears - Woodrow Wyatt ALDUBFever4ever emo_heart_suit VMHammermanPoisoned emo_heart_suit ',\n",
       " '\"Hammerman aldenrichards02 always saves the day.\" emo_smiling_face_with_smiling_eyes emo_red_heart emo_camera : maritoni.fernandez ALDUBFever4ever VMHammermanPoisoned https://…',\n",
       " 'ᶦ ᵈᵒ ᵃˡˡ ᵗʰᵉ ʷᵒʳᵏ ᶦⁿ ᵗʰᶦˢ ᵈᵃᵐⁿ ʰᵒᵘˢᵉ ',\n",
       " '“Between two evils, I always pick the one I never tried before.” ― Mae West ALDUBFever4ever emo_heart_suit VMHammermanPoisoned emo_heart_suit ',\n",
       " 'Mon 07:47: Light Snow; Temp -0.1 C; Windchill -5; Wind W 15 km/h; Humidity 95%; Press 101.8 kPa. ',\n",
       " 'they all folded a finger when someone said “pretty ones fold a finger” during the game but tae got all shy and flustered afte…',\n",
       " \"Enter Michigan Saving and More's Love My Lugz Giveaway - Rules: 18+, US ONLY - Ends 10/19 SMGurusNetwork las930… \",\n",
       " 'Playing some Melee to chill out the night',\n",
       " 'Mon 04:00: Temp -1.6 C; Windchill -4; Humidity 73%; Press 102 kPa / falling.',\n",
       " 'Hope is the last thing a person does before they are defeated.– Henry Rollins ALDUBFever4ever emo_heart_suit VMHammermanPoisoned emo_heart_suit ',\n",
       " '\"SMILEEEEEE!! I was chillin\\' with Dad & Mom when my favorites came up to us to say hello, chikahan & tawanan after.… ',\n",
       " 'What a great surprise!!! Menggay for BOOM. emo_smiling_face_with_heart-eyes emo_smiling_face_with_heart-eyes emo_smiling_face_with_heart-eyes ALDUBFever4ever ',\n",
       " 'A fault confessed is half redressed. ALDUBFever4ever',\n",
       " 'I love how Tah Rubs protected Mengemo_smiling_face_with_heart-eyes ALDUBFever4ever ',\n",
       " '90s_Flume Maybe add a Dracula pimp collar too?',\n",
       " 'The way I’ve just been chilling yeah, fully forgot I’m a Uni student',\n",
       " 'ok but jungkook tryna flirt and then getting flustered because he thinks that he’s not gOOD at flirting I’m— how does he…',\n",
       " 'ALDUBFever4ever I want to love you all my life. Together we are like a strong bond and I wish it never breaks or destroys e…',\n",
       " 'MercedesGlobal WakeUpCanada1 Dont want to hear his toilet flush anyways /his mouth',\n",
       " 'ALDUBFever4ever There is only one moment in life when you feel the real warmth of love and it is the time you see your tru…',\n",
       " '.titans Jurrellc with a big time pass rush move to pin the right arm of WIZ to flush cj_wentz eagles v titans. Bald…',\n",
       " 'IsItChillTaylor am I one?',\n",
       " 'When I was 16 my doctor touched my boobs because he said they gave me headaches. Thanks guys xx',\n",
       " 'It is always darkest before the dawn. ALDUBFever4ever',\n",
       " 'Weakness of attitude becomes weakness of character. - Albert Einstein',\n",
       " 'Never forget when Minseok mouthed \"Big Bang\" right before the MC anounced that the winner of MAMA 2015 Soty is Big Bang, an…',\n",
       " 'no chill chong',\n",
       " 'I love you more today than I did yesterday, but not as much as I will tomorow. ALDUBFever4ever',\n",
       " 'The stylist Lee Jingyu who worked with BTS_twt in HYYH series talked about them “Now they are so famous & influential to do…',\n",
       " 'Today we have launched our annual flu vaccination campaign, protecting our patients by protecting ourselves. flufighe…',\n",
       " 'Hooded Pocket Fluffy Casual Sweatshirt ',\n",
       " 'Starboy dey for you emo_hundred_points wizkidayo FEVER on repeat ',\n",
       " 'Bitcoin Primed for More Gainsemo_raising_hands crypto cryptocurrency CryptoFever blockchain bitcoin ',\n",
       " 'Flutterfag Xxdarkgamerxx1p very good what are you doing today',\n",
       " 'JordFro NFLUK Good games though!!! Least you have excitement, just ask Kynan how the colts are doing emo_new_moon_face emo_new_moon_face ',\n",
       " 'Haste makes waste If something is done too quickly, it may be done carelessly and need to be redone. ALDUBFever4ever x',\n",
       " 'fluffjeongs bitch saMEEEE',\n",
       " 'ALDUBFever4ever emo_face_blowing_a_kiss lynieg88 pinkyfaye wengcookie salvadortrish21 sherrypie18 radoc_jeana ALDUBThess16 iam_ging…',\n",
       " 'He can who believes he can. ALDUBFever4ever',\n",
       " 'MASTER GROOVE enter October with FEVER but people aren’t still feeling the mosquito bite. As usual, wait till few weeks…',\n",
       " 'He who pays the piper calls the tune. ALDUBFever4ever',\n",
       " 'Digital Marketing tips for the automotive industry internetmarketing influencermarketing digitalmarketing',\n",
       " 'fluff Confused cat',\n",
       " 'TeaMsTee Oh wow, for me I feel a bit vommy but it’s mostly hayfever type symptoms like sneezing and itching. My ea… ',\n",
       " 'Let the chips fall where they may. ALDUBFever4ever',\n",
       " 'Love is a springtime plant that perfumes everything with its hope, even the ruins to which it clings.– ALDUBFever4ever…',\n",
       " 'The Legend of Lady Emma and Sir Eglamore of Aira Force - Under the influence! ',\n",
       " 'Pls if you know influencers that can help this tweet to reach out to others Pls kindly tag them under it, we need 7000 peop…',\n",
       " 'When you cough for two minutes straight after taking a huge hit. ',\n",
       " 'lu_newts dogcelebration chilling with my new toy Piggle emo_dog_face emo_pig_face emo_dog emo_pig ',\n",
       " 'emo_red_circle Want to win over $2500 of video gear? Enter to win a complete YouTube studio setup from videoinfluencer here: emo_right_arrow h…',\n",
       " 'For the foolishness of God is wiser than human wisdom, and the weakness of God is stronger than human strength. - 1 Corinthians 1:25',\n",
       " 'MAC Maker mainedcm emo_smiling_face_with_heart-eyes emo_camera : debbie_then ALDUBFever4ever ',\n",
       " 'It is not happy people who are thankful. It is thankful people who are happy. ALDUBFever4ever',\n",
       " 'u ever smell the air and it smells like the fourth grade scholastic book fair on a chilly tuesday in October of 2007',\n",
       " 'Yoongi with blond hair reminds fluff I’m not making rules only uwu ',\n",
       " \"Chill out guys, it's 1st October and we just have to enjoy the day\",\n",
       " 'Hard words breaks no bones. ALDUBFever4ever',\n",
       " 'he gives me headaches but he’ll always put a smile on my face',\n",
       " 'Never forget when Minseok mouthed \"Big Bang\" right before the MC anounced that the winner of MAMA 2015 Soty is Big Bang, an…',\n",
       " 'A senior tory donor who has donated more than £1m in recents yrs has ‘said there is a group of influential Conservative fi…',\n",
       " 'Do I turn left, when nothing is right? Or do I turn right, when there’s nothing left? ALDUBFever4ever',\n",
       " 'You never know what the future holds for you, and yes that’s called destiny ;) ALDUBFever4ever',\n",
       " 'Love will find a way through paths where wolves fear to prey - Lord Byron ALDUBFever4ever emo_heart_suit VMHammermanPoisoned emo_heart_suit ',\n",
       " 'Hope is the dream of a waking man.– Aristotle ALDUBFever4ever emo_heart_suit VMHammermanPoisoned emo_heart_suit ',\n",
       " 'Weakness of attitude becomes weakness of character. - Albert Einstein',\n",
       " 'chill_27blvd emo_fire emo_fire emo_fire Camoemo_high_voltage Camoemo_high_voltage Camoemo_high_voltage “I have a dream”emo_fire emo_fire emo_fire Set upでもemo_thumbs_up emo_thumbs_up emo_thumbs_up chillindahouse ginrhymes chillindahouse… ',\n",
       " 'u ever smell the air and it smells like the fourth grade scholastic book fair on a chilly tuesday in October of 2007',\n",
       " '\"Cows play fetch? Where the hell has this information been all my life?\" ',\n",
       " 'Mon 04:45: Mist; Temp -0.4 C; Windchill -5; Wind SSE 17 km/h; Humidity 97%; Press 101.8 kPa. ',\n",
       " 'ALDUBFever4ever Whenever I look up to the sky full of shinning stars, only thought comes to my mind is YOU.',\n",
       " 'college is a weekly cycle of “i just need to get through this week and everything will be chill next week” and then it’…',\n",
       " 'elonmusk Great to see you still chilling.',\n",
       " 'Just had my flu jab! emo_syringe emo_syringe ',\n",
       " 'The stylist Lee Jingyu who worked with BTS_twt in HYYH series talked about them “Now they are so famous & influential to do…',\n",
       " 'A hundred hearts would be too few To carry all my love for you. ALDUBFever4ever',\n",
       " 'watch until the end ',\n",
       " 'Don’t miss our show from the Hard Rock Rocksino today on New Day! We will be talking to the legend Danny Coughlin, barr…',\n",
       " 'you ever just chilling and then remember harrys name in spanish is enrique eduardo estilos hjskhJSJDK',\n",
       " 'If you are patient in one moment of anger, you will avoid 100 days of sorrow. ALDUBFever4ever',\n",
       " \"Your 'Kindness' may be treated as your weakness, still be kind. Your 'Help' to others may go unnoticed, still be helpful.…\",\n",
       " '\"Cows play fetch? Where the hell has this information been all my life?\" ',\n",
       " 'My Maine Lunch. ALDUBFever4Ever emo_red_heart mainedcm ',\n",
       " \"otw to music hall, metrowalk!! brynchong IGNITE tonight! Let's chill with the Prince of Soul!\",\n",
       " 'Take hope from the heart of man, and you make him a beast of prey.– Quida ALDUBFever4ever emo_heart_suit VMHammermanPoisoned emo_heart_suit ',\n",
       " 'Good evening!! ALDUBFever4ever',\n",
       " 'Lmao na this wizkidayo fever I go play till morning . emo_rocket emo_rocket emo_rocket ',\n",
       " '\"Cows play fetch? Where the hell has this information been all my life?\" ',\n",
       " 'man how tf do some girls deepthroat, i be brushing my tongue and end up vomiting everywhere smh',\n",
       " '\"Is it too early for Meolloween?\" ',\n",
       " 'The only reason why I went through that whole Zumbarangay ordeal... emo_grinning_face_with_sweat ALDUBFever4ever ',\n",
       " 'darna817 aldenrichards02 mainedcm welcome back po mommy but hinay hinay at take care pa rin ALDUBFever4ever',\n",
       " 'emo_sparkles ʸᵒᵘ ᵐᵃᵏᵉ ᵐᵉ ˢᵐᶦˡᵉ ᵖˡᵉᵃˢᵉ ˢᵗᵃʸ ᶠᵒʳ ᵃ ʷʰᶦˡᵉemo_sparkles BTS_twt ARSD ARMYSelcaDay ',\n",
       " 'darna817 smtotanes aldenrichards02 mainedcm Praying for your complete healing/recovery po! ALDUBFever4ever',\n",
       " 'Great way to start a week on Critical Care QEGateshead flufighter ',\n",
       " \"Another smiling face after her flu jab at the Lincolnshire CCG's this morning, a busy morning ahead vaccinating for Nurse Jen…\",\n",
       " 'MUST-WATCH: Past Conservative Prime Ministers, including Churchill, Eden, Macmillan, Heath, Thatcher, Major, Cameron &…',\n",
       " 'Mino’s Visual making my heart fluttered once again emo_beating_heart emo_beating_heart emo_beating_heart emo_heart_with_arrow emo_heart_with_arrow emo_heart_with_arrow emo_revolving_hearts emo_two_hearts emo_growing_heart emo_revolving_hearts emo_two_hearts emo_heart_with_ribbon emo_beating_heart emo_beating_heart emo_beating_heart emo_heart_with_arrow emo_heart_with_arrow emo_heart_with_arrow emo_heavy_heart_exclamation emo_heavy_heart_exclamation emo_heavy_heart_exclamation emo_heavy_heart_exclamation emo_heavy_heart_exclamation emo_yellow_heart emo_purple_heart emo_yellow_heart emo_purple_heart emo_yellow_heart emo_purple_heart emo_heart_with_arrow emo_heart_with_arrow emo_heart_with_arrow emo_heavy_heart_exclamation emo_heavy_heart_exclamation emo_heavy_heart_exclamation emo_hugging_face emo_hugging_face emo_hugging_face emo_hugging_face emo_two_hearts emo_growing_heart emo_heart_suit emo_heart_suit emo_heart_suit emo_heart_suit emo_heart_suit emo_heart_suit emo_heart_suit emo_heart_suit emo_heart_suit htt…',\n",
       " 'Jeff_Reinebold SkySportsNFL NFLUK Oddschecker Aloha Kakahiaka Jeff we are all sorted for this week show just ne… ',\n",
       " 'My baby keep getting a feveremo_weary_face emo_weary_face emo_weary_face ',\n",
       " '[ARTICLE] 181001 \"[Doh Kyung Soo] The best man who makes hearts flutter in Joseon appears! The big release of the stills of…',\n",
       " 'You ever be chillin and out of nowhere just say: ',\n",
       " 'Congratulations to coreylanerie on another Leading Jockey title at ChurchillDownsemo_clapping_hands_medium-light_skin_tone emo_clapping_hands_medium-light_skin_tone emo_clapping_hands_medium-light_skin_tone ',\n",
       " 'Lol I am not paying 9k to be coughing so much in lectures I cba',\n",
       " 'LukaPenalty InnaCityAaron LittlebitofLuka WxnBissaka PoacherPatrick Loveemo_red_heart ',\n",
       " 'MakMayek Spot on, Mak. Please keep exercising your personal, and considerable, influence on this community, and Go… ',\n",
       " 'Y’all ever cry in silence & immediately pull yourself together & start being social? Like is a bitch strong or emotiona…',\n",
       " 'bronlyalarm *Coughs* Hypocrisy',\n",
       " 'Morning Chilling before work. Send me money pindicks paypet cashcow cashmeet paypiggeswanted wallet Financial…',\n",
       " 'They ask you for money, wahala. They work for their own money, headache. emo_upside-down_face ',\n",
       " 'ᶦ ᵈᵒ ᵃˡˡ ᵗʰᵉ ʷᵒʳᵏ ᶦⁿ ᵗʰᶦˢ ᵈᵃᵐⁿ ʰᵒᵘˢᵉ ',\n",
       " '\"Cows play fetch? Where the hell has this information been all my life?\" ',\n",
       " 'What you have today is better than what is promised or hoped for. ALDUBFever4ever',\n",
       " 'Dancing High Team Ace Poll ㅡ Vote for JISUNG 지성 Period: ~ Oct 3rd link: ',\n",
       " 'Here for friendship and everything in between. Love you all!emo_face_blowing_a_kiss emo_red_heart emo_face_blowing_a_kiss ALDUBFever4ever ',\n",
       " 'Pity the selfishness of lovers: it is brief, a forlorn hope it is impossible.– Elizabeth Bowen ALDUBFever4ever emo_heart_suit VMHamm…',\n",
       " 'We Back LIVE!! ALL CHANNELS AVALIABLE!!! Standoff 2 Live Stream....Have Fun, Chill, and ENJOY! via Restreamio',\n",
       " 'Okay so Buff Baby took the stress out of walking to uni thanks tobilou for making a chill bop emo_hibiscus emo_two_hearts ',\n",
       " 'nowplaying Daniel Domenge - Influences - smoothjazz nola newyork losangeles miami dubai london paris… ',\n",
       " 'Weakness of attitude becomes weakness of character. - Albert Einstein',\n",
       " 'Never forget when Minseok mouthed \"Big Bang\" right before the MC anounced that the winner of MAMA 2015 Soty is Big Bang, an…',\n",
       " 'When they catch feelings just from chilling with you ',\n",
       " 'ALDUBFever4ever emo_face_blowing_a_kiss lynieg88 wengcookie pinkyfaye salvadortrish21 iam_ginghs Darwaine88 irmaroxas3 bffmaine15 …',\n",
       " 'People vary in character and abilities, and this is a good thing. ALDUBFever4ever',\n",
       " 'This gives me chills emo_loudly_crying_face emo_blue_heart ',\n",
       " 'ALDUBFever4ever emo_face_blowing_a_kiss lynieg88 pinkyfaye wengcookie salvadortrish21 sherrypie18 radoc_jeana ALDUBThess16 iam_ging…',\n",
       " 'ALDUBFever4ever A flower cannot blossom without sunshine, and man cannot live without love.',\n",
       " \"i just took 4 dayquils because i'm not tryna' be coughing up a lung during my classes\",\n",
       " 'This is my 2018 flu cartoon! graphicmedicine FluShot ',\n",
       " 'Sore throat, cough and flu emo_face_with_medical_mask ',\n",
       " '\"Cows play fetch? Where the hell has this information been all my life?\" ',\n",
       " 'It is important to respect the privacy of others. ALDUBFever4ever',\n",
       " 'You may not be able to change a situation, but with humor you can change your attitude about it.– Allen Klein ALDUBFever…',\n",
       " 'He can who believes he can. ALDUBFever4ever',\n",
       " 'Dont regret for people who left you in half,for you will realise in future that they never belonged to you ALDUBFever4ever',\n",
       " 'October 1st and Blessed monday neyshen ALDUBFever4ever',\n",
       " 'OHT 01Oct2018: ALDUBFever4ever Goal: 1B tweets for HT ALDUB (24-Hr Limit) ofctrendsetter ALDUBNation mainedcm aldenr…',\n",
       " 'ALDUBFever4ever emo_face_blowing_a_kiss lynieg88 pinkyfaye wengcookie salvadortrish21 sherrypie18 radoc_jeana ALDUBThess16 iam_ging…',\n",
       " '\"Cows play fetch? Where the hell has this information been all my life?\" ',\n",
       " 'darna817 mainedcm Hi Ms Jovie, Thank you Lord! Welcome back!!! ALDUBFever4ever',\n",
       " '“Sometimes love means letting go when you want to hold on tighter.” ― Melissa Marr ALDUBFever4ever emo_heart_suit VMHammermanPoisone…',\n",
       " 'The fast cure for Dodge fever. ',\n",
       " 'Sweetemo_face_blowing_a_kiss emo_tulip ALDUBFever4ever ',\n",
       " \"Here's number 5. Starting to fluff up now. Looks strong. \",\n",
       " 'The way I’ve just been chilling yeah, fully forgot I’m a Uni student',\n",
       " 'Look before you leap. ALDUBFever4ever',\n",
       " 'Consider possible consequences before taking action. ALDUBFever4ever',\n",
       " 'Because paying with crypto should be easy for everyone. emo_credit_card coinbundle bndl cryptofever ',\n",
       " 'Nigga chillin in 1998 ',\n",
       " 'Inktober day 15, Fluffy Pileemo_cat emo_cat emo_cat emo_cat emo_cat ',\n",
       " 'TheSacredTurf LOL, in my drafts I just found a reply to verflucht who was drunk and desperate for the toilet on h… ',\n",
       " 'FDIC 2019 workshop overview Increasing Your Command Presence & Influence by Frank Ricci FDIC firenation fireengineering …',\n",
       " 'Enterprise B2B Influencer Marketing Interview: Luciana Moran, D&B ',\n",
       " 'Relationship Goals emo_face_with_tears_of_joy LegsForDays ALDUBFever4ever ',\n",
       " \"Got it! aldenrichards02 's ILUSTRADO | Until I See You Again ALDUBFever4ever \",\n",
       " 'My Maine Lunch. ALDUBFever4Ever emo_red_heart mainedcm ',\n",
       " 'Vote for James Charles by retweeting this post: JamesCharles TheBeautyInfluencer PCAs ',\n",
       " 'When you cough for two minutes straight after taking a huge hit. ',\n",
       " 'Sold out queen. Thanks Maine Mendoza mainedcm emo_kissing_face_with_closed_eyes emo_two_hearts emo_copyright atanata107 IG Update ALDUBFever4ever ',\n",
       " 'The song that chills you out ',\n",
       " 'Your smile is my weakness.',\n",
       " 'jasonistrending sofiachurchillx AbodeRecords DefectedRecords She said good ;)',\n",
       " '\"Cows play fetch? Where the hell has this information been all my life?\" ',\n",
       " 'way better than an Android ',\n",
       " 'Hip Hop overfed us this year Kamikaze Kod Tha Carter V Black panther the album Bad kid chill City Astroword Nasir Scorpion Ys…',\n",
       " 'Wishing you all a wonderful month, Alden, Maine and ADN! emo_smiling_face emo_red_heart ALDUBFever4ever ',\n",
       " 'Happy Vacation Momoland!!!emo_red_heart emo_airplane emo_red_heart For the Baam Japanese Version Success!emo_red_heart Take care and God bless You Allemo_red_heart emo_red_heart emo_airplane …',\n",
       " 'False friends are worse than open enemies. ALDUBFever4ever',\n",
       " '\"Cows play fetch? Where the hell has this information been all my life?\" ',\n",
       " 'And if you only take away one lesson from the 1918 flu pandemic, let it be this: if you’re sick and contagious, stay the fuc…',\n",
       " 'Good morning aldenrichards02 !!! Werk werk werk!!!! Have a great day ahead ALDUBFever4ever ',\n",
       " 'A bad parent does not raise good children. ALDUBFever4ever',\n",
       " 'When you sleep too much, you are not able to think clearly. ALDUBFever4ever',\n",
       " 'Crime tv shows, unsolved murders, conspiracy theories, etc.. & chill?',\n",
       " 'On Education he has influenced the setting up of the National Open University of Nigeria study center in Oturkpo. Hop…',\n",
       " 'emo_microphone emo_musical_score All the singular! All the singular!emo_musical_notes emo_studio_microphone emo_face_with_tears_of_joy emo_face_with_tears_of_joy emo_face_with_tears_of_joy ALDUBFever4ever VMHammermanPoisoned ',\n",
       " \"Stages on Twitter; 1. You created a twitter account. 2. But you didn't understand it. 3. So you left for a few months or…\",\n",
       " 'Regina SK Weather, Temp:-1.1ºC; Dew:-9.2ºC; Pressure:1019.20hPa.; Wind:1/kph144.0 Wind Chill:-1.8°C Humidity:54;… ',\n",
       " 'Meng and her killer shoulders!emo_smiling_face_with_heart-eyes emo_smiling_face_with_heart-eyes emo_smiling_face_with_heart-eyes ALDUBFever4ever VMHammermanPoisoned ',\n",
       " 'Brevity is the soul of wit-- William Shakespeare ALDUBFever4ever',\n",
       " 'How far that little candle throws its beams! So shines a good deed in a naughty world-- William Shakespeare ALDUBFever4ev…',\n",
       " 'Fine words butter no parsnips ALDUBFever4ever',\n",
       " 'Every man for himself. ALDUBFever4ever',\n",
       " 'How Fela influenced my perception about life TobiAdex_Online What a Father !!',\n",
       " 'Faith makes all things possible... love makes all things easy - Dwight L. Moody ALDUBFever4Ever emo_heart_suit ',\n",
       " 'I can clearly see my influence. I never trip on the credit.',\n",
       " 'Stop being afraid of what could go wrong and start being positive about what could go right.emo_flexed_biceps ALDUBFever4ever',\n",
       " 'Corinthians 12:9 (NKJV) “My grace is sufficient for you, for My strength is made perfect in weakness.” Therefore mo… ',\n",
       " 'ALDUBFever4ever emo_face_blowing_a_kiss lynieg88 Arwen_Elfin ermiesagum salvadortrish21 sherrypie18 radoc_jeana carl05290 SaltikWow…',\n",
       " 'I just know shorty was ugly ... pretty ass girls don’t even act like that ... they be chilln to the max.',\n",
       " 'Last time I looked at my keybord, I noticed that U and I are allways together. ALDUBFever4ever',\n",
       " \"South Africans are way too nice. Ba chilled, ba right, no stress, none whatsoever, you'd think the whole country is ri…\",\n",
       " 'kehvyngrey flipsyfk wizkidayo WIZKID can do better. I listened to the fever song and I was disappointed!!!',\n",
       " 'jennaschilli sameemo_red_heart ',\n",
       " 'Love waking up w a sore throat from hell',\n",
       " 'What on earth would Conservative Prime Ministers Churchill, Heath or Thatcher make of the current Conservative Foreign Se…',\n",
       " \"Compilation of Alden's beastmode moment Tang nah ang hot mo gagu emo_fire emo_fire emo_fire ALDUBFever4ever \",\n",
       " 'When you’ve been chilling with your man all day and he gets a text from his homeboys asking to hangout so now he gotta lea…',\n",
       " 'The stylist Lee Jingyu who worked with BTS_twt in HYYH series talked about them “Now they are so famous & influential to do…',\n",
       " 'hybridlashes lashextensions lash fullvolume fluffy wispylashes lashtech londonlashpro beauty… ',\n",
       " 'influences have helped spawn variant interpretations of the nature of history',\n",
       " 'im gonna flunk this chem exam so bad',\n",
       " 'Beware Molly, The Thing of Evil (aka Stephen King’s Corgi) ',\n",
       " 'Without love, the rich and poor live in the same house. ALDUBFever4ever',\n",
       " 'Alfiee72 InnaCityAaron LittlebitofLuka WxnBissaka PoacherPatrick CPFCPaul_ Oh shit did he leave lmao',\n",
       " \"&' dont tell me to chill cause no .\",\n",
       " 'If you are patient in one moment of anger, you will avoid 100 days of sorrow. ALDUBFever4ever',\n",
       " \"Fairness is not an attitude. It's a professional skill that must be developed and exercised.– Brit Hume ALDUBFever4ever…\",\n",
       " 'Capital isnt scarce; vision is - Sam Walton ALDUBFever4Ever emo_heart_suit ',\n",
       " 'ALDUBFever4ever VMHammermanPoisoned lynieg88 Barbarapunzala1 wengcookie salvadortrish21 sherrypie18… ',\n",
       " 'sallymoore323 get yourself up there for your flu vac protectingpatientsandcolleagues',\n",
       " 'Good morning aldenrichards02 !!! Werk werk werk!!!! Have a great day ahead ALDUBFever4ever ',\n",
       " 'Anyone who has no character is not a man, but a thing - Nicolas Chamfort ALDUBFever4ever emo_heart_suit VMHammermanPoisoned emo_heart_suit ',\n",
       " \"Online reviews play an important role in influencing consumers' purchasing decisions. This research looks at how the mos…\",\n",
       " 'A man falls in love through his eyes, a woman through her ears - Woodrow Wyatt ALDUBFever4ever emo_heart_suit VMHammermanPoisoned emo_heart_suit ',\n",
       " 'Im also watchin while having lunch! ma1208an ALDUBFever4ever ',\n",
       " \"A person's character is more important than their appearance. ALDUBFever4ever x\",\n",
       " 'GuitarMoog lewiscoughlan This is what The Soviets did to people fleeing to West Germany before the wall came Down. They wer…',\n",
       " 'ElizabeetsCB FluffSociety LiviBot I Love you. I wish I could sniff your armpits and feet after you wake up in the mornings.emo_face_blowing_a_kiss ',\n",
       " \"A 'black period in Regina's history': memory of Spanish flu haunts, 100 years later \",\n",
       " 'It’s back! Last year’s limited edition Clementine and Cinnamon Tonic went down so well in the UK that we’ve brought…',\n",
       " 'If this existential crisis doesn’t chill the fuck out soon, I swear I’m going to go live alone in the woods, eat raw newts,…',\n",
       " 'Tattoo fever Baby fever I barely got enough money to take care of a regular fever',\n",
       " 'MorganKolkmeyer She must of had a big influence in your life to follow her footsteps. That’s pretty kool.',\n",
       " 'ALDUBFever4ever VMHammermanPoisoned lynieg88 Barbarapunzala1 wengcookie salvadortrish21 sherrypie18… ',\n",
       " 'They do not love that do not show their love-- William Shakespeare ALDUBFever4ever',\n",
       " 'Shared a new video: Why do we fast on Ekadashi & What are the benefits? Would like me to answ…',\n",
       " 'OHT 01Oct2018: ALDUBFever4ever Goal: 1B tweets for HT ALDUB (24-Hr Limit) ofctrendsetter ALDUBNation mainedcm aldenr…',\n",
       " 'NETFLU Let me guess: “Emirates”?',\n",
       " 'A hungry belly has no ears. ALDUBFever4ever',\n",
       " 'Agree!! ALDUBFever4ever ',\n",
       " 'AND EAGLE! Flush that are out your underwear over your face into job cannon and get mouth cancer.',\n",
       " '80,000 Americans died of the flu last year, the most in >4 decades flu influenza CDCgov ',\n",
       " 'Don’t show your weakness to people and expect sympathy. Most times, all they will do is take advantage of your weakness. If…',\n",
       " 'WeHCScientists hornej13 Angelafifty Case studies, vignettes and networks of strategic influence. How can Trusts… ',\n",
       " 'Global Winter Automotive Windshield Washer Fluid Concentrate Market Outlook 2018-2025: Bluestar, 3M, Sonax ... ',\n",
       " 'Wind 0.0 mph (-) gusting to 0.0 mph. Temperature 71.1 F (WindChill 71.1/HeatIndex 71.1). Humidity 098%. Rain Today: 0.00in',\n",
       " '“There is only one sin. and that is theft... when you tell a lie, you steal someones right to the truth.” ― ALDUBFever4…',\n",
       " 'Hard words breaks no bones. ALDUBFever4ever',\n",
       " 'Nick Scratch lives up to his name on Sabrina. 1 month away till Chilling Adventures of Sabrina premiers on Netflix. don’tm…',\n",
       " 'I hate how Monday is so far away from Friday and Friday is so close ALDUBFever4ever Monday.',\n",
       " 'Y’all ever cry in silence & immediately pull yourself together & start being social? Like is a bitch strong or emotiona…',\n",
       " \"Menggay's dangling earrings emo_face_with_tears_of_joy ALDUBFever4Ever \",\n",
       " 'Dream big, work hard -- Robert Downey ALDUBFever4ever',\n",
       " 'Do you know your pumped ammonia system from your gravity flooded ammonia chiller package? Learn more about our ran… ',\n",
       " 'The Cutest Proposal of the world from a cute girl to a boy… Girl : “Hey, I have lost my Surname.. Can I use Yours” ALDUBFever4ever',\n",
       " 'When you been chilling the whole party then your song comes on ',\n",
       " 'So Wizkid dropped two songs. I like master groove already, not sure about fever. Time will tell.',\n",
       " 'ima lowkey.. chill at home typa gal... but... i really wanna get dressed up, hair, makeup & nails done... picked up... &…',\n",
       " 'college kids taekook dressing up as boobs and then after the party theyre chilling on the bed and tae confesses he doesnt…',\n",
       " 'ALDUBFever4ever VMHammermanPoisoned lynieg88 Barbarapunzala1 wengcookie salvadortrish21 sherrypie18 radoc_jean…',\n",
       " 'emo_glowing_star emo_butterfly FLUTTERBY GEMSemo_butterfly emo_glowing_star SPOOKY GIVEAWAY! emo_bat emo_jack-o-lantern emo_ghost emo_orange_heart cannot thank you all enough for the endless support so I wanted to do an October…',\n",
       " \"Don't forget ... the flu shot clinic is happening from 11am-1pm today at City Campus, Room 228. Bring your insuranc… \",\n",
       " 'Nothing in this entire universe is static/fixed. Everything is in a state of flux and change. Kaos reigns supreme. Karma…',\n",
       " 'Me Time For Mums - Collab with lisasnotebook emo_two_hearts Bloggerstribe influencerrt LittleBlogRT al…',\n",
       " '\"Cows play fetch? Where the hell has this information been all my life?\" ',\n",
       " 'Lust is to the other passions what the nervous fluid is to life; it supports them all, lends strength to them all ambitio…',\n",
       " 'Competing today in the Trust Board Jab-a-Thon and all I need to do in order to win is have my flu vaccination. It is so importa…',\n",
       " 'The stylist Lee Jingyu who worked with BTS_twt in HYYH series talked about them “Now they are so famous & influential to do…',\n",
       " 'Sold out queen. Thanks Maine Mendoza mainedcm emo_kissing_face_with_closed_eyes emo_two_hearts emo_copyright atanata107 IG Update ALDUBFever4ever ',\n",
       " 'Iwobi excitement, gave me chills ',\n",
       " 'Choose a job you love, and you will never have to work a day in your life - Confucius ALDUBFever4Ever emo_heart_suit ',\n",
       " 'They ask you for money, wahala. They work for their own money, headache. emo_upside-down_face ',\n",
       " 'he melt ',\n",
       " \"SHE GIVING ME DAKOTA JOHNSON + LILY COLLINS VIBE. YASSI PRESSMAN IS GIVING ME CHILLS, SHE'S SO ELEGANT!!!! ABSCBNBall201…\",\n",
       " 'I got super inspired voxelart by HuntingFluff. So I had to give magicavoxel another try! Same day there was new releas…',\n",
       " 'GOOD EVENING ALDUBNATION! ALDUBFever4ever mainedcmMACMoAin4Days ofctrendsetter OFCALDubKoTo jenasis818 ALDUBNat…',\n",
       " 'emptywheel shitebart Not Squi!? Squi..sob sob sniffle ...is the most...sniffle sob ... the best friend a man cou… ',\n",
       " '[SG GO] TOLY CHEERING PROJECT VER. 1 \"ROSE GAN\" by taeyongfan0701_ emo_woman_gesturing_OK_medium-light_skin_tone emo_money_bag $22.50 emo_spiral_calendar 12th October 2018, 11PM SGT emo_pushpin htt…',\n",
       " 'here i go again, chill for the whole day and cram everything tonight. see how i’m aware of the consequences and yet pro…',\n",
       " 'This Me after I sneeze. I don’t say it out loud but I think it. ',\n",
       " 'Learn more about our influences at ',\n",
       " 'Choose the two (2) segments of the general environment that would rank highest in their influence on the corporatio… ',\n",
       " 'So fluffy emo_smiling_face_with_heart-eyes emo_smiling_face_with_heart-eyes emo_video_camera : bunnybears_love ',\n",
       " \"When Ruth Bader Ginsburg wakes up, Justice Brett Kavanaugh shall be next to her. And she's next! emo_fire Trump's influence o…\",\n",
       " '\"SMILEEEEEE!! I was chillin\\' with Dad & Mom when my favorites came up to us to say hello, chikahan & tawanan after.\" —ilove…',\n",
       " 'De chill raul__carre ',\n",
       " 'Web Design: 7 Factors That Influence Your Webpage Conversion Rates: Examples of micro conversions include blog subs… ',\n",
       " 'ALDUBFever4ever VMHammermanPoisoned lynieg88 KDENG18 wengcookie salvadortrish21 sherrypie18 radoc_jeana… ',\n",
       " 'Grabe sa energy mainedcm emo_face_with_tears_of_joy emo_hugging_face ALDUBFever4ever ',\n",
       " '\"Cows play fetch? Where the hell has this information been all my life?\" ',\n",
       " 'MUST-WATCH: Past Conservative Prime Ministers, including Churchill, Eden, Macmillan, Heath, Thatcher, Major, Cameron &…',\n",
       " 'This Emoji emo_eggplant is for Shangaan Nigerians, Sotho and Zulu Men... the rest can use chillies emo_hot_pepper ',\n",
       " 'ALDUBFever4ever VMHammermanPoisoned lynieg88 KDENG18 wengcookie salvadortrish21 sherrypie18 radoc_jeana ALDUB…',\n",
       " 'ALDUBFever4ever VMHammermanPoisoned lynieg88 KDENG18 wengcookie salvadortrish21 sherrypie18 radoc_jeana ALDUB…',\n",
       " 'ALDUBFever4ever VMHammermanPoisoned lynieg88 Barbarapunzala1 wengcookie salvadortrish21 sherrypie18 radoc_jean…',\n",
       " 'In 24 hours I’m deleting all the Lili Pom tweets because looking at them gives me a headache PCAs TheMusicVideo IDOL …',\n",
       " 'The stylist Lee Jingyu who worked with BTS_twt in HYYH series talked about them “Now they are so famous & influential to do…',\n",
       " 'fluffy mina 미나 트와이스 MINA TWICE ',\n",
       " 'CNN jgriffiths Is CNN inferring that foreign influence ONLY happens under Republicans? I think they are. Obama… ',\n",
       " 'CNN jgriffiths Is CNN inferring that foreign influence ONLY happens under Republicans? I think they are. Obama… ',\n",
       " 'Y’all ever cry in silence & immediately pull yourself together & start being social? Like is a bitch strong or emotiona…',\n",
       " 'ALDUBFever4ever VMHammermanPoisoned lynieg88 Barbarapunzala1 wengcookie salvadortrish21 sherrypie18 radoc_jean…',\n",
       " 'ALDUBFever4ever VMHammermanPoisoned lynieg88 KDENG18 wengcookie salvadortrish21 sherrypie18 radoc_jeana ALDUB…',\n",
       " 'May 18 TLs si NoraNoraCampos emo_sports_medal emo_clapping_hands emo_party_popper Thank you emo_red_heart ALDUBFever4ever ',\n",
       " 'ALDUBFever4ever VMHammermanPoisoned lynieg88 KDENG18 wengcookie salvadortrish21 sherrypie18 radoc_jeana ALDUB…',\n",
       " 'CALUM’S HAIR LOOKS SO FLUFFY IM SOFT ',\n",
       " 'inherfeeIs Shannon14Kelsey Yeah. They all just different kinds of headaches emo_face_with_tears_of_joy emo_face_with_tears_of_joy emo_woman_shrugging_light_skin_tone ',\n",
       " 'Fantastic morning spent ChurchillWarRooms IWM with Vodacom team on the disruptive power of platforms. My thanks… ',\n",
       " \"trueamerica1st realDonaldTrump We'll have to wait and see because two years from now you could be in prison for b… \",\n",
       " 'Full of fluffiness by ',\n",
       " 'Why does life keep teaching me lessons I have no desire to learn? ALDUBFever4ever',\n",
       " \"Stages on Twitter; 1. You created a twitter account. 2. But you didn't understand it. 3. So you left for a few months or…\",\n",
       " '2. Never ever start a relationship when you’re drunk. Love is felt from the heart. There should be no alcohol influence.',\n",
       " 'Its your friendly neighborhood spider-man bitches ! SpiderManPS4 ',\n",
       " '\"Cows play fetch? Where the hell has this information been all my life?\" ',\n",
       " 'flu is killing more people than it ever has before. ',\n",
       " 'On November 6th, don\\'t forget to flush. Help the \"blue wave\" get home. INSTABLOCK ',\n",
       " 'See What Wizkid’s Baby Mama Shola Has To Say About Wiz’s New Song ‘Fever’ ',\n",
       " 'MfonnU Mehnnnn, it’s just the same old ish yo, if you listen closely,Fever had the same melody as fake love, Just a different tempo...',\n",
       " '“The more one judges, the less one loves.” ― Honoré de Balzac ALDUBFever4ever emo_heart_suit VMHammermanPoisoned emo_heart_suit ',\n",
       " '<PRE-ORDER [BATCH 2] 1-12 Oct.> . emo_sunflower CARAT PHONE CASES & CARAT STRAP 3.0 & KEYCHAINS + mini pin buttonsemo_sunflower . <Check all deta…',\n",
       " 'ALDUBFever4ever VMHammermanPoisoned lynieg88 KDENG18 wengcookie salvadortrish21 sherrypie18 radoc_jeana… ',\n",
       " 'AffluenceLanre Thank you',\n",
       " 'This awesome guy is streaming right now TestilieStream !! Playing Hollow Knight right now! Very chill guy, very interac…',\n",
       " '.MORE PROJECTION From Demons! emo_backhand_index_pointing_down emo_backhand_index_pointing_down Hillary’s Campaign Manager Blames Loss To Russian interference emo_face_with_rolling_eyes Again emo_collision Hey, Hil, wh…',\n",
       " 'FibroFacts Debilitating fatigue, and nonstop aching and burning in my joints and muscles, which progressed to the inabili…',\n",
       " 'ALDUBFever4ever emo_face_blowing_a_kiss lynieg88 wengcookie pinkyfaye salvadortrish21 iam_ginghs Darwaine88 irmaroxas3 bffmaine15 …',\n",
       " 'Coughs- “Ahem.” Just hits play on a stereo- “GHOST RIDER SQUAD I CALL UPON THEE!-“ ',\n",
       " 'eyes on the prize today, where the prize is me making myself a huge vegan chilli cheese dog for lunch',\n",
       " 'It does not matter how many times you get knocked down, but how many times you get up. ALDUBFever4ever',\n",
       " 'It’s 7:30 am and I have a sinus headache.',\n",
       " 'I see that the fashion wears out more apparel than the man-- William Shakespeare ALDUBFever4ever',\n",
       " 'The only person you should try to be better than is the person you were yesterday ALDUBFever4ever',\n",
       " 'RT for ur chance to WIN a signed GabrielIglesias FLUFFY pic emo_grinning_face_with_big_eyes ',\n",
       " \"Don't believe everything you hear, there are always three sides to a story : yours, theirs, and the truth. ALDUBFever4ever\",\n",
       " 'ALDUBFever4ever VMHammermanPoisoned lynieg88 KDENG18 wengcookie salvadortrish21 sherrypie18 radoc_jeana ALDUB…',\n",
       " '\"Cows play fetch? Where the hell has this information been all my life?\" ',\n",
       " 'ALDUBFever4ever VMHammermanPoisoned lynieg88 KDENG18 wengcookie salvadortrish21 sherrypie18 radoc_jeana ALDUB…',\n",
       " 'You may have weaknesses, but God has strength. You may have sin, but God has grace. You may fail, but God remains faithful!',\n",
       " 'Mon 05:00: Light Snow; Temp -2.1 C; Windchill -5; Humidity 96%; Press 101.7 kPa / falling. ',\n",
       " 'Vote for Bretman Rock by retweeting this post: BretmanRock TheBeautyInfluencer PCAs ',\n",
       " 'Sometimes we forgive people simply because we want them to remain in our lives. Even when we should actually just let go. ALDUBFever4ever m',\n",
       " \"KJChurchill2 45IsMyGuy2020 realDonaldTrump politico I'm going to nominate this meme for the daily winner of the internet.\",\n",
       " 'natynatc We chillin together boo',\n",
       " \"GOING LIVE! Birthday stream come chill on the RTG - Squad Battles Rewards - New OTW'S SBC'S - Division Rivals… \",\n",
       " 'he has arrived! ',\n",
       " 'ALDUBFever4ever VMHammermanPoisoned lynieg88 Barbarapunzala1 wengcookie salvadortrish21 sherrypie18 radoc_jean…',\n",
       " 'From a Christian perspective, environmental influences are more significant than genetics when it comes to… ',\n",
       " 'Good news for China or overly optimistic progress? China to lift restrictions where second African swine fever... ',\n",
       " 'When you pray for anyone you tend to modify your personal attitude toward him.– Norman Vincent Peale ALDUBFever4ever emo_heart_suit …',\n",
       " 'Testworld_ plus wizkidayo has blessed Nigerians and the world hits in Celebration of the Independence Day emo_Nigeria emo_eagle Fever…',\n",
       " \"Quelscar My sports drink is like 50% cough syrup and 50% rum. I think my coach isn't helping me win...\",\n",
       " 'Home is where the heart is. ALDUBFever4ever x',\n",
       " 'Hope, the best comfort of our imperfect condition.– Edward Gibbon ALDUBFever4ever emo_heart_suit VMHammermanPoisoned emo_heart_suit ',\n",
       " 'As Chinese influence grows, Japanese warship visits Sri Lanka ',\n",
       " \"“There's nowhere you can be that isn't where you're meant to be...” ― John Lennon ALDUBFever4ever emo_heart_suit VMHammermanPoisoned…\",\n",
       " \"Gives me chills BBN y'all are the best \",\n",
       " 'The most difficult part of an action is the beginning. ALDUBFever4ever',\n",
       " 'ALDUBFever4ever VMHammermanPoisoned lynieg88 KDENG18 wengcookie salvadortrish21 sherrypie18 radoc_jeana ALDUB…',\n",
       " 'Losers weepers, finders keepers. ALDUBFever4ever',\n",
       " \"This dog dance-walks and it's the cutest thing ever! emo_smiling_face_with_heart-eyes — Nature is Amazing emo_penguin (AMAZlNGNATURE) Octob…\",\n",
       " \"ALDUBFever4ever Love doesn't just sit there like a stone; it has to be made, like bread, remade all the time, made new.\",\n",
       " 'emo_smiling_face_with_smiling_eyes From Direk Chris FYI, Direk Chris is a Carlos Palanca awardee. He is the director and writer of Daddy’s Gurl kaya chill…',\n",
       " \"chillblaine I have no idea what any of that first sentence means. I responded to my mutual's terrible Romney gif,… \",\n",
       " 'The stylist Lee Jingyu who worked with BTS_twt in HYYH series talked about them “Now they are so famous & influential to do…',\n",
       " 'ALDUBFever4ever All love that has not friendship for its base, is like a mansion built upon the sand.',\n",
       " \"The similaries with Annie's edits. Omyghad. This is giving me chills!! MAYWARDxPLDTHome \",\n",
       " 'cherryblued ALDUBNATION HOMECOMING PRIVATE EVENT PO ALDUBFever4ever',\n",
       " 'nhicanixxx ferijen_13 Mscathygonzaga I love Mscathygonzaga too! emo_smiling_face_with_smiling_eyes ALDUBFever4ever',\n",
       " '\"Cows play fetch? Where the hell has this information been all my life?\" ',\n",
       " \"15 mins until this day off. I'm getting stupid. Gonna grill some steak and chill by the fire pit. Might even make s… \",\n",
       " 'ALDUBFever4ever VMHammermanPoisoned lynieg88 Barbarapunzala1 wengcookie salvadortrish21 sherrypie18 radoc_jean…',\n",
       " 'renato_mariotti Because they have more dirt on him, and want to use it to influence his votes.',\n",
       " 'People show what they are really like by what they do, rather than by what they say. ALDUBFever4ever',\n",
       " 'DitzMcGeee I’m so sorry. I don’t speak with my mom really either. Hopefully, time will remove her from influencing yo…',\n",
       " 'emo_heavy_check_mark Country music marks Las Vegas shooting anniversary emo_heavy_check_mark First Lady flies solo to Africa emo_heavy_check_mark Vital signs of fluctuations…',\n",
       " 'Take your time getting dressed this morning ; read a book ,make yourself some breakfast. the world can wait. ALDUBFever4e…',\n",
       " 'The way I’ve just been chilling yeah, fully forgot I’m a Uni student',\n",
       " 'Regina SK Weather, Temp:-0.9ºC; Dew:-9.3ºC; Pressure:1019.50hPa.; Wind:0/kph131.0 Wind Chill:-0.9°C Humidity:53;… ',\n",
       " 'Can you catch? I think I’m falling for you. ALDUBFever4ever',\n",
       " 'I’m genuinely so interested in what animals be saying to each other lmfao. “Say I won’t go smack this nigga with this o…',\n",
       " 'The Albanian vote in Macedonia referendum shows that Russian meddling is often used to mask the declining influence of the Wes…',\n",
       " 'this is my little cousin. the most recent picture is the first one. IF YOU HAVE SEEN OR HEARD FROM HER PLEASE DM ME!! She h…',\n",
       " 'Since 1994 you’re in my heart emo_red_heart . I love you. lucie_marlot . sister love family 23 years holidays chill… ',\n",
       " 'ALDUBFever4ever Love begins with a smile, grows with a kiss, ends with a tear. When you were born, you were crying… ',\n",
       " 'To everyone bragging about not getting the flu vaccine or promoting “vitamins” as an alternative. This is Oliver on the ri…',\n",
       " 'Are you an expert in a certain niche or an influencer? You now have the ability to monetize your own video content… ',\n",
       " 'Must say he was very influenced by the Christian Bible!? narendramodi',\n",
       " 'ALDUBFever4ever VMHammermanPoisoned lynieg88 KDENG18 wengcookie salvadortrish21 sherrypie18 radoc_jeana ALDUB…',\n",
       " '[ChristianHillemo_lion_face Owner] sings Creep by Radiohead, what an incredible voice on StarMaker! music karaoke sing …',\n",
       " 'dialectically relieve your headache ',\n",
       " 'Chilling story on life and death in Mumbai’s ‘human dumping ground’ by BhanujKappal ',\n",
       " 'BOOM-GA KA DAY IS IN D HAUS YO! mainedcm ALDUBFever4ever ',\n",
       " \"NFLUK No and I'm very pissed off about it for some silly reason! MIAvsNE MiamiDolphins\",\n",
       " 'ALDUBFever4ever VMHammermanPoisoned lynieg88 KDENG18 wengcookie salvadortrish21 sherrypie18 radoc_jeana ALDUB…',\n",
       " 'Congrats Jose ALDUBFever4ever ',\n",
       " 'We realize that love is our innate design, compassion becomes our natural expression. ALDUBFever4ever',\n",
       " '<PRE-ORDER [BATCH 2] 1-12 Oct.> . emo_sunflower CARAT PHONE CASES & CARAT STRAP 3.0 & KEYCHAINS + mini pin buttonsemo_sunflower . <Check all deta…',\n",
       " 'Vote for Bretman Rock by retweeting this post: BretmanRock TheBeautyInfluencer PCAs ',\n",
       " 'Me showing my soft and silly side this morning-never fails to get all of the humans fluttering round me emo_rolling_on_the_floor_laughing emo_dog_face emo_paw_prints dogcelebration…',\n",
       " 'emo_gem_stone RT EVENT!emo_gem_stone . I will give 4 sets of CARAT STRAP 3.0 to 4 winners. Shipping fee on me emo_love-you_gesture_light_skin_tone I’ll pick the winners with random…',\n",
       " \"keith's influence is so powerful \",\n",
       " 'ALDUBFever4ever VMHammermanPoisoned lynieg88 KDENG18 wengcookie salvadortrish21 sherrypie18 radoc_jeana ALDUB…',\n",
       " 'Wise men put their trust in ideas and not in circumstances - Ralph Waldo Emerson ALDUBFever4Ever emo_heart_suit ',\n",
       " 'All I want to do rn is chill and hit a fat one emo_smirking_face ',\n",
       " '16. Wait until they move, let them believe they have the element of surprise, feign weakness, disorder and chaos (Grass…',\n",
       " \"why do people feel the need to brag about something they've got 24/7 like a car or a dog looool we get it chill out ya weirdo\",\n",
       " 'Beautiful mainedcm!emo_smiling_face_with_heart-eyes emo_two_hearts ALDUBFever4ever emo_camera_with_flash : SM_Shopmag ',\n",
       " 'Can vs.Can’t - Considering something as a stop is in essence an admission of your weakness... Ability… ',\n",
       " 'ALDUBFever4ever VMHammermanPoisoned lynieg88 Barbarapunzala1 wengcookie salvadortrish21 sherrypie18 radoc_jean…',\n",
       " 'stevemitch126 Hesiod2k11 BenHowe still waiting on you to offer some facts. So far this is all your fever dream.',\n",
       " 'Some people in the fandom don’t like So It Goes... ',\n",
       " 'chillinwimme ',\n",
       " 'SALTED CARAMEL MCFLURRY IS BACK YALL',\n",
       " \"Age is a question of mind over matter. If you don't mind, it doesn't matter. ALDUBFever4ever\",\n",
       " 'A swallow does not make the summer. ALDUBFever4ever',\n",
       " 'State Royale are walking their own creative pathway, taking hints of influence from various places but essentially sti…',\n",
       " 'This in itself is quite marvelous. When one reaches Imran’s level of influence, one can only imagine the countless… ',\n",
       " 'Happy tweeting! ALDUBFever4ever AlDubBigGirlz aldubmaiden SONATAZ firgine abcbants mom_norie Poreber2018 al…',\n",
       " 'EdukCircle Congrats Jose Manalo! You deserve it! emo_thumbs_up ALDUBFever4ever',\n",
       " \"“I'd rather be hated for who I am, than loved for who I am not.”― Kurt Cobain ALDUBFever4ever emo_heart_suit VMHammermanPoisoned emo_heart_suit \",\n",
       " '\"Birb needs some cuddles\" ',\n",
       " '“We do not need magic to transform our world. We carry all of the power we need inside ourselves already.” ― ALDUBFever…',\n",
       " \"Good morning to everyone ...except those that think flu shots are a conspiracy Don't be the germ bag\",\n",
       " 'emo_camera thatonevalgirldraws: another flux buddies redraw! 2018 emo_right_arrow 2015 emo_right_arrow 2014 ',\n",
       " 'starcrosswolf battleofever IngrahamAngle AppSame GartrellLinda Trump454545 pinkk9lover FriendlyJMC KNP2BP… ',\n",
       " 'Im also watchin while having lunch! ma1208an ALDUBFever4ever ',\n",
       " 'dialectically relieve your headache ',\n",
       " 'Retweet this last ',\n",
       " 'Top 10 Insurtech influencer emo_white_medium_star via NodeXL spirosmargaris mikequindazzi deeplearn007 utarsyst…',\n",
       " 'My cat has been coughing and wheezing for 2days so today I gve her cough syrup. she has been sleeping since morning emo_weary_face ',\n",
       " '6 Cyclemind - Biglaan: NP on Home of OPM - 6CycleMindFever',\n",
       " 'Waking up in truth is much better than living in a lie. ALDUBFever4ever',\n",
       " 'wait for it ',\n",
       " 'A friend in need is a friend indeed. ALDUBFever4ever',\n",
       " 'alexgrigorian_ i’m in 10 layers, everyone’s coughing & i’m gonna puke but i’m a slave to the education system',\n",
       " '...Tiffany Pollard is a generational icon. Literally everything she says is worth a meme. Impact. Influence. Icon https:/…',\n",
       " \"You scratch my back and I'll scratch yours. ALDUBFever4ever\",\n",
       " 'It does not matter how slowly you go as long as you do not stop ALDUBFever4ever m',\n",
       " 'This dissection of the evidence by NathanJRobinson is devastating, but I found this paragraph chilling. The overwhelming l…',\n",
       " 'OwenJones84 These are rude, nasty people who view compassion as a weakness. The ageism in the older delegate is apparent.',\n",
       " 'The latest web-geek-tech, le Journal! influencermarketing contentmarketing',\n",
       " 'Love is our universal language...heart to heart. ALDUBFever4ever',\n",
       " 'It is useless to take unnecessary risks. ALDUBFever4ever',\n",
       " 'I should chill right it’s too early',\n",
       " 'way better than an Android ',\n",
       " 'ALDUBFever4ever VMHammermanPoisoned lynieg88 Barbarapunzala1 wengcookie salvadortrish21 sherrypie18 radoc_jean…',\n",
       " '\"Cows play fetch? Where the hell has this information been all my life?\" ',\n",
       " 'If you never waste anything, you will have is when you need it. ALDUBFever4ever',\n",
       " 'you already know that you’re my weakness',\n",
       " 'dezrodriguez_ CaunteRose EatBulaga mainedcm Sana thrice a week man lang. ALDUBFever4ever mainedcmMACMOAin4Days',\n",
       " 'It is only hope which is real, and reality is a bitterness and a deceit.– William Makepeace Thackeray ALDUBFever4ever emo_heart_suit …',\n",
       " 'Prepaid Card Market to Witness Huge Growth by Key Players: Apple ,Wells Fargo ,Paypal ,West Union ,Kaiku , AccountN… ',\n",
       " 'ALDUBFever4ever VMHammermanPoisoned lynieg88 KDENG18 wengcookie salvadortrish21 sherrypie18 radoc_jeana ALDUB…',\n",
       " 'Tom Wilson tom_wilso U are a disgrace Blind sided tackles i wish Tie Domi was on the Ice so he could hav… ',\n",
       " '49.4% of undergraduate PUBLIC HEALTH students agreed with the statement “I believe that as a result of the flu shot I may act…',\n",
       " 'Fever is such a gud song emo_loudly_crying_face emo_fire emo_fire emo_two_hearts ',\n",
       " 'A change is as good as a rest. ALDUBFever4ever',\n",
       " 'Your Lips Look So Lonely. Would They Like To Meet Mine? ALDUBFever4ever',\n",
       " '\"SMILEEEEEE!! I was chillin\\' with Dad & Mom when my favorites came up to us to say hello, chikahan & tawanan after.\" —ilove…',\n",
       " 'FLUFFY lemon blueberry pancakes emo_smiling_face_with_heart-eyes emo_pancakes emo_lemon . emo_camera_with_flash and recipe by jo_kalin . To make these fluffy lemon blueberry pancakes you… ',\n",
       " 'Just a chill track I made... Let me know what you think! ',\n",
       " '5 Proven Ways to Be More Influential at Work LollyDaskal Leadership Management HR',\n",
       " 'The best things in life are FREE …. Family, Friends, Smiles, Hugs, Kisses, Love, Sleep, Good Memories. ALDUBFever4ever',\n",
       " '\"Buy a toy for me?\" ',\n",
       " 'Hatred is as blind as love. ALDUBFever4ever',\n",
       " 'jasonistrending sofiachurchillx AbodeRecords DefectedRecords Decent Halloween events you say... look no further tha…',\n",
       " \"loinclothnation Hello G! I'm wearing a fluffy jumper today in honour of that tweet.\",\n",
       " 'It does not matter how slowly you go as long as you do not stop ALDUBFever4ever m',\n",
       " 'mels3sons HEBMarching alanwemhoff Fluglebone?',\n",
       " 'Its better to let go with a smile in face than to hold on with tears in eyes. ALDUBFever4ever',\n",
       " 'Trust is built step by step, commitment by commitment, on every level - Robert C. Solomon ALDUBFever4Ever emo_heart_suit ',\n",
       " 'Trust no one unless you have eaten much salt with him - Cicero ALDUBFever4Ever emo_heart_suit ',\n",
       " 'Facts matter. rebel/scheer, kenney kijiji & drug ford all spout lies in order to influence voters. When you make re… ',\n",
       " \"Stages on Twitter; 1. You created a twitter account. 2. But you didn't understand it. 3. So you left for a few months or…\",\n",
       " 'The way I’ve just been chilling yeah, fully forgot I’m a Uni student',\n",
       " 'Tommy talks rap artists who influenced his Venom therealredman methodman BustaRhymes emo_love-you_gesture_medium-light_skin_tone ',\n",
       " 'J Cole and Miguel collabs aren’t appreciated enough. All I want is you? Power Trip? Come thru and chill? Sensational spin…',\n",
       " 'The stylist Lee Jingyu who worked with BTS_twt in HYYH series talked about them “Now they are so famous & influential to do…',\n",
       " '\"Cows play fetch? Where the hell has this information been all my life?\" ',\n",
       " 'ALDUBFever4ever VMHammermanPoisoned lynieg88 Barbarapunzala1 wengcookie salvadortrish21 sherrypie18 radoc_jean…',\n",
       " 'AteSushii I read it. It was so fluffy and cute. You did a wonderful job!!!',\n",
       " 'Unconditional love unites our individual uniqueness. ALDUBFever4ever',\n",
       " 'Be thankful for the life and time you do have, especially for those you love. ALDUBFever4ever',\n",
       " 'It is better to be born a beggar than a fool. ALDUBFever4ever',\n",
       " \"Wow I can't quite believe it's October already! The nights are drawing in and it's getting chillier by the day!\",\n",
       " 'ALDUBFever4ever Good morning! ',\n",
       " \"TradesTalk TradesTalk I am a middle age plumber I love getting jobs in the summer To many jobs then I'm in a flutter I d…\",\n",
       " 'I am 99% sure that she doesn’t like me but it’s that 1% that keep me hangin ALDUBFever4ever on.',\n",
       " 'Taking it all in all, I find it is more trouble to watch after money than to get it. – Montaigne ALDUBFever4ever',\n",
       " \"Heresies are experiments in man's unsatisfied search for truth.– H. G. Wells ALDUBFever4ever emo_heart_suit VMHammermanPoisoned emo_heart_suit \",\n",
       " 'Never look at what you have lost. Always look at what is left with you. ALDUBFever4ever',\n",
       " 'ALDUBFever4ever emo_face_blowing_a_kiss lynieg88 pinkyfaye wengcookie salvadortrish21 sherrypie18 radoc_jeana ALDUBThess16 iam_ging…',\n",
       " 'ganderson7 jam_tako3 ThomLourim TolbertToz ecologyngle SherylPrattERA SchillerIndyrok basantonan… ',\n",
       " 'Gaitonde got no chill ',\n",
       " \"THIS IS A FACE OF THE SAME BOY WHO STRUGGLED SO MUCH AND BROKE DOWN ON STAGE BC HE THOUGHT HE'S NOT A GOOD ENOUGH LEADER, TH…\",\n",
       " 'The powerful confluence of Mobile Capture & Case Management technews CX healthcare AIIM ECM',\n",
       " 'They ask you for money, wahala. They work for their own money, headache. emo_upside-down_face ',\n",
       " 'I like the funny financier, BoomGaKaDay! emo_red_heart ALDUBFever4ever',\n",
       " 'What is not started today is never finished tomorrow - Johann Wolfgang von Goethe ALDUBFever4Ever emo_heart_suit ',\n",
       " 'I haven’t gotten to 5 yetemo_face_with_tears_of_joy ',\n",
       " 'Shared via Flu season last winter killed the most people since the 1970s, CDC says',\n",
       " 'LOOK AT JEONGHANS FLUSTERED FACE WHILE WATCHING THE FANMADE VIDEO FILO CARATS MADE FOR HIM FOR HIS BIRTHDAY HE LOOKS SO HAP…',\n",
       " 'Today I am what I am Because of my yesterday’s choices. And where I shall be tomorrow Will be decided today. ALDUBFever4e…',\n",
       " 'So fluffy emo_smiling_face_with_heart-eyes emo_smiling_face_with_heart-eyes emo_video_camera : bunnybears_love ',\n",
       " 'you go to your local hot topic to buy the album and ask who decided to release it so early, someone behind you coughs and y…',\n",
       " 'Litecoin (LTC) Daily Price Forecast – October 1 LTC/USD Medium-term Trend: Ranging Resist… ',\n",
       " 'Focus on the most trusted influencers in fintech : bitcoinagile + FintechBot -- discover more : ',\n",
       " 'ALDUBFever4ever emo_face_blowing_a_kiss lynieg88 pinkyfaye wengcookie salvadortrish21 sherrypie18 radoc_jeana ALDUBThess16 iam_ging…',\n",
       " 'Such a friendly convo mahJeynboo emo_face_with_tears_of_joy emo_face_with_tears_of_joy ',\n",
       " 'bwisit ka bad influenceemo_smiling_face_with_horns emo_oncoming_fist emo_oncoming_fist emo_oncoming_fist ',\n",
       " \"Remember when influencers swore Lagos was clean and there were street lights everywhere? Now that they've been paid to s…\",\n",
       " 'What is not started today is never finished tomorrow - Johann Wolfgang von Goethe ALDUBFever4Ever emo_heart_suit ',\n",
       " 'The first rule of my speaking is: listen - Larry King ALDUBFever4Ever emo_heart_suit ',\n",
       " 'Coming up at NorwichSciFest: a celebration of women who have influenced space travel, with LibbyJackson__. From Ada L…',\n",
       " 'Never forget when Minseok mouthed \"Big Bang\" right before the MC anounced that the winner of MAMA 2015 Soty is Big Bang, an…',\n",
       " 'MAICHARD TRUE STORIES 109 (SERIES) ALDUBFever4ever ',\n",
       " \"I'm working on this story, for Ch. 2 Action News This Morning. Flu season is here: What you need to know about the… \",\n",
       " \"SneezeCocoa Relationship ain't supposed to be forced. You can not treat people badly and expect them to let you in… \",\n",
       " \"Don't dig your grave with our own knife and fork. ALDUBFever4ever\",\n",
       " 'Arriving at one goal is the starting point to another - John Dewey ALDUBFever4Ever emo_heart_suit ',\n",
       " 'Fear cannot be without hope nor hope without fear.– Baruch Spinoza ALDUBFever4ever emo_heart_suit VMHammermanPoisoned emo_heart_suit ',\n",
       " 'WHY AM I RUNNING A FEVER AND FEEL WEAK FOR THE SECOND TIME THIS MONTH?? emo_loudly_crying_face I wanted to enjoy my next two days off but SURPRISE.',\n",
       " 'ALDUBFever4ever emo_face_blowing_a_kiss lynieg88 pinkyfaye wengcookie salvadortrish21 sherrypie18 radoc_jeana ALDUBThess16 iam_ging…',\n",
       " 'ALDUBFever4ever emo_face_blowing_a_kiss lynieg88 pinkyfaye wengcookie salvadortrish21 sherrypie18 radoc_jeana ALDUBThess16 iam_ging…',\n",
       " 'Only two days left before GEOFLUID, the most important world exhibition dedicated to drilling & foundations. Come and…',\n",
       " 'The greatest gift that you can give to others is the gift of unconditional love and acceptance - Brian Tracy ALDUBFever4…',\n",
       " 'darna817 BhelayL aldenrichards02 mainedcm Take care po and GOD bless ALDUBFever4ever',\n",
       " 'ALDUBFever4ever emo_face_blowing_a_kiss lynieg88 pinkyfaye wengcookie salvadortrish21 sherrypie18 radoc_jeana ALDUBThess16 iam_ging…',\n",
       " 'Am in church for cross over but I just come outside to download and listen to wizkidayo fever and its a banger fever',\n",
       " 'ALDUBFever4ever emo_face_blowing_a_kiss lynieg88 pinkyfaye wengcookie salvadortrish21 sherrypie18 radoc_jeana ALDUBThess16 iam_ging…',\n",
       " 'Wow, who knew life could be this amazing.. ALDUBFever4ever',\n",
       " 'Courage is being scared to death, but saddling up anyway - John Wayne ALDUBFever4Ever emo_heart_suit ',\n",
       " 'SeanRoss0 Thats before we even get started on Churchill in South Africa, Attlee in Malaysia, Lloyd George (along with Churc…',\n",
       " 'emo_smiling_face_with_smiling_eyes From Direk Chris FYI, Direk Chris is a Carlos Palanca awardee. He is the director and writer of Daddy’s Gurl kaya chill…',\n",
       " 'The phenomenon lives on!!! ALDUBFever4ever',\n",
       " 'Bad Influence Part 1 - Gina Valentina is over at her best friend’s … ! Porno >> << …',\n",
       " 'Petrol heads sure to get chronic headaches from this! petrolpricehike FuelLevy RAFlevy',\n",
       " 'And the Flu Campaign 2018/2019 has kicked off!!!! Our first attended was here very promptly at 7.25! Early vaccination…',\n",
       " 'You can ignore me for as long as you want, but you can never change the memories that I brought in your life. ALDUBFever4ever',\n",
       " 'kyusneeze Thank you emo_frowning_face emo_beating_heart emo_beating_heart ',\n",
       " \"If There's One Thing I Hate The Most, It's Seeing Bad Things Happen To Good People. ALDUBFever4ever\",\n",
       " 'So fluffy emo_smiling_face_with_heart-eyes emo_smiling_face_with_heart-eyes emo_video_camera : bunnybears_love ',\n",
       " 'archillect I work near hear. Such great buildings!',\n",
       " 'Some people only listen to, and believe what they want to hear, the truth, to them, is irrelevant. ALDUBFever4ever',\n",
       " 'I cannot imagine,my life since april back to teenage life bcoz of juanbie fever,its a blessing to us,because of you guys…',\n",
       " 'What the hell is going on in Baghdad? Assassinating women for being beautiful, influential or activists? Where are you MeTo…',\n",
       " 'Look who we bumped into! None other than Mr Plan B himself DavidDavisMP As we were suffering headaches at the prospect…',\n",
       " 'way better than an Android ',\n",
       " 'The 5 ranked UK Corporate Modern Slavery Influencer 2018 is Aidan McQuade the_mcquade Congratulations! Introducin… ',\n",
       " 'Say What You Mean But Mean What You Say. ALDUBFever4ever',\n",
       " 'When A Bird Hits Your Window Have You Ever Wondered If God Is Playing Angry Birds With You? ALDUBFever4ever',\n",
       " 'InfernalCrimson Dunno, chill on a couch and watch a movie?',\n",
       " 'So fluffy emo_smiling_face_with_heart-eyes emo_smiling_face_with_heart-eyes emo_video_camera : bunnybears_love ',\n",
       " 'So Yummy Ulli Chammanthi/ Onion Chutni / Red chilly chutni hotspicy Easy Recipe ',\n",
       " 'ALDUBFever4ever emo_face_blowing_a_kiss lynieg88 pinkyfaye wengcookie salvadortrish21 sherrypie18 radoc_jeana ALDUBThess16 iam_ging…',\n",
       " 'ALDUBFever4ever emo_face_blowing_a_kiss lynieg88 pinkyfaye wengcookie salvadortrish21 sherrypie18 radoc_jeana ALDUBThess16 iam_ging…',\n",
       " 'college is a weekly cycle of “i just need to get through this week and everything will be chill next week” and then it’…',\n",
       " 'Proud to be amongst the 100 most influential people of colour in Bristol ',\n",
       " 'If you treat me like an option, I’ll leave ALDUBFever4ever like a choice.',\n",
       " 'The stylist Lee Jingyu who worked with BTS_twt in HYYH series talked about them “Now they are so famous & influential to do…',\n",
       " 'Disclosing important information (to the enemy or a competitor) could result in large losses. ALDUBFever4ever',\n",
       " 'All great achievements require time - Maya Angelou ALDUBFever4Ever emo_heart_suit ',\n",
       " 'Veterinarians Pigvets we have an Africanswinefever poster that you can download and print to display for customers or han…',\n",
       " 'Top emo_hundred_points Most Influential People in the world emo_globe_showing_Europe-Africa In the category of TITANS 1 is our own José Andrés chefjoseandres Spain Spa…',\n",
       " 'The achievement of your goal is assured the moment you commit yourself to it - Douglas ALDUBFever4Ever emo_heart_suit ',\n",
       " 'i just be chillin man, really.',\n",
       " 'ALDUBFever4ever coins always make a sound but the currency notes are always silent,So when ur value increases, keep urse…',\n",
       " 'CHILL & CHAT! What are you up to next Monday afternoon? Why not come and learn a new skill with the CoMHWA team? Or… ',\n",
       " 'ALDUBFever4ever It is better to be hated for who you are than to be loved for what you are not.',\n",
       " '\"Cows play fetch? Where the hell has this information been all my life?\" ',\n",
       " 'Life seems but a quick succession of busy nothings - Jane Austen ALDUBFever4Ever emo_heart_suit ',\n",
       " 'Those who spend too fast never grow rich - Honor de Balzac ALDUBFever4Ever emo_heart_suit ',\n",
       " \"Danske Bank's board should explore suing senior managers over its money laundering scandal, according to influential shar…\",\n",
       " 'umjxmin Omg same, I love just chillin in my room as the world goes by, but like in a good way.',\n",
       " 'See ehn, all of us are mad!!!! Some people defend driving under the influence of marijuana, (igboo, sativa, weed) saying…',\n",
       " 'Laughter is the best medicine. ALDUBFever4ever',\n",
       " 'Farrin dog this lol Caribbean dogs know to eat mango or grass to flush out dem system ',\n",
       " 'When I think of you, I don’t think of tomorrow. ALDUBFever4ever',\n",
       " \"Cisco coughs up baker's dozen of vulns and other security nasties \",\n",
       " 'When you sneeze in your period at Santorini... ',\n",
       " 'The stylist Lee Jingyu who worked with BTS_twt in HYYH series talked about them “Now they are so famous & influential to do…',\n",
       " 'PaaNgMaiChard sorry...napa scroll down emo_face_with_tears_of_joy ALDUBFever4ever VMHammermanPoisoned',\n",
       " 'college is a weekly cycle of “i just need to get through this week and everything will be chill next week” and then it’…',\n",
       " \"As Chernobyl's gray wolf population increases, its influence on the surrounding environment is called into question …\",\n",
       " 'dancingkingJH BTS_twt Damn, I felt it...the nervousness, the fears... I felt the chills. BTS PCAs TheGroup',\n",
       " 'People usually complain about their look, but no one complains about their brains. ALDUBFever4ever',\n",
       " 'Hey Balls Of Fluff(Balls_Of_Fluff), thank you for following me',\n",
       " \"You have to do what others won't. To achieve what others don't - Unknown ALDUBFever4Ever emo_heart_suit \",\n",
       " 'Meerut medical college students’ assault: 3 suspended cops transferred to Gorakhpur, Varanasi https:/…',\n",
       " 'Look who just arrived! Ande & Alma are the perfect snuggle partners for chilly season that has arrived! Ordering… ',\n",
       " \"Don't care what they say, you reach for the stars - cWiz Khalifa ALDUBFever4Ever emo_heart_suit \",\n",
       " 'On November 6th, don\\'t forget to flush. Help the \"blue wave\" get home. INSTABLOCK ',\n",
       " 'ALDUBFever4ever emo_face_blowing_a_kiss lynieg88 pinkyfaye wengcookie salvadortrish21 sherrypie18 radoc_jeana ALDUBThess16 iam_ging…',\n",
       " 'A closed mouth catches no flies. ALDUBFever4ever',\n",
       " 'ALDUBFever4ever emo_face_blowing_a_kiss lynieg88 pinkyfaye wengcookie salvadortrish21 sherrypie18 radoc_jeana ALDUBThess16 iam_ging…',\n",
       " \"OnThisDay 2004 donnyosmond 's Cool Song BreezeOnBy emo_microphone emo_musical_notes Was Released - Co Written By Donny & Influenced By GeorgeBenson…\",\n",
       " 'Beauty Is In The Eye Of The Credit Card Holder. ALDUBFever4ever',\n",
       " 'maloujacala8 Tornament ALDUBFever4ever',\n",
       " \"Life is what happens to you while you're busy making other plans -- John Lennon ALDUBFever4ever\",\n",
       " 'from Direk Chris Martinez emo_smiling_face_with_smiling_eyes ALDUBFever4ever ',\n",
       " 'ok but jungkook tryna flirt and then getting flustered because he thinks that he’s not gOOD at flirting I’m— how does he…',\n",
       " 'What breed are these fluffy sheeps emo_smiling_face_with_heart-eyes ',\n",
       " '\"Cows play fetch? Where the hell has this information been all my life?\" ',\n",
       " 'Blessing your timelines with Richard’s hearty laugh on loop emo_relieved_face VMHammermanPoisoned ALDUBFever4ever …',\n",
       " 'An unusual event is not likely to occur again in exactly the same circumstances. ALDUBFever4ever',\n",
       " \"Legionella News: Solution needed for Churchill cancer centre's Legionella issue - \",\n",
       " 'watch until the end ',\n",
       " 'Sean Munnick- Week N Chill (feat. Daev Martian)',\n",
       " 'Good morning adn ALDUBFever4ever',\n",
       " 'Yall can keep that baby fever, i got puppy fever, shiddd ',\n",
       " 'ALDUBFever4ever emo_face_blowing_a_kiss lynieg88 pinkyfaye wengcookie salvadortrish21 sherrypie18 radoc_jeana ALDUBThess16 iam_ging…',\n",
       " 'Big questions get big answers - Francis Harry Compton Crick ALDUBFever4Ever emo_heart_suit ',\n",
       " 'Only mediocrity is sure of itself, so take risks, and do what you really want to do - Paulo Coelho ALDUBFever4Ever emo_heart_suit ',\n",
       " 'Pls. support our oht ALDUBFever4ever ofctrendsetter teamalaya1 AMInaticsOFC ALDUB_POETweets AIFam16 ADNPerkyMes…',\n",
       " 'My fake plants died because I did not pretend to water them -- Mitch Hedberg ALDUBFever4ever',\n",
       " 'Stemo_glowing_star rboy fever emo_fire emo_fire emo_red_heart emo_glowing_star emo_rose emo_eagle emo_Nigeria ',\n",
       " 'When you’ve been chilling with your man all day and he gets a text from his homeboys asking to hangout so now he gotta lea…',\n",
       " 'Using socialselling and a personal brand to influence your current pipeline sales salestips …',\n",
       " 'ALDUBFever4ever emo_face_blowing_a_kiss lynieg88 pinkyfaye wengcookie salvadortrish21 sherrypie18 radoc_jeana ALDUBThess16 iam_ging…',\n",
       " 'Too much of crying causing me headache',\n",
       " 'CHAMPAGNEKNJ just listened to bad kid chill city',\n",
       " 'Life is 10 percent what happens to you and 90 percent how you respond to it. ALDUBFever4ever emo_face_blowing_a_kiss lynieg88 pinkyfaye…',\n",
       " \"Forgiveness to the injured does belong but they ne'er pardon who have done wrong.– John Dryden ALDUBFever4Ever emo_heart_suit \",\n",
       " 'Y’all ever cry in silence & immediately pull yourself together & start being social? Like is a bitch strong or emotiona…',\n",
       " 'A day to celebrate indeed. One of the most influential connections that has continuing benefits not just me but fo… ',\n",
       " 'It takes a thoroughly good woman to do a thoroughly stupid thing - Oscar Wilde ALDUBFever4ever emo_heart_suit VMHammermanPoisoned emo_heart_suit ',\n",
       " 'A happy person needs nothing more. ALDUBFever4ever',\n",
       " 'They’re finally here! Thank you aurorabmunchkin purplelover513 emo_red_heart emo_red_heart emo_red_heart ALDUBFever4ever ',\n",
       " 'ariana always looks good in everything, even a garbage bag would look good on her',\n",
       " '_itsannii You need to chillemo_face_with_tears_of_joy emo_face_with_tears_of_joy emo_face_with_tears_of_joy ',\n",
       " 'I am a chill person but mess with my boys then go boy, you better run because i spit facts and shade, not nonsense. IDOL…',\n",
       " 'It’s MeetUpMonday! Just a few tagged in this photo. Others include BooshBarBSE delicafechilli farmerskichen Rec Ca…',\n",
       " 'playing danganronpav3. you see korekiyo, I see HOUSEOFMACLEAN',\n",
       " '\"Cows play fetch? Where the hell has this information been all my life?\" ',\n",
       " 'Character consists of what you do on the third and fourth tries - James A. Michener ALDUBFever4ever emo_heart_suit VMHammermanPoisoned emo_heart_suit ',\n",
       " 'Gigabyte GA AX370M DS3H AM4 Amazing Price Motherboard that confuses the ... via YouTube SGH_RTs',\n",
       " 'A newly-appointed person often makes changes quickly. ALDUBFever4ever',\n",
       " 'When they catch feelings just from chilling with you ',\n",
       " 'The great hope of society is in individual character.– William Ellery Channing ALDUBFever4ever emo_heart_suit VMHammermanPoisoned emo_heart_suit ',\n",
       " 'Love is an ocean of emotions entirely surrounded by expenses - Lord Dewar ALDUBFever4Ever emo_heart_suit ',\n",
       " 'Winston Churchill on success. ',\n",
       " 'The best moment in my life. DavidTennant ',\n",
       " 'Churchill, Eden, MacMillian, Heath, Thatcher, Major, Cameron and May. Every post-war Conservative PM has prioritised a…',\n",
       " 'What an interesting article! ',\n",
       " 'The two large parties’ failure to articulate a positive vision of the EU has cost us dear. Now that it’s nearly gone, people…',\n",
       " \"ALDUBFever4ever If you're trying to achieve, there will be roadblocks. I've had them; everybody has had them. But obstacles d…\",\n",
       " 'WHO HibPro Vaccine (Haemophilus influenzae type B oligosaccharide 10 MCG) not available anywhere at Hyderabad, In… ',\n",
       " 'Fever video! Burst head! emo_shushing_face emo_shushing_face emo_exploding_head emo_exploding_head ',\n",
       " 'TrapRock! 3Mind Blight releases \"PARANOIA\". Trap/Rap with Rock influence. Also check out newly released Rock song,… ',\n",
       " 'LokiMontu They sniffle softly, huffing indignantly as they stand, leaning against him to help keep their balance.… ',\n",
       " 'A little throw back. Woke up today with a sore throat emo_persevering_face ',\n",
       " 'What on earth would Conservative Prime Ministers Churchill, Heath or Thatcher make of the current Conservative Foreign Se…',\n",
       " \"_Dr90210 Life is a madhouse...there's influence from all sides...religion and science and its all so chaotic, but it is a…\",\n",
       " 'The small fire from last night is out, it’s a chilly morning. The chimney is still warm so no cold air coming down,… ',\n",
       " \"Y'day in Malegaon APMC, chillies : ₹5/- Onion : ₹8/- Karela : 6/- Today in Mumbai : Chillies : ₹ 80/- Onion : ₹ 28/…\",\n",
       " 'Have a great week ahead, mainedcm aldenrichards02! emo_red_heart ALDUBFever4ever ',\n",
       " 'The best way to pay for a lovely moment is to enjoy it - Richard Bach ALDUBFever4Ever emo_heart_suit ',\n",
       " \"i'm a chill person with a lot of anxiety.\",\n",
       " 'Zimmermann Flutter Mini Dress | Khaki Sueded Silk, w Belt | Size 2 $600 RRP ',\n",
       " 'The shortest answer is doing the thing. - Ernest Hemingway ALDUBFever4ever',\n",
       " 'Now and then it’s good to pause in our pursuit of happiness and just be happy. ALDUBFever4ever emo_face_blowing_a_kiss lynieg88… ',\n",
       " 'ALDUBFever4ever emo_face_blowing_a_kiss lynieg88 pinkyfaye wengcookie salvadortrish21 sherrypie18 radoc_jeana ALDUBThess16 iam_ging…',\n",
       " 'Drop by today for a dose of indie music, arts & crafts, and (lots of) space for studying/chilling out/working. emo_hugging_face S… ',\n",
       " 'VivaSfGM Which one is Emzolyn ? An antibiotic for cough ?',\n",
       " 'Love is the condition in which the happiness of another person is essential to your own - Robert Heinlein ALDUBFever4Eve…',\n",
       " 'Blessing your timelines with Richard’s hearty laugh on loop emo_relieved_face VMHammermanPoisoned ALDUBFever4ever …',\n",
       " '[ARTICLE] 181001 \"[Doh Kyung Soo] The best man who make hearts flutter in Joseon appears! The big release of the stills of \\'…',\n",
       " 'Still waters run deep. ALDUBFever4ever',\n",
       " 'Always say goodbye with a smile for those you love. It may be the last time you’ll ever see them. ALDUBFever4ever',\n",
       " 'The more I practice, the luckier I get. ALDUBFever4ever',\n",
       " 'Life is what happens to us while we are making other plans. ALDUBFever4ever emo_face_blowing_a_kiss lynieg88 pinkyfaye wengcookie salv…',\n",
       " 'archillect Posted... ',\n",
       " \"PKajow mushroomelover Erwige0451 fluoridestare I maintain that this isn't an either-or situation. Gonna stick with my radical centerism.\",\n",
       " 'Time is the coin of life. Only you can determine how it will be spent. ALDUBFever4ever',\n",
       " 'This will never make it to Prime time News How Modi Govt formulated IBC laws which forced defaulters to cough up 1 lakh c…',\n",
       " 'Perfection of means and confusion of goals seem - in my opinion - to characterize our age - Albert Einstein ALDUBFever4e…',\n",
       " 'Let your hopes, not your hurts, shape your future - Robert H. Schuller ALDUBFever4Ever emo_heart_suit ',\n",
       " 'Good afternoon my friend ALDUBFever4Ever ',\n",
       " 'Weakness of attitude becomes weakness of character. - Albert Einstein',\n",
       " 'Why Do I Fall In Love With People Who Are All Ready Taken Or Have Feelings For Someone Else? ALDUBFever4ever',\n",
       " 'Today, 181001 emo_grinning_squinting_face emo_gem_stone ',\n",
       " 'Time Is Precious, Waste It Wisely. ALDUBFever4ever',\n",
       " \"I Was Talking To Myself Last Night And We Both Agreed That You're Crazy... ALDUBFever4ever\",\n",
       " 'At childhood we cry loudly to get what we like...When we grow up we cry silently to Forget what we like.That`s life... ALDUBFever4ever',\n",
       " 'ALDUBFever4ever emo_face_blowing_a_kiss lynieg88 pinkyfaye wengcookie salvadortrish21 sherrypie18 radoc_jeana ALDUBThess16 iam_ging…',\n",
       " 'Fever video! Burst head! emo_shushing_face emo_shushing_face emo_exploding_head emo_exploding_head ',\n",
       " 'Ray Wylie Hubbard - Mississippi Flush ',\n",
       " 'They ALDUBFever4ever ',\n",
       " 'See ehn, all of us are mad!!!! Some people defend driving under the influence of marijuana, (igboo, sativa, weed) saying…',\n",
       " 'Feminine Skoit is a rare sight nowa days. from . Please check her out, her art is insanely good an…',\n",
       " 'October is Tamang Panahon.. October is KS Alden & KS Maine’s wedding.. Let us celebrate! emo_smiling_face_with_smiling_eyes ALDUBFever4Ever',\n",
       " 'Happy 1st of October emo_smiling_face_with_smiling_eyes May this be a great month for all of us emo_heart_suit Good morning! emo_sunflower ALDUBFever4ever ',\n",
       " 'gfromas1 Otto_English Ah yes, I remember whooping cough from personal acquaintance - great fun! At the age of 5 I… ',\n",
       " 'Oh fucc i have a huge headache',\n",
       " 'You can ignore me for as long as you want, but you can never change the memories that I brought in your life. ALDUBFever4…',\n",
       " 'Crime tv shows, unsolved murders, conspiracy theories, etc.. & chill?',\n",
       " 'Thank you to everyone that attended FestiveFeverFest, your presence really made the event. You guys made it possib… ',\n",
       " 'I dont care if anyone does not like me. I was not born in this world to entertain everyone. ALDUBFever4ever',\n",
       " 'Wrong ',\n",
       " 'lmfao this me when I sneeze in class and everybody keeps on doing their work and don’t say bless you …',\n",
       " 'Vote for Jackie Aina by retweeting this post: JackieAina TheBeautyInfluencer PCAs ',\n",
       " 'battleofever MattalianoGuy Golfinggary5222 PatriotLexi GazettePatriot ActivePatriots Patriot261 patriotladyme…',\n",
       " 'One good event does not mean that everything is alright. ALDUBFever4ever',\n",
       " 'Jong Achilles 29 v-e-r Jong G.A. Eagles Soccer Live [HD] Telecast - Reserve League - 01-Oct ',\n",
       " 'Jong Achilles 29 v-e-r Jong G.A. Eagles Soccer Live [HD] Livecast - Reserve League - 01-Oct ',\n",
       " 'I’m still learning so much and it gives me a headache and I feel awful taking so long on jobs but it’s not like I’m… ',\n",
       " 'Why does he always hold his phone like a dad emo_face_with_tears_of_joy ',\n",
       " 'nyt my dear loveu mainedcmMACMOAin4Days MaineMendoza ALDUBFever4ever ',\n",
       " ...]"
      ]
     },
     "execution_count": 26,
     "metadata": {},
     "output_type": "execute_result"
    }
   ],
   "source": [
    "tweets"
   ]
  },
  {
   "cell_type": "code",
   "execution_count": 28,
   "metadata": {
    "ExecuteTime": {
     "end_time": "2019-11-16T03:11:22.357716Z",
     "start_time": "2019-11-16T03:11:22.355466Z"
    }
   },
   "outputs": [],
   "source": [
    "test = datas[14]['text']"
   ]
  },
  {
   "cell_type": "code",
   "execution_count": 92,
   "metadata": {
    "ExecuteTime": {
     "end_time": "2019-11-16T12:17:48.557311Z",
     "start_time": "2019-11-16T12:17:48.554274Z"
    }
   },
   "outputs": [],
   "source": [
    "r1 = u'RT @.*?: |#.*?\\W|@.*?\\W'\n",
    "r2 = '\\s+'\n",
    "r3 = 'http[s]?://(?:[a-zA-Z]|[0-9]|[$-_@.&+]|[!*\\(\\),]|(?:%[0-9a-fA-F][0-9a-fA-F]))+'\n",
    "r4 = r\"[a-zA-Z0-9_.+-]+@[a-zA-Z0-9-]+\\.[a-zA-Z0-9-.]+$\"\n",
    "r5 = '(\\u00a9|\\u00ae|[\\u2000-\\u3300]|\\ud83c[\\ud000-\\udfff]|\\ud83d[\\ud000-\\udfff]|\\ud83e[\\ud000-\\udfff])+'"
   ]
  },
  {
   "cell_type": "code",
   "execution_count": 70,
   "metadata": {
    "ExecuteTime": {
     "end_time": "2019-11-16T06:02:32.134782Z",
     "start_time": "2019-11-16T06:02:32.128721Z"
    }
   },
   "outputs": [
    {
     "data": {
      "text/plain": [
       "'He’s so fluffy  loudly_crying_face  loudly_crying_face  loudly_crying_face  red_heart  '"
      ]
     },
     "execution_count": 70,
     "metadata": {},
     "output_type": "execute_result"
    }
   ],
   "source": [
    "a = re.sub(r1,\"\", test)\n",
    "a = re.sub(r2, \" \", a)\n",
    "a = re.sub(r3, '', a)\n",
    "a = emoji.demojize(a,delimiters=(\" \", \" \"))\n",
    "a"
   ]
  },
  {
   "cell_type": "code",
   "execution_count": 61,
   "metadata": {
    "ExecuteTime": {
     "end_time": "2019-11-16T05:46:49.205017Z",
     "start_time": "2019-11-16T05:46:49.199592Z"
    }
   },
   "outputs": [
    {
     "data": {
      "text/plain": [
       "'RT @JW940328: He’s so fluffy emo_loudly_crying_face emo_loudly_crying_face emo_loudly_crying_face emo_red_heart  https://t.co/sPPEShc9dU'"
      ]
     },
     "execution_count": 61,
     "metadata": {},
     "output_type": "execute_result"
    }
   ],
   "source": [
    "import emoji\n",
    "test = 'RT @JW940328: He’s so fluffy 😭😭😭❤️ https://t.co/sPPEShc9dU'\n",
    "emoji.demojize(test,delimiters=('emo_',' '))"
   ]
  },
  {
   "cell_type": "code",
   "execution_count": 55,
   "metadata": {
    "ExecuteTime": {
     "end_time": "2019-11-16T05:42:24.692653Z",
     "start_time": "2019-11-16T05:42:24.688380Z"
    }
   },
   "outputs": [
    {
     "data": {
      "text/plain": [
       "'RT @JW940328: He’s so fluffy :loudly_crying_face::loudly_crying_face::loudly_crying_face::red_heart: https://t.co/sPPEShc9dU'"
      ]
     },
     "execution_count": 55,
     "metadata": {},
     "output_type": "execute_result"
    }
   ],
   "source": [
    "emoji.demojize(test)"
   ]
  },
  {
   "cell_type": "code",
   "execution_count": 36,
   "metadata": {
    "ExecuteTime": {
     "end_time": "2019-11-16T03:42:32.324133Z",
     "start_time": "2019-11-16T03:42:32.321490Z"
    }
   },
   "outputs": [],
   "source": [
    "e_path = './Data/emoji_dic.json'"
   ]
  },
  {
   "cell_type": "code",
   "execution_count": 18,
   "metadata": {
    "ExecuteTime": {
     "end_time": "2019-11-16T09:15:04.098034Z",
     "start_time": "2019-11-16T09:14:50.632944Z"
    }
   },
   "outputs": [
    {
     "name": "stdout",
     "output_type": "stream",
     "text": [
      "Relevant to ful? 2\n",
      "Enter: 1 Space: 02\n",
      "Enter: 1 Space: 0 \n",
      "0\n"
     ]
    }
   ],
   "source": [
    "label = input(\"Relevant to ful? \")\n",
    "while label != '' and label != ' ':\n",
    "    label = input(\"Enter: 1 Space: 0 \")\n",
    "if label == '':\n",
    "    print(1)\n",
    "elif label == ' ':\n",
    "    print(0)"
   ]
  },
  {
   "cell_type": "code",
   "execution_count": 106,
   "metadata": {
    "ExecuteTime": {
     "end_time": "2019-11-16T12:23:15.984597Z",
     "start_time": "2019-11-16T12:23:15.982063Z"
    }
   },
   "outputs": [],
   "source": [
    "import re\n",
    "r1 = u'RT @.*?: |#+[^\\s]*|@+[^\\s]*'"
   ]
  },
  {
   "cell_type": "code",
   "execution_count": 104,
   "metadata": {
    "ExecuteTime": {
     "end_time": "2019-11-16T12:22:41.415166Z",
     "start_time": "2019-11-16T12:22:41.412624Z"
    }
   },
   "outputs": [],
   "source": [
    "test = \"A man who doesn't trust himself can never really trust anyone else - Cardinal De Retz #ALDUBFever4Ever emo_heart_suit #ALDUBFever4Ever\""
   ]
  },
  {
   "cell_type": "code",
   "execution_count": 105,
   "metadata": {
    "ExecuteTime": {
     "end_time": "2019-11-16T12:22:41.743290Z",
     "start_time": "2019-11-16T12:22:41.738245Z"
    }
   },
   "outputs": [
    {
     "data": {
      "text/plain": [
       "\"A man who doesn't trust himself can never really trust anyone else - Cardinal De Retz  emo_heart_suit \""
      ]
     },
     "execution_count": 105,
     "metadata": {},
     "output_type": "execute_result"
    }
   ],
   "source": [
    "re.sub(r1, '', test)"
   ]
  },
  {
   "cell_type": "code",
   "execution_count": 82,
   "metadata": {
    "ExecuteTime": {
     "end_time": "2019-11-16T12:10:48.277624Z",
     "start_time": "2019-11-16T12:10:48.273259Z"
    }
   },
   "outputs": [
    {
     "data": {
      "text/plain": [
       "['#ALDUBFever4ever ']"
      ]
     },
     "execution_count": 82,
     "metadata": {},
     "output_type": "execute_result"
    }
   ],
   "source": [
    "re.findall(\"#.*?[\\s$]\", test)"
   ]
  },
  {
   "cell_type": "code",
   "execution_count": 204,
   "metadata": {
    "ExecuteTime": {
     "end_time": "2019-11-17T03:37:55.299313Z",
     "start_time": "2019-11-17T03:37:55.296379Z"
    }
   },
   "outputs": [],
   "source": [
    "test = \"Cill in sae chillin\""
   ]
  },
  {
   "cell_type": "code",
   "execution_count": 206,
   "metadata": {
    "ExecuteTime": {
     "end_time": "2019-11-17T03:44:32.536085Z",
     "start_time": "2019-11-17T03:44:32.531457Z"
    }
   },
   "outputs": [
    {
     "data": {
      "text/plain": [
       "True"
      ]
     },
     "execution_count": 206,
     "metadata": {},
     "output_type": "execute_result"
    }
   ],
   "source": [
    "not bool(re.search(rule, test, flags=re.IGNORECASE))"
   ]
  },
  {
   "cell_type": "code",
   "execution_count": 192,
   "metadata": {
    "ExecuteTime": {
     "end_time": "2019-11-17T03:32:33.388072Z",
     "start_time": "2019-11-17T03:32:33.384047Z"
    }
   },
   "outputs": [],
   "source": [
    "global WORD_LIST\n",
    "def load_word_list(word_list_path):\n",
    "\ttry:\n",
    "\t\twith open(word_list_path, 'r', encoding='utf-8') as file:\n",
    "\t\t\treturn json.load(file)\n",
    "\texcept IOError:\n",
    "\t\tprint(\"Can't find file:\", word_list_path)\n",
    "\t\texit(0)\n",
    "\t\t\n",
    "word_list_path = './Filter_rule/word_list.json'\n",
    "WORD_LIST = load_word_list(word_list_path)"
   ]
  },
  {
   "cell_type": "code",
   "execution_count": 194,
   "metadata": {
    "ExecuteTime": {
     "end_time": "2019-11-17T03:33:00.108506Z",
     "start_time": "2019-11-17T03:33:00.105353Z"
    }
   },
   "outputs": [],
   "source": [
    "rule = \"\"\n",
    "for x in WORD_LIST['include_words']:\n",
    "    new_words = \"(?:^|\\W)\" + x + \"(?:$|\\W)|\"\n",
    "    rule += new_words\n",
    "rule = rule[:-1]"
   ]
  },
  {
   "cell_type": "code",
   "execution_count": 195,
   "metadata": {
    "ExecuteTime": {
     "end_time": "2019-11-17T03:33:03.609256Z",
     "start_time": "2019-11-17T03:33:03.604620Z"
    }
   },
   "outputs": [
    {
     "data": {
      "text/plain": [
       "'(?:^|\\\\W)fever(?:$|\\\\W)|(?:^|\\\\W)cough(?:$|\\\\W)|(?:^|\\\\W)feverish(?:$|\\\\W)|(?:^|\\\\W)chill(?:$|\\\\W)|(?:^|\\\\W)sore throat(?:$|\\\\W)|(?:^|\\\\W)runny nose(?:$|\\\\W)|(?:^|\\\\W)stuffy nose(?:$|\\\\W)|(?:^|\\\\W)Aching muscles(?:$|\\\\W)|(?:^|\\\\W)Headache(?:$|\\\\W)|(?:^|\\\\W)Nasal congestion(?:$|\\\\W)|(?:^|\\\\W)Fatigue(?:$|\\\\W)|(?:^|\\\\W)weakness(?:$|\\\\W)|(?:^|\\\\W)vomiting(?:$|\\\\W)|(?:^|\\\\W)diarrhea(?:$|\\\\W)|(?:^|\\\\W)Bluish lips(?:$|\\\\W)|(?:^|\\\\W)bluish face(?:$|\\\\W)|(?:^|\\\\W)Dehydration(?:$|\\\\W)|(?:^|\\\\W)flu(?:$|\\\\W)|(?:^|\\\\W)influenza(?:$|\\\\W)|(?:^|\\\\W)catarrh(?:$|\\\\W)|(?:^|\\\\W)sneeze(?:$|\\\\W)|(?:^|\\\\W)common cold(?:$|\\\\W)|(?:^|\\\\W)sniffle(?:$|\\\\W)|(?:^|\\\\W)snuffle(?:$|\\\\W)'"
      ]
     },
     "execution_count": 195,
     "metadata": {},
     "output_type": "execute_result"
    }
   ],
   "source": [
    "rule"
   ]
  },
  {
   "cell_type": "code",
   "execution_count": 222,
   "metadata": {
    "ExecuteTime": {
     "end_time": "2019-11-17T09:04:41.579242Z",
     "start_time": "2019-11-17T09:04:41.575345Z"
    }
   },
   "outputs": [
    {
     "data": {
      "text/plain": [
       "False"
      ]
     },
     "execution_count": 222,
     "metadata": {},
     "output_type": "execute_result"
    }
   ],
   "source": [
    "True and True and not True"
   ]
  },
  {
   "cell_type": "code",
   "execution_count": 224,
   "metadata": {
    "ExecuteTime": {
     "end_time": "2019-11-17T10:33:04.747334Z",
     "start_time": "2019-11-17T10:33:04.745082Z"
    }
   },
   "outputs": [],
   "source": [
    "path = '/Volumes/NonBee5/Twitter/2018/10/01/00/29.json'"
   ]
  },
  {
   "cell_type": "code",
   "execution_count": 291,
   "metadata": {
    "ExecuteTime": {
     "end_time": "2019-11-18T06:54:48.552064Z",
     "start_time": "2019-11-18T06:54:48.323360Z"
    }
   },
   "outputs": [],
   "source": [
    "datas = []\n",
    "tweets = []\n",
    "repet = []\n",
    "place = []\n",
    "with open(path,'r') as file:\n",
    "     for line in file:\n",
    "        if line != \"\\n\":\n",
    "            data = json.loads(line)\n",
    "            datas.append(data)\n",
    "            if 'user'in data:\n",
    "                if data['lang'] == 'en':\n",
    "                    if data['text'] not in tweets:\n",
    "                        tweets.append(data['text'])\n",
    "                    else:\n",
    "                        repet.append(data)\n",
    "                    if data['place']:\n",
    "                        place.append(data['place'])"
   ]
  },
  {
   "cell_type": "code",
   "execution_count": 289,
   "metadata": {
    "ExecuteTime": {
     "end_time": "2019-11-18T06:53:30.102728Z",
     "start_time": "2019-11-18T06:53:30.093645Z"
    }
   },
   "outputs": [
    {
     "data": {
      "text/plain": [
       "{'created_at': 'Mon Oct 01 06:29:47 +0000 2018',\n",
       " 'id': 1046648352438284288,\n",
       " 'id_str': '1046648352438284288',\n",
       " 'text': 'RT @JCHANW00_: BI: We were really honoured to be able to perform in such a huge event. Indonesia is a foreign country and we sang the song…',\n",
       " 'source': '<a href=\"http://twitter.com/download/android\" rel=\"nofollow\">Twitter for Android</a>',\n",
       " 'truncated': False,\n",
       " 'in_reply_to_status_id': None,\n",
       " 'in_reply_to_status_id_str': None,\n",
       " 'in_reply_to_user_id': None,\n",
       " 'in_reply_to_user_id_str': None,\n",
       " 'in_reply_to_screen_name': None,\n",
       " 'user': {'id': 1409724073,\n",
       "  'id_str': '1409724073',\n",
       "  'name': \"Aprilinda | 1.10.2018 New kid's Final\",\n",
       "  'screen_name': 'Han_Binnie',\n",
       "  'location': 'Sarangeul haettda uriga manna ',\n",
       "  'url': None,\n",
       "  'description': \"❤ Welcome back ❤\\n💛 New kid's Begin 💛\\n                      💜 Return 💜\\n💙 New kid's Continue 💙 \\n                                    💚 New kid's Final 💚\",\n",
       "  'translator_type': 'none',\n",
       "  'protected': False,\n",
       "  'verified': False,\n",
       "  'followers_count': 86,\n",
       "  'friends_count': 259,\n",
       "  'listed_count': 1,\n",
       "  'favourites_count': 4562,\n",
       "  'statuses_count': 21141,\n",
       "  'created_at': 'Tue May 07 08:27:08 +0000 2013',\n",
       "  'utc_offset': None,\n",
       "  'time_zone': None,\n",
       "  'geo_enabled': False,\n",
       "  'lang': 'en',\n",
       "  'contributors_enabled': False,\n",
       "  'is_translator': False,\n",
       "  'profile_background_color': 'C0DEED',\n",
       "  'profile_background_image_url': 'http://abs.twimg.com/images/themes/theme1/bg.png',\n",
       "  'profile_background_image_url_https': 'https://abs.twimg.com/images/themes/theme1/bg.png',\n",
       "  'profile_background_tile': True,\n",
       "  'profile_link_color': '0084B4',\n",
       "  'profile_sidebar_border_color': 'FFFFFF',\n",
       "  'profile_sidebar_fill_color': 'DDEEF6',\n",
       "  'profile_text_color': '333333',\n",
       "  'profile_use_background_image': True,\n",
       "  'profile_image_url': 'http://pbs.twimg.com/profile_images/1039387051911565313/SlnBPn9w_normal.jpg',\n",
       "  'profile_image_url_https': 'https://pbs.twimg.com/profile_images/1039387051911565313/SlnBPn9w_normal.jpg',\n",
       "  'profile_banner_url': 'https://pbs.twimg.com/profile_banners/1409724073/1537582489',\n",
       "  'default_profile': False,\n",
       "  'default_profile_image': False,\n",
       "  'following': None,\n",
       "  'follow_request_sent': None,\n",
       "  'notifications': None},\n",
       " 'geo': None,\n",
       " 'coordinates': None,\n",
       " 'place': None,\n",
       " 'contributors': None,\n",
       " 'retweeted_status': {'created_at': 'Mon Oct 01 06:20:02 +0000 2018',\n",
       "  'id': 1046645896186753024,\n",
       "  'id_str': '1046645896186753024',\n",
       "  'text': 'BI: We were really honoured to be able to perform in such a huge event. Indonesia is a foreign country and we sang… https://t.co/CaH1AYM57a',\n",
       "  'display_text_range': [0, 140],\n",
       "  'source': '<a href=\"http://twitter.com/download/iphone\" rel=\"nofollow\">Twitter for iPhone</a>',\n",
       "  'truncated': True,\n",
       "  'in_reply_to_status_id': None,\n",
       "  'in_reply_to_status_id_str': None,\n",
       "  'in_reply_to_user_id': None,\n",
       "  'in_reply_to_user_id_str': None,\n",
       "  'in_reply_to_screen_name': None,\n",
       "  'user': {'id': 1867811862,\n",
       "   'id_str': '1867811862',\n",
       "   'name': '아샤 🍒 iKON 이별길',\n",
       "   'screen_name': 'JCHANW00_',\n",
       "   'location': None,\n",
       "   'url': 'https://youtu.be/-dVq27gOIzM',\n",
       "   'description': '나의 베프 아이콘 —🌙 | 📌 KR-ENG 🍎🌈 | 너무 쉽게 또 한사람과 남이 되었다,고작 이별하기 위해 널 사랑한건 아닌데.',\n",
       "   'translator_type': 'none',\n",
       "   'protected': False,\n",
       "   'verified': False,\n",
       "   'followers_count': 4604,\n",
       "   'friends_count': 103,\n",
       "   'listed_count': 77,\n",
       "   'favourites_count': 31851,\n",
       "   'statuses_count': 100901,\n",
       "   'created_at': 'Sun Sep 15 14:00:06 +0000 2013',\n",
       "   'utc_offset': None,\n",
       "   'time_zone': None,\n",
       "   'geo_enabled': True,\n",
       "   'lang': 'en',\n",
       "   'contributors_enabled': False,\n",
       "   'is_translator': False,\n",
       "   'profile_background_color': 'E6176A',\n",
       "   'profile_background_image_url': 'http://abs.twimg.com/images/themes/theme1/bg.png',\n",
       "   'profile_background_image_url_https': 'https://abs.twimg.com/images/themes/theme1/bg.png',\n",
       "   'profile_background_tile': True,\n",
       "   'profile_link_color': 'E81C4F',\n",
       "   'profile_sidebar_border_color': 'FFFFFF',\n",
       "   'profile_sidebar_fill_color': 'DDEEF6',\n",
       "   'profile_text_color': '333333',\n",
       "   'profile_use_background_image': True,\n",
       "   'profile_image_url': 'http://pbs.twimg.com/profile_images/1044860536981213184/VPBx6S6O_normal.jpg',\n",
       "   'profile_image_url_https': 'https://pbs.twimg.com/profile_images/1044860536981213184/VPBx6S6O_normal.jpg',\n",
       "   'profile_banner_url': 'https://pbs.twimg.com/profile_banners/1867811862/1534608401',\n",
       "   'default_profile': False,\n",
       "   'default_profile_image': False,\n",
       "   'following': None,\n",
       "   'follow_request_sent': None,\n",
       "   'notifications': None},\n",
       "  'geo': None,\n",
       "  'coordinates': None,\n",
       "  'place': None,\n",
       "  'contributors': None,\n",
       "  'is_quote_status': False,\n",
       "  'extended_tweet': {'full_text': 'BI: We were really honoured to be able to perform in such a huge event. Indonesia is a foreign country and we sang the song in Korean but all the fans were able to sing along and we got goosebumps. It’s a moment we will not be able to forget. \\n\\nLink: https://t.co/5JGVpS26H9 https://t.co/EelcXoL2UE',\n",
       "   'display_text_range': [0, 274],\n",
       "   'entities': {'hashtags': [],\n",
       "    'urls': [{'url': 'https://t.co/5JGVpS26H9',\n",
       "      'expanded_url': 'https://entertain.naver.com/read?oid=108&aid=0002731206',\n",
       "      'display_url': 'entertain.naver.com/read?oid=108&a…',\n",
       "      'indices': [251, 274]}],\n",
       "    'user_mentions': [],\n",
       "    'symbols': [],\n",
       "    'media': [{'id': 1046645888158814208,\n",
       "      'id_str': '1046645888158814208',\n",
       "      'indices': [275, 298],\n",
       "      'media_url': 'http://pbs.twimg.com/media/DoZu49FUUAAQLD6.jpg',\n",
       "      'media_url_https': 'https://pbs.twimg.com/media/DoZu49FUUAAQLD6.jpg',\n",
       "      'url': 'https://t.co/EelcXoL2UE',\n",
       "      'display_url': 'pic.twitter.com/EelcXoL2UE',\n",
       "      'expanded_url': 'https://twitter.com/JCHANW00_/status/1046645896186753024/photo/1',\n",
       "      'type': 'photo',\n",
       "      'sizes': {'thumb': {'w': 150, 'h': 150, 'resize': 'crop'},\n",
       "       'small': {'w': 680, 'h': 189, 'resize': 'fit'},\n",
       "       'medium': {'w': 1024, 'h': 284, 'resize': 'fit'},\n",
       "       'large': {'w': 1024, 'h': 284, 'resize': 'fit'}}}]},\n",
       "   'extended_entities': {'media': [{'id': 1046645888158814208,\n",
       "      'id_str': '1046645888158814208',\n",
       "      'indices': [275, 298],\n",
       "      'media_url': 'http://pbs.twimg.com/media/DoZu49FUUAAQLD6.jpg',\n",
       "      'media_url_https': 'https://pbs.twimg.com/media/DoZu49FUUAAQLD6.jpg',\n",
       "      'url': 'https://t.co/EelcXoL2UE',\n",
       "      'display_url': 'pic.twitter.com/EelcXoL2UE',\n",
       "      'expanded_url': 'https://twitter.com/JCHANW00_/status/1046645896186753024/photo/1',\n",
       "      'type': 'photo',\n",
       "      'sizes': {'thumb': {'w': 150, 'h': 150, 'resize': 'crop'},\n",
       "       'small': {'w': 680, 'h': 189, 'resize': 'fit'},\n",
       "       'medium': {'w': 1024, 'h': 284, 'resize': 'fit'},\n",
       "       'large': {'w': 1024, 'h': 284, 'resize': 'fit'}}}]}},\n",
       "  'quote_count': 8,\n",
       "  'reply_count': 0,\n",
       "  'retweet_count': 188,\n",
       "  'favorite_count': 140,\n",
       "  'entities': {'hashtags': [],\n",
       "   'urls': [{'url': 'https://t.co/CaH1AYM57a',\n",
       "     'expanded_url': 'https://twitter.com/i/web/status/1046645896186753024',\n",
       "     'display_url': 'twitter.com/i/web/status/1…',\n",
       "     'indices': [116, 139]}],\n",
       "   'user_mentions': [],\n",
       "   'symbols': []},\n",
       "  'favorited': False,\n",
       "  'retweeted': False,\n",
       "  'possibly_sensitive': False,\n",
       "  'filter_level': 'low',\n",
       "  'lang': 'en'},\n",
       " 'is_quote_status': False,\n",
       " 'quote_count': 0,\n",
       " 'reply_count': 0,\n",
       " 'retweet_count': 0,\n",
       " 'favorite_count': 0,\n",
       " 'entities': {'hashtags': [],\n",
       "  'urls': [],\n",
       "  'user_mentions': [{'screen_name': 'JCHANW00_',\n",
       "    'name': '아샤 🍒 iKON 이별길',\n",
       "    'id': 1867811862,\n",
       "    'id_str': '1867811862',\n",
       "    'indices': [3, 13]}],\n",
       "  'symbols': []},\n",
       " 'favorited': False,\n",
       " 'retweeted': False,\n",
       " 'filter_level': 'low',\n",
       " 'lang': 'en',\n",
       " 'timestamp_ms': '1538375387664'}"
      ]
     },
     "execution_count": 289,
     "metadata": {},
     "output_type": "execute_result"
    }
   ],
   "source": [
    "repet[2]"
   ]
  },
  {
   "cell_type": "code",
   "execution_count": 299,
   "metadata": {
    "ExecuteTime": {
     "end_time": "2019-11-18T13:09:02.740644Z",
     "start_time": "2019-11-18T13:09:02.735862Z"
    }
   },
   "outputs": [
    {
     "data": {
      "text/plain": [
       "dict_keys(['created_at', 'id', 'id_str', 'text', 'source', 'truncated', 'in_reply_to_status_id', 'in_reply_to_status_id_str', 'in_reply_to_user_id', 'in_reply_to_user_id_str', 'in_reply_to_screen_name', 'user', 'geo', 'coordinates', 'place', 'contributors', 'retweeted_status', 'is_quote_status', 'quote_count', 'reply_count', 'retweet_count', 'favorite_count', 'entities', 'favorited', 'retweeted', 'filter_level', 'lang', 'timestamp_ms'])"
      ]
     },
     "execution_count": 299,
     "metadata": {},
     "output_type": "execute_result"
    }
   ],
   "source": [
    "repet[0].keys()"
   ]
  },
  {
   "cell_type": "code",
   "execution_count": 297,
   "metadata": {
    "ExecuteTime": {
     "end_time": "2019-11-18T07:12:19.304582Z",
     "start_time": "2019-11-18T07:12:19.301575Z"
    }
   },
   "outputs": [],
   "source": [
    "if True or repet['test']:\n",
    "    pass"
   ]
  },
  {
   "cell_type": "code",
   "execution_count": 292,
   "metadata": {
    "ExecuteTime": {
     "end_time": "2019-11-18T06:54:58.911194Z",
     "start_time": "2019-11-18T06:54:58.905936Z"
    }
   },
   "outputs": [
    {
     "data": {
      "text/plain": [
       "{'id': 'e3e9c55876b99760',\n",
       " 'url': 'https://api.twitter.com/1.1/geo/id/e3e9c55876b99760.json',\n",
       " 'place_type': 'country',\n",
       " 'name': 'Bahrain',\n",
       " 'full_name': 'Bahrain',\n",
       " 'country_code': 'BH',\n",
       " 'country': 'Bahrain',\n",
       " 'bounding_box': {'type': 'Polygon',\n",
       "  'coordinates': [[[50.325113, 25.570496],\n",
       "    [50.325113, 26.334108],\n",
       "    [50.822634, 26.334108],\n",
       "    [50.822634, 25.570496]]]},\n",
       " 'attributes': {}}"
      ]
     },
     "execution_count": 292,
     "metadata": {},
     "output_type": "execute_result"
    }
   ],
   "source": [
    "place[0]"
   ]
  },
  {
   "cell_type": "code",
   "execution_count": 276,
   "metadata": {
    "ExecuteTime": {
     "end_time": "2019-11-18T06:33:44.943146Z",
     "start_time": "2019-11-18T06:33:44.938557Z"
    }
   },
   "outputs": [
    {
     "data": {
      "text/plain": [
       "21"
      ]
     },
     "execution_count": 276,
     "metadata": {},
     "output_type": "execute_result"
    }
   ],
   "source": [
    "tweets.index(repet[0]['text'])"
   ]
  },
  {
   "cell_type": "code",
   "execution_count": 229,
   "metadata": {
    "ExecuteTime": {
     "end_time": "2019-11-17T10:35:33.825355Z",
     "start_time": "2019-11-17T10:35:33.821100Z"
    }
   },
   "outputs": [
    {
     "data": {
      "text/plain": [
       "dict_keys(['created_at', 'id', 'id_str', 'text', 'source', 'truncated', 'in_reply_to_status_id', 'in_reply_to_status_id_str', 'in_reply_to_user_id', 'in_reply_to_user_id_str', 'in_reply_to_screen_name', 'user', 'geo', 'coordinates', 'place', 'contributors', 'retweeted_status', 'is_quote_status', 'quote_count', 'reply_count', 'retweet_count', 'favorite_count', 'entities', 'extended_entities', 'favorited', 'retweeted', 'possibly_sensitive', 'filter_level', 'lang', 'timestamp_ms'])"
      ]
     },
     "execution_count": 229,
     "metadata": {},
     "output_type": "execute_result"
    }
   ],
   "source": [
    "datas[0].keys()"
   ]
  },
  {
   "cell_type": "code",
   "execution_count": 230,
   "metadata": {
    "ExecuteTime": {
     "end_time": "2019-11-17T10:36:50.342316Z",
     "start_time": "2019-11-17T10:36:50.338115Z"
    }
   },
   "outputs": [
    {
     "data": {
      "text/plain": [
       "'RT @Laksana_Fiction: Naskah-Naskah Nonfiksi yang Laku di Penerbit Mayor (Bag. 1) https://t.co/G3SQlPrzwp https://t.co/1lBjTFunBj'"
      ]
     },
     "execution_count": 230,
     "metadata": {},
     "output_type": "execute_result"
    }
   ],
   "source": [
    "datas[0]['text']"
   ]
  },
  {
   "cell_type": "code",
   "execution_count": 1,
   "metadata": {
    "ExecuteTime": {
     "end_time": "2020-03-03T03:49:21.496279Z",
     "start_time": "2020-03-03T03:49:20.899113Z"
    }
   },
   "outputs": [],
   "source": [
    "import nltk"
   ]
  },
  {
   "cell_type": "code",
   "execution_count": 2,
   "metadata": {
    "ExecuteTime": {
     "end_time": "2020-03-03T03:49:23.661776Z",
     "start_time": "2020-03-03T03:49:23.658618Z"
    }
   },
   "outputs": [],
   "source": [
    "test = open('./testData/01.txt', 'r', encoding='utf-8')"
   ]
  },
  {
   "cell_type": "code",
   "execution_count": 3,
   "metadata": {
    "ExecuteTime": {
     "end_time": "2020-03-03T03:49:24.201166Z",
     "start_time": "2020-03-03T03:49:24.198128Z"
    }
   },
   "outputs": [],
   "source": [
    "text = test.readline()"
   ]
  },
  {
   "cell_type": "code",
   "execution_count": 4,
   "metadata": {
    "ExecuteTime": {
     "end_time": "2020-03-03T03:49:24.706642Z",
     "start_time": "2020-03-03T03:49:24.698624Z"
    }
   },
   "outputs": [
    {
     "data": {
      "text/plain": [
       "' i don t think his pride the amount of influence he had with that name because a lot of fans thou \\n'"
      ]
     },
     "execution_count": 4,
     "metadata": {},
     "output_type": "execute_result"
    }
   ],
   "source": [
    "text"
   ]
  },
  {
   "cell_type": "code",
   "execution_count": 10,
   "metadata": {
    "ExecuteTime": {
     "end_time": "2020-03-03T04:28:12.997292Z",
     "start_time": "2020-03-03T04:28:12.988287Z"
    }
   },
   "outputs": [],
   "source": [
    "tokens = nltk.word_tokenize(text=text)"
   ]
  },
  {
   "cell_type": "code",
   "execution_count": 12,
   "metadata": {
    "ExecuteTime": {
     "end_time": "2020-03-03T04:35:24.188757Z",
     "start_time": "2020-03-03T04:35:24.184423Z"
    }
   },
   "outputs": [
    {
     "data": {
      "text/plain": [
       "['i',\n",
       " 'don',\n",
       " 't',\n",
       " 'think',\n",
       " 'his',\n",
       " 'pride',\n",
       " 'the',\n",
       " 'amount',\n",
       " 'of',\n",
       " 'influence',\n",
       " 'he',\n",
       " 'had',\n",
       " 'with',\n",
       " 'that',\n",
       " 'name',\n",
       " 'because',\n",
       " 'a',\n",
       " 'lot',\n",
       " 'of',\n",
       " 'fans',\n",
       " 'thou']"
      ]
     },
     "execution_count": 12,
     "metadata": {},
     "output_type": "execute_result"
    }
   ],
   "source": [
    "tokens"
   ]
  },
  {
   "cell_type": "code",
   "execution_count": 13,
   "metadata": {
    "ExecuteTime": {
     "end_time": "2020-03-03T04:52:30.115217Z",
     "start_time": "2020-03-03T04:52:30.112519Z"
    }
   },
   "outputs": [],
   "source": [
    "from stop_words import get_stop_words"
   ]
  },
  {
   "cell_type": "code",
   "execution_count": 20,
   "metadata": {
    "ExecuteTime": {
     "end_time": "2020-03-03T04:54:28.975698Z",
     "start_time": "2020-03-03T04:54:28.971899Z"
    }
   },
   "outputs": [
    {
     "data": {
      "text/plain": [
       "179"
      ]
     },
     "execution_count": 20,
     "metadata": {},
     "output_type": "execute_result"
    }
   ],
   "source": [
    "len(words)"
   ]
  },
  {
   "cell_type": "code",
   "execution_count": 17,
   "metadata": {
    "ExecuteTime": {
     "end_time": "2020-03-03T04:53:41.194783Z",
     "start_time": "2020-03-03T04:53:41.192301Z"
    }
   },
   "outputs": [],
   "source": [
    "from nltk.corpus import stopwords"
   ]
  },
  {
   "cell_type": "code",
   "execution_count": 19,
   "metadata": {
    "ExecuteTime": {
     "end_time": "2020-03-03T04:54:25.074052Z",
     "start_time": "2020-03-03T04:54:25.070610Z"
    }
   },
   "outputs": [],
   "source": [
    "words = stopwords.words('english')"
   ]
  },
  {
   "cell_type": "code",
   "execution_count": 21,
   "metadata": {
    "ExecuteTime": {
     "end_time": "2020-03-03T04:54:35.141531Z",
     "start_time": "2020-03-03T04:54:35.135807Z"
    }
   },
   "outputs": [
    {
     "data": {
      "text/plain": [
       "['i',\n",
       " 'me',\n",
       " 'my',\n",
       " 'myself',\n",
       " 'we',\n",
       " 'our',\n",
       " 'ours',\n",
       " 'ourselves',\n",
       " 'you',\n",
       " \"you're\",\n",
       " \"you've\",\n",
       " \"you'll\",\n",
       " \"you'd\",\n",
       " 'your',\n",
       " 'yours',\n",
       " 'yourself',\n",
       " 'yourselves',\n",
       " 'he',\n",
       " 'him',\n",
       " 'his',\n",
       " 'himself',\n",
       " 'she',\n",
       " \"she's\",\n",
       " 'her',\n",
       " 'hers',\n",
       " 'herself',\n",
       " 'it',\n",
       " \"it's\",\n",
       " 'its',\n",
       " 'itself',\n",
       " 'they',\n",
       " 'them',\n",
       " 'their',\n",
       " 'theirs',\n",
       " 'themselves',\n",
       " 'what',\n",
       " 'which',\n",
       " 'who',\n",
       " 'whom',\n",
       " 'this',\n",
       " 'that',\n",
       " \"that'll\",\n",
       " 'these',\n",
       " 'those',\n",
       " 'am',\n",
       " 'is',\n",
       " 'are',\n",
       " 'was',\n",
       " 'were',\n",
       " 'be',\n",
       " 'been',\n",
       " 'being',\n",
       " 'have',\n",
       " 'has',\n",
       " 'had',\n",
       " 'having',\n",
       " 'do',\n",
       " 'does',\n",
       " 'did',\n",
       " 'doing',\n",
       " 'a',\n",
       " 'an',\n",
       " 'the',\n",
       " 'and',\n",
       " 'but',\n",
       " 'if',\n",
       " 'or',\n",
       " 'because',\n",
       " 'as',\n",
       " 'until',\n",
       " 'while',\n",
       " 'of',\n",
       " 'at',\n",
       " 'by',\n",
       " 'for',\n",
       " 'with',\n",
       " 'about',\n",
       " 'against',\n",
       " 'between',\n",
       " 'into',\n",
       " 'through',\n",
       " 'during',\n",
       " 'before',\n",
       " 'after',\n",
       " 'above',\n",
       " 'below',\n",
       " 'to',\n",
       " 'from',\n",
       " 'up',\n",
       " 'down',\n",
       " 'in',\n",
       " 'out',\n",
       " 'on',\n",
       " 'off',\n",
       " 'over',\n",
       " 'under',\n",
       " 'again',\n",
       " 'further',\n",
       " 'then',\n",
       " 'once',\n",
       " 'here',\n",
       " 'there',\n",
       " 'when',\n",
       " 'where',\n",
       " 'why',\n",
       " 'how',\n",
       " 'all',\n",
       " 'any',\n",
       " 'both',\n",
       " 'each',\n",
       " 'few',\n",
       " 'more',\n",
       " 'most',\n",
       " 'other',\n",
       " 'some',\n",
       " 'such',\n",
       " 'no',\n",
       " 'nor',\n",
       " 'not',\n",
       " 'only',\n",
       " 'own',\n",
       " 'same',\n",
       " 'so',\n",
       " 'than',\n",
       " 'too',\n",
       " 'very',\n",
       " 's',\n",
       " 't',\n",
       " 'can',\n",
       " 'will',\n",
       " 'just',\n",
       " 'don',\n",
       " \"don't\",\n",
       " 'should',\n",
       " \"should've\",\n",
       " 'now',\n",
       " 'd',\n",
       " 'll',\n",
       " 'm',\n",
       " 'o',\n",
       " 're',\n",
       " 've',\n",
       " 'y',\n",
       " 'ain',\n",
       " 'aren',\n",
       " \"aren't\",\n",
       " 'couldn',\n",
       " \"couldn't\",\n",
       " 'didn',\n",
       " \"didn't\",\n",
       " 'doesn',\n",
       " \"doesn't\",\n",
       " 'hadn',\n",
       " \"hadn't\",\n",
       " 'hasn',\n",
       " \"hasn't\",\n",
       " 'haven',\n",
       " \"haven't\",\n",
       " 'isn',\n",
       " \"isn't\",\n",
       " 'ma',\n",
       " 'mightn',\n",
       " \"mightn't\",\n",
       " 'mustn',\n",
       " \"mustn't\",\n",
       " 'needn',\n",
       " \"needn't\",\n",
       " 'shan',\n",
       " \"shan't\",\n",
       " 'shouldn',\n",
       " \"shouldn't\",\n",
       " 'wasn',\n",
       " \"wasn't\",\n",
       " 'weren',\n",
       " \"weren't\",\n",
       " 'won',\n",
       " \"won't\",\n",
       " 'wouldn',\n",
       " \"wouldn't\"]"
      ]
     },
     "execution_count": 21,
     "metadata": {},
     "output_type": "execute_result"
    }
   ],
   "source": [
    "words"
   ]
  },
  {
   "cell_type": "code",
   "execution_count": 5,
   "metadata": {
    "ExecuteTime": {
     "end_time": "2020-03-04T03:05:26.328935Z",
     "start_time": "2020-03-04T03:05:26.324372Z"
    }
   },
   "outputs": [],
   "source": [
    "import os\n",
    "def find_suffix(suffix, dir_path):\n",
    "    '''find all files ending with suffix in directory'''\n",
    "    if not os.path.exists(dir_path):\n",
    "        print('no such file')\n",
    "        exit(0)\n",
    "    name_buffer = []\n",
    "    for file in os.listdir(dir_path):\n",
    "        if file[0] == \".\":\n",
    "            continue\n",
    "        subpath = os.path.join(dir_path, file)\n",
    "        if os.path.isdir(subpath):\n",
    "            name_buffer += find_suffix(suffix, subpath)\n",
    "        else:\n",
    "            if file.endswith(suffix):\n",
    "                name_buffer.append(subpath)\n",
    "    return name_buffer"
   ]
  },
  {
   "cell_type": "code",
   "execution_count": 3,
   "metadata": {
    "ExecuteTime": {
     "end_time": "2020-03-04T03:03:59.011042Z",
     "start_time": "2020-03-04T03:03:59.006542Z"
    }
   },
   "outputs": [],
   "source": [
    "def rank_retweets(in_dir):\n",
    "    '''return the top retweets'''\n",
    "    record = {}\n",
    "    file_list = find_suffix('json', in_dir)\n",
    "    for file in file_list:\n",
    "        with open(file, 'r', encoding='utf-8') as f:\n",
    "            temp = \"\"\n",
    "            for line in f:\n",
    "                if line = '\\n': continue\n",
    "                else: temp += line\n",
    "                    \n",
    "                if '}' in line:\n",
    "                    data = json.loads(temp, encoding='utf-8')\n",
    "                    for text, value in data.items():\n",
    "                        if text not in record:\n",
    "                            record[text] = value\n",
    "                        else:\n",
    "                            record[text] += value\n",
    "                    temp = \"\"\n",
    "                            \n",
    "    rank_result = sorted(record.items(), lambda x: x[1], reverse=True)\n",
    "    return rank_result"
   ]
  },
  {
   "cell_type": "code",
   "execution_count": 7,
   "metadata": {
    "ExecuteTime": {
     "end_time": "2020-03-04T03:05:41.993357Z",
     "start_time": "2020-03-04T03:05:41.977797Z"
    }
   },
   "outputs": [
    {
     "ename": "JSONDecodeError",
     "evalue": "Expecting property name enclosed in double quotes: line 2 column 1 (char 2)",
     "output_type": "error",
     "traceback": [
      "\u001b[0;31m---------------------------------------------------------------------------\u001b[0m",
      "\u001b[0;31mJSONDecodeError\u001b[0m                           Traceback (most recent call last)",
      "\u001b[0;32m<ipython-input-7-b492b2517575>\u001b[0m in \u001b[0;36m<module>\u001b[0;34m()\u001b[0m\n\u001b[0;32m----> 1\u001b[0;31m \u001b[0mresult\u001b[0m \u001b[0;34m=\u001b[0m \u001b[0mrank_retweets\u001b[0m\u001b[0;34m(\u001b[0m\u001b[0;34m'./Data/topics/Retweets/2018/01'\u001b[0m\u001b[0;34m)\u001b[0m\u001b[0;34m\u001b[0m\u001b[0m\n\u001b[0m",
      "\u001b[0;32m<ipython-input-3-53d9ad4c3b37>\u001b[0m in \u001b[0;36mrank_retweets\u001b[0;34m(in_dir)\u001b[0m\n\u001b[1;32m      6\u001b[0m         \u001b[0;32mwith\u001b[0m \u001b[0mopen\u001b[0m\u001b[0;34m(\u001b[0m\u001b[0mfile\u001b[0m\u001b[0;34m,\u001b[0m \u001b[0;34m'r'\u001b[0m\u001b[0;34m,\u001b[0m \u001b[0mencoding\u001b[0m\u001b[0;34m=\u001b[0m\u001b[0;34m'utf-8'\u001b[0m\u001b[0;34m)\u001b[0m \u001b[0;32mas\u001b[0m \u001b[0mf\u001b[0m\u001b[0;34m:\u001b[0m\u001b[0;34m\u001b[0m\u001b[0m\n\u001b[1;32m      7\u001b[0m             \u001b[0;32mfor\u001b[0m \u001b[0mline\u001b[0m \u001b[0;32min\u001b[0m \u001b[0mf\u001b[0m\u001b[0;34m:\u001b[0m\u001b[0;34m\u001b[0m\u001b[0m\n\u001b[0;32m----> 8\u001b[0;31m                 \u001b[0mdata\u001b[0m \u001b[0;34m=\u001b[0m \u001b[0mjson\u001b[0m\u001b[0;34m.\u001b[0m\u001b[0mloads\u001b[0m\u001b[0;34m(\u001b[0m\u001b[0mline\u001b[0m\u001b[0;34m,\u001b[0m \u001b[0mencoding\u001b[0m\u001b[0;34m=\u001b[0m\u001b[0;34m'utf-8'\u001b[0m\u001b[0;34m)\u001b[0m\u001b[0;34m\u001b[0m\u001b[0m\n\u001b[0m\u001b[1;32m      9\u001b[0m                 \u001b[0;32mfor\u001b[0m \u001b[0mtext\u001b[0m\u001b[0;34m,\u001b[0m \u001b[0mvalue\u001b[0m \u001b[0;32min\u001b[0m \u001b[0mdata\u001b[0m\u001b[0;34m.\u001b[0m\u001b[0mitems\u001b[0m\u001b[0;34m(\u001b[0m\u001b[0;34m)\u001b[0m\u001b[0;34m:\u001b[0m\u001b[0;34m\u001b[0m\u001b[0m\n\u001b[1;32m     10\u001b[0m                     \u001b[0;32mif\u001b[0m \u001b[0mtext\u001b[0m \u001b[0;32mnot\u001b[0m \u001b[0;32min\u001b[0m \u001b[0mrecord\u001b[0m\u001b[0;34m:\u001b[0m\u001b[0;34m\u001b[0m\u001b[0m\n",
      "\u001b[0;32m/Library/Frameworks/Python.framework/Versions/3.6/lib/python3.6/json/__init__.py\u001b[0m in \u001b[0;36mloads\u001b[0;34m(s, encoding, cls, object_hook, parse_float, parse_int, parse_constant, object_pairs_hook, **kw)\u001b[0m\n\u001b[1;32m    352\u001b[0m             \u001b[0mparse_int\u001b[0m \u001b[0;32mis\u001b[0m \u001b[0;32mNone\u001b[0m \u001b[0;32mand\u001b[0m \u001b[0mparse_float\u001b[0m \u001b[0;32mis\u001b[0m \u001b[0;32mNone\u001b[0m \u001b[0;32mand\u001b[0m\u001b[0;34m\u001b[0m\u001b[0m\n\u001b[1;32m    353\u001b[0m             parse_constant is None and object_pairs_hook is None and not kw):\n\u001b[0;32m--> 354\u001b[0;31m         \u001b[0;32mreturn\u001b[0m \u001b[0m_default_decoder\u001b[0m\u001b[0;34m.\u001b[0m\u001b[0mdecode\u001b[0m\u001b[0;34m(\u001b[0m\u001b[0ms\u001b[0m\u001b[0;34m)\u001b[0m\u001b[0;34m\u001b[0m\u001b[0m\n\u001b[0m\u001b[1;32m    355\u001b[0m     \u001b[0;32mif\u001b[0m \u001b[0mcls\u001b[0m \u001b[0;32mis\u001b[0m \u001b[0;32mNone\u001b[0m\u001b[0;34m:\u001b[0m\u001b[0;34m\u001b[0m\u001b[0m\n\u001b[1;32m    356\u001b[0m         \u001b[0mcls\u001b[0m \u001b[0;34m=\u001b[0m \u001b[0mJSONDecoder\u001b[0m\u001b[0;34m\u001b[0m\u001b[0m\n",
      "\u001b[0;32m/Library/Frameworks/Python.framework/Versions/3.6/lib/python3.6/json/decoder.py\u001b[0m in \u001b[0;36mdecode\u001b[0;34m(self, s, _w)\u001b[0m\n\u001b[1;32m    337\u001b[0m \u001b[0;34m\u001b[0m\u001b[0m\n\u001b[1;32m    338\u001b[0m         \"\"\"\n\u001b[0;32m--> 339\u001b[0;31m         \u001b[0mobj\u001b[0m\u001b[0;34m,\u001b[0m \u001b[0mend\u001b[0m \u001b[0;34m=\u001b[0m \u001b[0mself\u001b[0m\u001b[0;34m.\u001b[0m\u001b[0mraw_decode\u001b[0m\u001b[0;34m(\u001b[0m\u001b[0ms\u001b[0m\u001b[0;34m,\u001b[0m \u001b[0midx\u001b[0m\u001b[0;34m=\u001b[0m\u001b[0m_w\u001b[0m\u001b[0;34m(\u001b[0m\u001b[0ms\u001b[0m\u001b[0;34m,\u001b[0m \u001b[0;36m0\u001b[0m\u001b[0;34m)\u001b[0m\u001b[0;34m.\u001b[0m\u001b[0mend\u001b[0m\u001b[0;34m(\u001b[0m\u001b[0;34m)\u001b[0m\u001b[0;34m)\u001b[0m\u001b[0;34m\u001b[0m\u001b[0m\n\u001b[0m\u001b[1;32m    340\u001b[0m         \u001b[0mend\u001b[0m \u001b[0;34m=\u001b[0m \u001b[0m_w\u001b[0m\u001b[0;34m(\u001b[0m\u001b[0ms\u001b[0m\u001b[0;34m,\u001b[0m \u001b[0mend\u001b[0m\u001b[0;34m)\u001b[0m\u001b[0;34m.\u001b[0m\u001b[0mend\u001b[0m\u001b[0;34m(\u001b[0m\u001b[0;34m)\u001b[0m\u001b[0;34m\u001b[0m\u001b[0m\n\u001b[1;32m    341\u001b[0m         \u001b[0;32mif\u001b[0m \u001b[0mend\u001b[0m \u001b[0;34m!=\u001b[0m \u001b[0mlen\u001b[0m\u001b[0;34m(\u001b[0m\u001b[0ms\u001b[0m\u001b[0;34m)\u001b[0m\u001b[0;34m:\u001b[0m\u001b[0;34m\u001b[0m\u001b[0m\n",
      "\u001b[0;32m/Library/Frameworks/Python.framework/Versions/3.6/lib/python3.6/json/decoder.py\u001b[0m in \u001b[0;36mraw_decode\u001b[0;34m(self, s, idx)\u001b[0m\n\u001b[1;32m    353\u001b[0m         \"\"\"\n\u001b[1;32m    354\u001b[0m         \u001b[0;32mtry\u001b[0m\u001b[0;34m:\u001b[0m\u001b[0;34m\u001b[0m\u001b[0m\n\u001b[0;32m--> 355\u001b[0;31m             \u001b[0mobj\u001b[0m\u001b[0;34m,\u001b[0m \u001b[0mend\u001b[0m \u001b[0;34m=\u001b[0m \u001b[0mself\u001b[0m\u001b[0;34m.\u001b[0m\u001b[0mscan_once\u001b[0m\u001b[0;34m(\u001b[0m\u001b[0ms\u001b[0m\u001b[0;34m,\u001b[0m \u001b[0midx\u001b[0m\u001b[0;34m)\u001b[0m\u001b[0;34m\u001b[0m\u001b[0m\n\u001b[0m\u001b[1;32m    356\u001b[0m         \u001b[0;32mexcept\u001b[0m \u001b[0mStopIteration\u001b[0m \u001b[0;32mas\u001b[0m \u001b[0merr\u001b[0m\u001b[0;34m:\u001b[0m\u001b[0;34m\u001b[0m\u001b[0m\n\u001b[1;32m    357\u001b[0m             \u001b[0;32mraise\u001b[0m \u001b[0mJSONDecodeError\u001b[0m\u001b[0;34m(\u001b[0m\u001b[0;34m\"Expecting value\"\u001b[0m\u001b[0;34m,\u001b[0m \u001b[0ms\u001b[0m\u001b[0;34m,\u001b[0m \u001b[0merr\u001b[0m\u001b[0;34m.\u001b[0m\u001b[0mvalue\u001b[0m\u001b[0;34m)\u001b[0m \u001b[0;32mfrom\u001b[0m \u001b[0;32mNone\u001b[0m\u001b[0;34m\u001b[0m\u001b[0m\n",
      "\u001b[0;31mJSONDecodeError\u001b[0m: Expecting property name enclosed in double quotes: line 2 column 1 (char 2)"
     ]
    }
   ],
   "source": [
    "result = rank_retweets('./Data/topics/Retweets/2018/01')"
   ]
  },
  {
   "cell_type": "code",
   "execution_count": 8,
   "metadata": {
    "ExecuteTime": {
     "end_time": "2020-03-04T03:11:20.686039Z",
     "start_time": "2020-03-04T03:11:20.683029Z"
    }
   },
   "outputs": [],
   "source": [
    "fp = open('./Data/topics/Retweets/2018/01/2018_01_01.json') "
   ]
  },
  {
   "cell_type": "code",
   "execution_count": 12,
   "metadata": {
    "ExecuteTime": {
     "end_time": "2020-03-04T03:11:42.622565Z",
     "start_time": "2020-03-04T03:11:42.619911Z"
    }
   },
   "outputs": [],
   "source": [
    "line = fp.readline()"
   ]
  },
  {
   "cell_type": "code",
   "execution_count": 13,
   "metadata": {
    "ExecuteTime": {
     "end_time": "2020-03-04T03:11:43.138762Z",
     "start_time": "2020-03-04T03:11:43.134203Z"
    }
   },
   "outputs": [
    {
     "data": {
      "text/plain": [
       "'    \"Nothing but respect @coach_frost he didn\\\\u2019t bail on the kids he stayed and finished his job and coached them in the bowl\\\\u2026\": 1,\\n'"
      ]
     },
     "execution_count": 13,
     "metadata": {},
     "output_type": "execute_result"
    }
   ],
   "source": [
    "line"
   ]
  },
  {
   "cell_type": "code",
   "execution_count": 15,
   "metadata": {
    "ExecuteTime": {
     "end_time": "2020-03-04T03:21:09.323133Z",
     "start_time": "2020-03-04T03:21:09.320811Z"
    }
   },
   "outputs": [],
   "source": [
    "fp.close()"
   ]
  },
  {
   "cell_type": "code",
   "execution_count": null,
   "metadata": {},
   "outputs": [],
   "source": []
  }
 ],
 "metadata": {
  "hide_input": false,
  "kernelspec": {
   "display_name": "Python 3",
   "language": "python",
   "name": "python3"
  },
  "language_info": {
   "codemirror_mode": {
    "name": "ipython",
    "version": 3
   },
   "file_extension": ".py",
   "mimetype": "text/x-python",
   "name": "python",
   "nbconvert_exporter": "python",
   "pygments_lexer": "ipython3",
   "version": "3.6.5"
  },
  "varInspector": {
   "cols": {
    "lenName": 16,
    "lenType": 16,
    "lenVar": 40
   },
   "kernels_config": {
    "python": {
     "delete_cmd_postfix": "",
     "delete_cmd_prefix": "del ",
     "library": "var_list.py",
     "varRefreshCmd": "print(var_dic_list())"
    },
    "r": {
     "delete_cmd_postfix": ") ",
     "delete_cmd_prefix": "rm(",
     "library": "var_list.r",
     "varRefreshCmd": "cat(var_dic_list()) "
    }
   },
   "types_to_exclude": [
    "module",
    "function",
    "builtin_function_or_method",
    "instance",
    "_Feature"
   ],
   "window_display": false
  }
 },
 "nbformat": 4,
 "nbformat_minor": 2
}
