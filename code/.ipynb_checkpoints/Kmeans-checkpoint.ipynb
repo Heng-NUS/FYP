{
 "cells": [
  {
   "cell_type": "code",
   "execution_count": 1,
   "metadata": {
    "ExecuteTime": {
     "end_time": "2020-04-06T06:48:38.680249Z",
     "start_time": "2020-04-06T06:48:36.912261Z"
    }
   },
   "outputs": [],
   "source": [
    "import pickle\n",
    "import json\n",
    "from gensim.corpora import Dictionary\n",
    "import gensim\n",
    "import torch\n",
    "import torch.nn as nn\n",
    "from modeling import *\n",
    "from config import SUconfig"
   ]
  },
  {
   "cell_type": "code",
   "execution_count": 10,
   "metadata": {
    "ExecuteTime": {
     "end_time": "2020-04-06T06:54:09.428271Z",
     "start_time": "2020-04-06T06:54:04.308861Z"
    }
   },
   "outputs": [
    {
     "name": "stdout",
     "output_type": "stream",
     "text": [
      "Loaded 72498 training examples\n",
      "Loaded 22656 test examples\n",
      "Loaded 18125 validation examples\n"
     ]
    }
   ],
   "source": [
    "config = SUconfig()\n",
    "dataset = Dataset(config)\n",
    "dataset.load_data(\"train.txt\", \"test.txt\")"
   ]
  },
  {
   "cell_type": "code",
   "execution_count": 11,
   "metadata": {
    "ExecuteTime": {
     "end_time": "2020-04-06T06:54:13.873283Z",
     "start_time": "2020-04-06T06:54:13.836020Z"
    }
   },
   "outputs": [],
   "source": [
    "model = TextCNN(config, len(dataset.vocab), dataset.word_embeddings)\n",
    "device = torch.device(\"cuda:0\" if torch.cuda.is_available() else \"cpu\")"
   ]
  },
  {
   "cell_type": "code",
   "execution_count": 5,
   "metadata": {
    "ExecuteTime": {
     "end_time": "2020-04-06T06:49:38.740185Z",
     "start_time": "2020-04-06T06:49:37.990317Z"
    }
   },
   "outputs": [],
   "source": [
    "test_X, test_Y = read_labeled('test.txt')"
   ]
  },
  {
   "cell_type": "code",
   "execution_count": 34,
   "metadata": {
    "ExecuteTime": {
     "end_time": "2020-04-06T07:09:06.472004Z",
     "start_time": "2020-04-06T07:09:06.467034Z"
    }
   },
   "outputs": [],
   "source": [
    "def predict(vocab, tokens, label, max_sen_len, model):\n",
    "    '''predict the class of a single text'''\n",
    "    model = model.to(device)\n",
    "    model.eval()\n",
    "    padded = doc_padding(tokens, max_sen_len)\n",
    "    x = torch.LongTensor([vocab.doc2idx(padded, 1)]).to(device)\n",
    "    y_pred = model(x)\n",
    "    predicted = torch.max(y_pred.cpu().data, 1)[1]\n",
    "    predicted = predicted.numpy()[0]\n",
    "    if predicted != label:\n",
    "        print(' '.join(tokens))\n",
    "        print('predict class:', predicted, \"True class:\", label)\n",
    "        return False"
   ]
  },
  {
   "cell_type": "code",
   "execution_count": 16,
   "metadata": {
    "ExecuteTime": {
     "end_time": "2020-04-06T06:56:03.423603Z",
     "start_time": "2020-04-06T06:56:03.406147Z"
    }
   },
   "outputs": [
    {
     "data": {
      "text/plain": [
       "TextCNN(\n",
       "  (embeddings): Embedding(44791, 100, padding_idx=1)\n",
       "  (conv1): Sequential(\n",
       "    (0): Conv1d(100, 100, kernel_size=(3,), stride=(1,))\n",
       "    (1): ReLU()\n",
       "    (2): MaxPool1d(kernel_size=13, stride=13, padding=0, dilation=1, ceil_mode=False)\n",
       "  )\n",
       "  (conv2): Sequential(\n",
       "    (0): Conv1d(100, 100, kernel_size=(4,), stride=(1,))\n",
       "    (1): ReLU()\n",
       "    (2): MaxPool1d(kernel_size=12, stride=12, padding=0, dilation=1, ceil_mode=False)\n",
       "  )\n",
       "  (conv3): Sequential(\n",
       "    (0): Conv1d(100, 100, kernel_size=(5,), stride=(1,))\n",
       "    (1): ReLU()\n",
       "    (2): MaxPool1d(kernel_size=11, stride=11, padding=0, dilation=1, ceil_mode=False)\n",
       "  )\n",
       "  (dropout): Dropout(p=0.5, inplace=False)\n",
       "  (fc): Linear(in_features=300, out_features=2, bias=True)\n",
       ")"
      ]
     },
     "execution_count": 16,
     "metadata": {},
     "output_type": "execute_result"
    }
   ],
   "source": [
    "model.load_state_dict(torch.load('textcnn_parameter.pkl',map_location=torch.device('cpu')))\n",
    "model.eval()"
   ]
  },
  {
   "cell_type": "code",
   "execution_count": 33,
   "metadata": {
    "ExecuteTime": {
     "end_time": "2020-04-06T07:06:18.694428Z",
     "start_time": "2020-04-06T07:06:18.687067Z"
    }
   },
   "outputs": [
    {
     "name": "stdout",
     "output_type": "stream",
     "text": [
      "meat seafood prices rising on drought and disease usda predict class: tensor([1]) True class: 1\n"
     ]
    }
   ],
   "source": [
    "\n",
    "ra = random.randint(0,len(test_X))\n",
    "predict(dataset.vocab, test_X[ra], test_Y[ra], 15, model)"
   ]
  },
  {
   "cell_type": "code",
   "execution_count": 20,
   "metadata": {
    "ExecuteTime": {
     "end_time": "2020-04-06T06:57:23.306065Z",
     "start_time": "2020-04-06T06:57:23.301131Z"
    }
   },
   "outputs": [
    {
     "data": {
      "text/plain": [
       "21270"
      ]
     },
     "execution_count": 20,
     "metadata": {},
     "output_type": "execute_result"
    }
   ],
   "source": []
  },
  {
   "cell_type": "code",
   "execution_count": null,
   "metadata": {},
   "outputs": [],
   "source": []
  }
 ],
 "metadata": {
  "hide_input": false,
  "kernelspec": {
   "display_name": "Python 3",
   "language": "python",
   "name": "python3"
  },
  "language_info": {
   "codemirror_mode": {
    "name": "ipython",
    "version": 3
   },
   "file_extension": ".py",
   "mimetype": "text/x-python",
   "name": "python",
   "nbconvert_exporter": "python",
   "pygments_lexer": "ipython3",
   "version": "3.6.5"
  },
  "varInspector": {
   "cols": {
    "lenName": 16,
    "lenType": 16,
    "lenVar": 40
   },
   "kernels_config": {
    "python": {
     "delete_cmd_postfix": "",
     "delete_cmd_prefix": "del ",
     "library": "var_list.py",
     "varRefreshCmd": "print(var_dic_list())"
    },
    "r": {
     "delete_cmd_postfix": ") ",
     "delete_cmd_prefix": "rm(",
     "library": "var_list.r",
     "varRefreshCmd": "cat(var_dic_list()) "
    }
   },
   "types_to_exclude": [
    "module",
    "function",
    "builtin_function_or_method",
    "instance",
    "_Feature"
   ],
   "window_display": false
  }
 },
 "nbformat": 4,
 "nbformat_minor": 4
}
